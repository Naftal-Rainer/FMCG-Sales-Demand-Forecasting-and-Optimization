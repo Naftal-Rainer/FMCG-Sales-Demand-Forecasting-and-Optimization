{
 "cells": [
  {
   "cell_type": "markdown",
   "metadata": {},
   "source": [
    "FMCG Sales Data for Time Series Forecasting and Decision Analysis\n",
    "\n",
    "# Problem Background\n",
    " In the fast-paced world of Fast-Moving Consumer Goods (FMCG), understanding sales dynamics can be the difference between a product flying off the shelves or gathering dust. \n",
    " This dataset offers a glimpse into the intricate dance of sales volume, pricing, promotions, and more across various store locations.\n",
    "\n",
    "# Problem Definition\n",
    "Use the data to predict sales volume based on other features provided.\n",
    "\n",
    "\n",
    "# Data \n",
    "  https://www.kaggle.com/datasets/krishanukalita/fmcg-sales-demand-forecasting-and-optimization/data\n",
    "\n",
    "\n"
   ]
  },
  {
   "cell_type": "code",
   "execution_count": 3,
   "metadata": {},
   "outputs": [],
   "source": [
    "import numpy as np\n",
    "import pandas as pd\n",
    "import matplotlib.pyplot as plt\n",
    "import seaborn as sns\n",
    "\n",
    "# Suppress warnings\n",
    "import warnings\n",
    "warnings.filterwarnings('ignore')\n",
    "\n",
    "# Import ml libraries\n",
    "from sklearn.linear_model import LinearRegression \n",
    "from sklearn.model_selection import train_test_split\n",
    "from sklearn.metrics import mean_squared_log_error, mean_absolute_error, r2_score\n",
    "\n",
    "from sklearn.tree import export_graphviz"
   ]
  },
  {
   "cell_type": "code",
   "execution_count": 6,
   "metadata": {},
   "outputs": [
    {
     "data": {
      "application/vnd.microsoft.datawrangler.viewer.v0+json": {
       "columns": [
        {
         "name": "index",
         "rawType": "int64",
         "type": "integer"
        },
        {
         "name": "Date",
         "rawType": "datetime64[ns]",
         "type": "datetime"
        },
        {
         "name": "Product_Category",
         "rawType": "object",
         "type": "string"
        },
        {
         "name": "Sales_Volume",
         "rawType": "int64",
         "type": "integer"
        },
        {
         "name": "Price",
         "rawType": "float64",
         "type": "float"
        },
        {
         "name": "Promotion",
         "rawType": "int64",
         "type": "integer"
        },
        {
         "name": "Store_Location",
         "rawType": "object",
         "type": "string"
        },
        {
         "name": "Weekday",
         "rawType": "int64",
         "type": "integer"
        },
        {
         "name": "Supplier_Cost",
         "rawType": "float64",
         "type": "float"
        },
        {
         "name": "Replenishment_Lead_Time",
         "rawType": "int64",
         "type": "integer"
        },
        {
         "name": "Stock_Level",
         "rawType": "int64",
         "type": "integer"
        }
       ],
       "conversionMethod": "pd.DataFrame",
       "ref": "cce3a184-832b-49b6-8801-26071b8f2259",
       "rows": [
        [
         "0",
         "2022-01-01 00:00:00",
         "Household",
         "1583",
         "5.190661373524142",
         "0",
         "Urban",
         "5",
         "9.299280855332018",
         "9",
         "207"
        ],
        [
         "1",
         "2022-01-02 00:00:00",
         "Personal Care",
         "1103",
         "8.949595984685402",
         "0",
         "Urban",
         "6",
         "13.274108581775032",
         "5",
         "253"
        ],
        [
         "2",
         "2022-01-03 00:00:00",
         "Dairy",
         "455",
         "4.867987326502611",
         "0",
         "Rural",
         "0",
         "13.302264839521472",
         "9",
         "245"
        ],
        [
         "3",
         "2022-01-04 00:00:00",
         "Personal Care",
         "1107",
         "16.968595719261735",
         "1",
         "Urban",
         "1",
         "10.056158446917369",
         "5",
         "265"
        ],
        [
         "4",
         "2022-01-05 00:00:00",
         "Personal Care",
         "1447",
         "4.309673394986819",
         "1",
         "Rural",
         "2",
         "3.5628615563574995",
         "8",
         "334"
        ]
       ],
       "shape": {
        "columns": 10,
        "rows": 5
       }
      },
      "text/html": [
       "<div>\n",
       "<style scoped>\n",
       "    .dataframe tbody tr th:only-of-type {\n",
       "        vertical-align: middle;\n",
       "    }\n",
       "\n",
       "    .dataframe tbody tr th {\n",
       "        vertical-align: top;\n",
       "    }\n",
       "\n",
       "    .dataframe thead th {\n",
       "        text-align: right;\n",
       "    }\n",
       "</style>\n",
       "<table border=\"1\" class=\"dataframe\">\n",
       "  <thead>\n",
       "    <tr style=\"text-align: right;\">\n",
       "      <th></th>\n",
       "      <th>Date</th>\n",
       "      <th>Product_Category</th>\n",
       "      <th>Sales_Volume</th>\n",
       "      <th>Price</th>\n",
       "      <th>Promotion</th>\n",
       "      <th>Store_Location</th>\n",
       "      <th>Weekday</th>\n",
       "      <th>Supplier_Cost</th>\n",
       "      <th>Replenishment_Lead_Time</th>\n",
       "      <th>Stock_Level</th>\n",
       "    </tr>\n",
       "  </thead>\n",
       "  <tbody>\n",
       "    <tr>\n",
       "      <th>0</th>\n",
       "      <td>2022-01-01</td>\n",
       "      <td>Household</td>\n",
       "      <td>1583</td>\n",
       "      <td>5.190661</td>\n",
       "      <td>0</td>\n",
       "      <td>Urban</td>\n",
       "      <td>5</td>\n",
       "      <td>9.299281</td>\n",
       "      <td>9</td>\n",
       "      <td>207</td>\n",
       "    </tr>\n",
       "    <tr>\n",
       "      <th>1</th>\n",
       "      <td>2022-01-02</td>\n",
       "      <td>Personal Care</td>\n",
       "      <td>1103</td>\n",
       "      <td>8.949596</td>\n",
       "      <td>0</td>\n",
       "      <td>Urban</td>\n",
       "      <td>6</td>\n",
       "      <td>13.274109</td>\n",
       "      <td>5</td>\n",
       "      <td>253</td>\n",
       "    </tr>\n",
       "    <tr>\n",
       "      <th>2</th>\n",
       "      <td>2022-01-03</td>\n",
       "      <td>Dairy</td>\n",
       "      <td>455</td>\n",
       "      <td>4.867987</td>\n",
       "      <td>0</td>\n",
       "      <td>Rural</td>\n",
       "      <td>0</td>\n",
       "      <td>13.302265</td>\n",
       "      <td>9</td>\n",
       "      <td>245</td>\n",
       "    </tr>\n",
       "    <tr>\n",
       "      <th>3</th>\n",
       "      <td>2022-01-04</td>\n",
       "      <td>Personal Care</td>\n",
       "      <td>1107</td>\n",
       "      <td>16.968596</td>\n",
       "      <td>1</td>\n",
       "      <td>Urban</td>\n",
       "      <td>1</td>\n",
       "      <td>10.056158</td>\n",
       "      <td>5</td>\n",
       "      <td>265</td>\n",
       "    </tr>\n",
       "    <tr>\n",
       "      <th>4</th>\n",
       "      <td>2022-01-05</td>\n",
       "      <td>Personal Care</td>\n",
       "      <td>1447</td>\n",
       "      <td>4.309673</td>\n",
       "      <td>1</td>\n",
       "      <td>Rural</td>\n",
       "      <td>2</td>\n",
       "      <td>3.562862</td>\n",
       "      <td>8</td>\n",
       "      <td>334</td>\n",
       "    </tr>\n",
       "  </tbody>\n",
       "</table>\n",
       "</div>"
      ],
      "text/plain": [
       "        Date Product_Category  Sales_Volume      Price  Promotion  \\\n",
       "0 2022-01-01        Household          1583   5.190661          0   \n",
       "1 2022-01-02    Personal Care          1103   8.949596          0   \n",
       "2 2022-01-03            Dairy           455   4.867987          0   \n",
       "3 2022-01-04    Personal Care          1107  16.968596          1   \n",
       "4 2022-01-05    Personal Care          1447   4.309673          1   \n",
       "\n",
       "  Store_Location  Weekday  Supplier_Cost  Replenishment_Lead_Time  Stock_Level  \n",
       "0          Urban        5       9.299281                        9          207  \n",
       "1          Urban        6      13.274109                        5          253  \n",
       "2          Rural        0      13.302265                        9          245  \n",
       "3          Urban        1      10.056158                        5          265  \n",
       "4          Rural        2       3.562862                        8          334  "
      ]
     },
     "execution_count": 6,
     "metadata": {},
     "output_type": "execute_result"
    }
   ],
   "source": [
    "df = pd.read_csv('extended_fmcg_demand_forecasting.csv', parse_dates=['Date'])\n",
    "df.head()"
   ]
  },
  {
   "cell_type": "code",
   "execution_count": 7,
   "metadata": {},
   "outputs": [
    {
     "data": {
      "text/plain": [
       "Index(['Date', 'Product_Category', 'Sales_Volume', 'Price', 'Promotion',\n",
       "       'Store_Location', 'Weekday', 'Supplier_Cost', 'Replenishment_Lead_Time',\n",
       "       'Stock_Level'],\n",
       "      dtype='object')"
      ]
     },
     "execution_count": 7,
     "metadata": {},
     "output_type": "execute_result"
    }
   ],
   "source": [
    "df.columns"
   ]
  },
  {
   "cell_type": "code",
   "execution_count": 8,
   "metadata": {},
   "outputs": [
    {
     "name": "stdout",
     "output_type": "stream",
     "text": [
      "<class 'pandas.core.frame.DataFrame'>\n",
      "RangeIndex: 1000 entries, 0 to 999\n",
      "Data columns (total 10 columns):\n",
      " #   Column                   Non-Null Count  Dtype         \n",
      "---  ------                   --------------  -----         \n",
      " 0   Date                     1000 non-null   datetime64[ns]\n",
      " 1   Product_Category         1000 non-null   object        \n",
      " 2   Sales_Volume             1000 non-null   int64         \n",
      " 3   Price                    1000 non-null   float64       \n",
      " 4   Promotion                1000 non-null   int64         \n",
      " 5   Store_Location           1000 non-null   object        \n",
      " 6   Weekday                  1000 non-null   int64         \n",
      " 7   Supplier_Cost            1000 non-null   float64       \n",
      " 8   Replenishment_Lead_Time  1000 non-null   int64         \n",
      " 9   Stock_Level              1000 non-null   int64         \n",
      "dtypes: datetime64[ns](1), float64(2), int64(5), object(2)\n",
      "memory usage: 78.2+ KB\n"
     ]
    }
   ],
   "source": [
    "df.info()"
   ]
  },
  {
   "cell_type": "markdown",
   "metadata": {},
   "source": [
    "##### Checking for missing values if any"
   ]
  },
  {
   "cell_type": "code",
   "execution_count": 9,
   "metadata": {},
   "outputs": [
    {
     "data": {
      "text/plain": [
       "Date                       0\n",
       "Product_Category           0\n",
       "Sales_Volume               0\n",
       "Price                      0\n",
       "Promotion                  0\n",
       "Store_Location             0\n",
       "Weekday                    0\n",
       "Supplier_Cost              0\n",
       "Replenishment_Lead_Time    0\n",
       "Stock_Level                0\n",
       "dtype: int64"
      ]
     },
     "execution_count": 9,
     "metadata": {},
     "output_type": "execute_result"
    }
   ],
   "source": [
    "df.isna().sum()"
   ]
  },
  {
   "cell_type": "markdown",
   "metadata": {},
   "source": [
    "### Feature Engineering"
   ]
  },
  {
   "cell_type": "code",
   "execution_count": 10,
   "metadata": {},
   "outputs": [],
   "source": [
    "data = df.copy()"
   ]
  },
  {
   "cell_type": "code",
   "execution_count": 14,
   "metadata": {},
   "outputs": [
    {
     "data": {
      "application/vnd.microsoft.datawrangler.viewer.v0+json": {
       "columns": [
        {
         "name": "index",
         "rawType": "int64",
         "type": "integer"
        },
        {
         "name": "Date",
         "rawType": "datetime64[ns]",
         "type": "datetime"
        },
        {
         "name": "Product_Category",
         "rawType": "object",
         "type": "string"
        },
        {
         "name": "Sales_Volume",
         "rawType": "int64",
         "type": "integer"
        },
        {
         "name": "Price",
         "rawType": "float64",
         "type": "float"
        },
        {
         "name": "Promotion",
         "rawType": "int64",
         "type": "integer"
        },
        {
         "name": "Store_Location",
         "rawType": "object",
         "type": "string"
        },
        {
         "name": "Weekday",
         "rawType": "int64",
         "type": "integer"
        },
        {
         "name": "Supplier_Cost",
         "rawType": "float64",
         "type": "float"
        },
        {
         "name": "Replenishment_Lead_Time",
         "rawType": "int64",
         "type": "integer"
        },
        {
         "name": "Stock_Level",
         "rawType": "int64",
         "type": "integer"
        },
        {
         "name": "Year",
         "rawType": "int64",
         "type": "integer"
        },
        {
         "name": "Month",
         "rawType": "int64",
         "type": "integer"
        }
       ],
       "conversionMethod": "pd.DataFrame",
       "ref": "013f6a46-c7c1-4daa-95a8-6801e9d4b3a2",
       "rows": [
        [
         "0",
         "2022-01-01 00:00:00",
         "Household",
         "1583",
         "5.190661373524142",
         "0",
         "Urban",
         "5",
         "9.299280855332018",
         "9",
         "207",
         "2022",
         "1"
        ],
        [
         "1",
         "2022-01-02 00:00:00",
         "Personal Care",
         "1103",
         "8.949595984685402",
         "0",
         "Urban",
         "6",
         "13.274108581775032",
         "5",
         "253",
         "2022",
         "1"
        ],
        [
         "2",
         "2022-01-03 00:00:00",
         "Dairy",
         "455",
         "4.867987326502611",
         "0",
         "Rural",
         "0",
         "13.302264839521472",
         "9",
         "245",
         "2022",
         "1"
        ],
        [
         "3",
         "2022-01-04 00:00:00",
         "Personal Care",
         "1107",
         "16.968595719261735",
         "1",
         "Urban",
         "1",
         "10.056158446917369",
         "5",
         "265",
         "2022",
         "1"
        ],
        [
         "4",
         "2022-01-05 00:00:00",
         "Personal Care",
         "1447",
         "4.309673394986819",
         "1",
         "Rural",
         "2",
         "3.5628615563574995",
         "8",
         "334",
         "2022",
         "1"
        ]
       ],
       "shape": {
        "columns": 12,
        "rows": 5
       }
      },
      "text/html": [
       "<div>\n",
       "<style scoped>\n",
       "    .dataframe tbody tr th:only-of-type {\n",
       "        vertical-align: middle;\n",
       "    }\n",
       "\n",
       "    .dataframe tbody tr th {\n",
       "        vertical-align: top;\n",
       "    }\n",
       "\n",
       "    .dataframe thead th {\n",
       "        text-align: right;\n",
       "    }\n",
       "</style>\n",
       "<table border=\"1\" class=\"dataframe\">\n",
       "  <thead>\n",
       "    <tr style=\"text-align: right;\">\n",
       "      <th></th>\n",
       "      <th>Date</th>\n",
       "      <th>Product_Category</th>\n",
       "      <th>Sales_Volume</th>\n",
       "      <th>Price</th>\n",
       "      <th>Promotion</th>\n",
       "      <th>Store_Location</th>\n",
       "      <th>Weekday</th>\n",
       "      <th>Supplier_Cost</th>\n",
       "      <th>Replenishment_Lead_Time</th>\n",
       "      <th>Stock_Level</th>\n",
       "      <th>Year</th>\n",
       "      <th>Month</th>\n",
       "    </tr>\n",
       "  </thead>\n",
       "  <tbody>\n",
       "    <tr>\n",
       "      <th>0</th>\n",
       "      <td>2022-01-01</td>\n",
       "      <td>Household</td>\n",
       "      <td>1583</td>\n",
       "      <td>5.190661</td>\n",
       "      <td>0</td>\n",
       "      <td>Urban</td>\n",
       "      <td>5</td>\n",
       "      <td>9.299281</td>\n",
       "      <td>9</td>\n",
       "      <td>207</td>\n",
       "      <td>2022</td>\n",
       "      <td>1</td>\n",
       "    </tr>\n",
       "    <tr>\n",
       "      <th>1</th>\n",
       "      <td>2022-01-02</td>\n",
       "      <td>Personal Care</td>\n",
       "      <td>1103</td>\n",
       "      <td>8.949596</td>\n",
       "      <td>0</td>\n",
       "      <td>Urban</td>\n",
       "      <td>6</td>\n",
       "      <td>13.274109</td>\n",
       "      <td>5</td>\n",
       "      <td>253</td>\n",
       "      <td>2022</td>\n",
       "      <td>1</td>\n",
       "    </tr>\n",
       "    <tr>\n",
       "      <th>2</th>\n",
       "      <td>2022-01-03</td>\n",
       "      <td>Dairy</td>\n",
       "      <td>455</td>\n",
       "      <td>4.867987</td>\n",
       "      <td>0</td>\n",
       "      <td>Rural</td>\n",
       "      <td>0</td>\n",
       "      <td>13.302265</td>\n",
       "      <td>9</td>\n",
       "      <td>245</td>\n",
       "      <td>2022</td>\n",
       "      <td>1</td>\n",
       "    </tr>\n",
       "    <tr>\n",
       "      <th>3</th>\n",
       "      <td>2022-01-04</td>\n",
       "      <td>Personal Care</td>\n",
       "      <td>1107</td>\n",
       "      <td>16.968596</td>\n",
       "      <td>1</td>\n",
       "      <td>Urban</td>\n",
       "      <td>1</td>\n",
       "      <td>10.056158</td>\n",
       "      <td>5</td>\n",
       "      <td>265</td>\n",
       "      <td>2022</td>\n",
       "      <td>1</td>\n",
       "    </tr>\n",
       "    <tr>\n",
       "      <th>4</th>\n",
       "      <td>2022-01-05</td>\n",
       "      <td>Personal Care</td>\n",
       "      <td>1447</td>\n",
       "      <td>4.309673</td>\n",
       "      <td>1</td>\n",
       "      <td>Rural</td>\n",
       "      <td>2</td>\n",
       "      <td>3.562862</td>\n",
       "      <td>8</td>\n",
       "      <td>334</td>\n",
       "      <td>2022</td>\n",
       "      <td>1</td>\n",
       "    </tr>\n",
       "  </tbody>\n",
       "</table>\n",
       "</div>"
      ],
      "text/plain": [
       "        Date Product_Category  Sales_Volume      Price  Promotion  \\\n",
       "0 2022-01-01        Household          1583   5.190661          0   \n",
       "1 2022-01-02    Personal Care          1103   8.949596          0   \n",
       "2 2022-01-03            Dairy           455   4.867987          0   \n",
       "3 2022-01-04    Personal Care          1107  16.968596          1   \n",
       "4 2022-01-05    Personal Care          1447   4.309673          1   \n",
       "\n",
       "  Store_Location  Weekday  Supplier_Cost  Replenishment_Lead_Time  \\\n",
       "0          Urban        5       9.299281                        9   \n",
       "1          Urban        6      13.274109                        5   \n",
       "2          Rural        0      13.302265                        9   \n",
       "3          Urban        1      10.056158                        5   \n",
       "4          Rural        2       3.562862                        8   \n",
       "\n",
       "   Stock_Level  Year  Month  \n",
       "0          207  2022      1  \n",
       "1          253  2022      1  \n",
       "2          245  2022      1  \n",
       "3          265  2022      1  \n",
       "4          334  2022      1  "
      ]
     },
     "execution_count": 14,
     "metadata": {},
     "output_type": "execute_result"
    }
   ],
   "source": [
    "data['Year'] = data.Date.dt.year\n",
    "data['Month'] = data.Date.dt.month\n",
    "data.head()"
   ]
  },
  {
   "cell_type": "code",
   "execution_count": 15,
   "metadata": {},
   "outputs": [
    {
     "data": {
      "application/vnd.microsoft.datawrangler.viewer.v0+json": {
       "columns": [
        {
         "name": "index",
         "rawType": "int64",
         "type": "integer"
        },
        {
         "name": "Product_Category",
         "rawType": "object",
         "type": "string"
        },
        {
         "name": "Sales_Volume",
         "rawType": "int64",
         "type": "integer"
        },
        {
         "name": "Price",
         "rawType": "float64",
         "type": "float"
        },
        {
         "name": "Promotion",
         "rawType": "int64",
         "type": "integer"
        },
        {
         "name": "Store_Location",
         "rawType": "object",
         "type": "string"
        },
        {
         "name": "Weekday",
         "rawType": "int64",
         "type": "integer"
        },
        {
         "name": "Supplier_Cost",
         "rawType": "float64",
         "type": "float"
        },
        {
         "name": "Replenishment_Lead_Time",
         "rawType": "int64",
         "type": "integer"
        },
        {
         "name": "Stock_Level",
         "rawType": "int64",
         "type": "integer"
        },
        {
         "name": "Year",
         "rawType": "int64",
         "type": "integer"
        },
        {
         "name": "Month",
         "rawType": "int64",
         "type": "integer"
        }
       ],
       "conversionMethod": "pd.DataFrame",
       "ref": "98f8da5a-dfc0-4f37-85bf-7b975d9b5ba8",
       "rows": [
        [
         "0",
         "Household",
         "1583",
         "5.190661373524142",
         "0",
         "Urban",
         "5",
         "9.299280855332018",
         "9",
         "207",
         "2022",
         "1"
        ],
        [
         "1",
         "Personal Care",
         "1103",
         "8.949595984685402",
         "0",
         "Urban",
         "6",
         "13.274108581775032",
         "5",
         "253",
         "2022",
         "1"
        ],
        [
         "2",
         "Dairy",
         "455",
         "4.867987326502611",
         "0",
         "Rural",
         "0",
         "13.302264839521472",
         "9",
         "245",
         "2022",
         "1"
        ],
        [
         "3",
         "Personal Care",
         "1107",
         "16.968595719261735",
         "1",
         "Urban",
         "1",
         "10.056158446917369",
         "5",
         "265",
         "2022",
         "1"
        ],
        [
         "4",
         "Personal Care",
         "1447",
         "4.309673394986819",
         "1",
         "Rural",
         "2",
         "3.5628615563574995",
         "8",
         "334",
         "2022",
         "1"
        ]
       ],
       "shape": {
        "columns": 11,
        "rows": 5
       }
      },
      "text/html": [
       "<div>\n",
       "<style scoped>\n",
       "    .dataframe tbody tr th:only-of-type {\n",
       "        vertical-align: middle;\n",
       "    }\n",
       "\n",
       "    .dataframe tbody tr th {\n",
       "        vertical-align: top;\n",
       "    }\n",
       "\n",
       "    .dataframe thead th {\n",
       "        text-align: right;\n",
       "    }\n",
       "</style>\n",
       "<table border=\"1\" class=\"dataframe\">\n",
       "  <thead>\n",
       "    <tr style=\"text-align: right;\">\n",
       "      <th></th>\n",
       "      <th>Product_Category</th>\n",
       "      <th>Sales_Volume</th>\n",
       "      <th>Price</th>\n",
       "      <th>Promotion</th>\n",
       "      <th>Store_Location</th>\n",
       "      <th>Weekday</th>\n",
       "      <th>Supplier_Cost</th>\n",
       "      <th>Replenishment_Lead_Time</th>\n",
       "      <th>Stock_Level</th>\n",
       "      <th>Year</th>\n",
       "      <th>Month</th>\n",
       "    </tr>\n",
       "  </thead>\n",
       "  <tbody>\n",
       "    <tr>\n",
       "      <th>0</th>\n",
       "      <td>Household</td>\n",
       "      <td>1583</td>\n",
       "      <td>5.190661</td>\n",
       "      <td>0</td>\n",
       "      <td>Urban</td>\n",
       "      <td>5</td>\n",
       "      <td>9.299281</td>\n",
       "      <td>9</td>\n",
       "      <td>207</td>\n",
       "      <td>2022</td>\n",
       "      <td>1</td>\n",
       "    </tr>\n",
       "    <tr>\n",
       "      <th>1</th>\n",
       "      <td>Personal Care</td>\n",
       "      <td>1103</td>\n",
       "      <td>8.949596</td>\n",
       "      <td>0</td>\n",
       "      <td>Urban</td>\n",
       "      <td>6</td>\n",
       "      <td>13.274109</td>\n",
       "      <td>5</td>\n",
       "      <td>253</td>\n",
       "      <td>2022</td>\n",
       "      <td>1</td>\n",
       "    </tr>\n",
       "    <tr>\n",
       "      <th>2</th>\n",
       "      <td>Dairy</td>\n",
       "      <td>455</td>\n",
       "      <td>4.867987</td>\n",
       "      <td>0</td>\n",
       "      <td>Rural</td>\n",
       "      <td>0</td>\n",
       "      <td>13.302265</td>\n",
       "      <td>9</td>\n",
       "      <td>245</td>\n",
       "      <td>2022</td>\n",
       "      <td>1</td>\n",
       "    </tr>\n",
       "    <tr>\n",
       "      <th>3</th>\n",
       "      <td>Personal Care</td>\n",
       "      <td>1107</td>\n",
       "      <td>16.968596</td>\n",
       "      <td>1</td>\n",
       "      <td>Urban</td>\n",
       "      <td>1</td>\n",
       "      <td>10.056158</td>\n",
       "      <td>5</td>\n",
       "      <td>265</td>\n",
       "      <td>2022</td>\n",
       "      <td>1</td>\n",
       "    </tr>\n",
       "    <tr>\n",
       "      <th>4</th>\n",
       "      <td>Personal Care</td>\n",
       "      <td>1447</td>\n",
       "      <td>4.309673</td>\n",
       "      <td>1</td>\n",
       "      <td>Rural</td>\n",
       "      <td>2</td>\n",
       "      <td>3.562862</td>\n",
       "      <td>8</td>\n",
       "      <td>334</td>\n",
       "      <td>2022</td>\n",
       "      <td>1</td>\n",
       "    </tr>\n",
       "  </tbody>\n",
       "</table>\n",
       "</div>"
      ],
      "text/plain": [
       "  Product_Category  Sales_Volume      Price  Promotion Store_Location  \\\n",
       "0        Household          1583   5.190661          0          Urban   \n",
       "1    Personal Care          1103   8.949596          0          Urban   \n",
       "2            Dairy           455   4.867987          0          Rural   \n",
       "3    Personal Care          1107  16.968596          1          Urban   \n",
       "4    Personal Care          1447   4.309673          1          Rural   \n",
       "\n",
       "   Weekday  Supplier_Cost  Replenishment_Lead_Time  Stock_Level  Year  Month  \n",
       "0        5       9.299281                        9          207  2022      1  \n",
       "1        6      13.274109                        5          253  2022      1  \n",
       "2        0      13.302265                        9          245  2022      1  \n",
       "3        1      10.056158                        5          265  2022      1  \n",
       "4        2       3.562862                        8          334  2022      1  "
      ]
     },
     "execution_count": 15,
     "metadata": {},
     "output_type": "execute_result"
    }
   ],
   "source": [
    "# Dropping date column\n",
    "data.drop(\"Date\", axis = 1, inplace=True)\n",
    "data.head()"
   ]
  },
  {
   "cell_type": "markdown",
   "metadata": {},
   "source": [
    "### Data Preprocessing\n",
    " - Converting Categorical variables to numerical"
   ]
  },
  {
   "cell_type": "code",
   "execution_count": null,
   "metadata": {},
   "outputs": [],
   "source": []
  }
 ],
 "metadata": {
  "kernelspec": {
   "display_name": "base",
   "language": "python",
   "name": "python3"
  },
  "language_info": {
   "codemirror_mode": {
    "name": "ipython",
    "version": 3
   },
   "file_extension": ".py",
   "mimetype": "text/x-python",
   "name": "python",
   "nbconvert_exporter": "python",
   "pygments_lexer": "ipython3",
   "version": "3.9.12"
  }
 },
 "nbformat": 4,
 "nbformat_minor": 2
}
