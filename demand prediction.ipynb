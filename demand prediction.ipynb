{
 "cells": [
  {
   "cell_type": "markdown",
   "metadata": {},
   "source": [
    "FMCG Sales Data for Time Series Forecasting and Decision Analysis\n",
    "\n",
    "# Problem Background\n",
    " In the fast-paced world of Fast-Moving Consumer Goods (FMCG), understanding sales dynamics can be the difference between a product flying off the shelves or gathering dust. \n",
    " This dataset offers a glimpse into the intricate dance of sales volume, pricing, promotions, and more across various store locations.\n",
    "\n",
    "# Problem Definition\n",
    "Use the data to predict sales volume based on other features provided.\n",
    "\n",
    "\n",
    "# Data \n",
    "  https://www.kaggle.com/datasets/krishanukalita/fmcg-sales-demand-forecasting-and-optimization/data\n",
    "\n",
    "\n"
   ]
  },
  {
   "cell_type": "code",
   "execution_count": 1,
   "metadata": {},
   "outputs": [],
   "source": [
    "import numpy as np\n",
    "import pandas as pd\n",
    "import matplotlib.pyplot as plt\n",
    "import seaborn as sns\n",
    "\n",
    "# Suppress warnings\n",
    "import warnings\n",
    "warnings.filterwarnings('ignore')\n",
    "\n",
    "# Import ml libraries\n",
    "from sklearn.preprocessing import StandardScaler\n",
    "from sklearn.linear_model import LinearRegression\n",
    "from sklearn import metrics\n",
    "from sklearn.model_selection import KFold \n",
    "from sklearn.model_selection import train_test_split\n",
    "from sklearn.metrics import mean_squared_log_error, mean_absolute_error, r2_score\n",
    "\n",
    "from sklearn.tree import export_graphviz"
   ]
  },
  {
   "cell_type": "code",
   "execution_count": 2,
   "metadata": {},
   "outputs": [
    {
     "data": {
      "application/vnd.microsoft.datawrangler.viewer.v0+json": {
       "columns": [
        {
         "name": "index",
         "rawType": "int64",
         "type": "integer"
        },
        {
         "name": "Date",
         "rawType": "datetime64[ns]",
         "type": "datetime"
        },
        {
         "name": "Product_Category",
         "rawType": "object",
         "type": "string"
        },
        {
         "name": "Sales_Volume",
         "rawType": "int64",
         "type": "integer"
        },
        {
         "name": "Price",
         "rawType": "float64",
         "type": "float"
        },
        {
         "name": "Promotion",
         "rawType": "int64",
         "type": "integer"
        },
        {
         "name": "Store_Location",
         "rawType": "object",
         "type": "string"
        },
        {
         "name": "Weekday",
         "rawType": "int64",
         "type": "integer"
        },
        {
         "name": "Supplier_Cost",
         "rawType": "float64",
         "type": "float"
        },
        {
         "name": "Replenishment_Lead_Time",
         "rawType": "int64",
         "type": "integer"
        },
        {
         "name": "Stock_Level",
         "rawType": "int64",
         "type": "integer"
        }
       ],
       "conversionMethod": "pd.DataFrame",
       "ref": "d4cb011d-c35d-4940-b10c-a10b35f425eb",
       "rows": [
        [
         "0",
         "2022-01-01 00:00:00",
         "Household",
         "1583",
         "5.190661373524142",
         "0",
         "Urban",
         "5",
         "9.299280855332018",
         "9",
         "207"
        ],
        [
         "1",
         "2022-01-02 00:00:00",
         "Personal Care",
         "1103",
         "8.949595984685402",
         "0",
         "Urban",
         "6",
         "13.274108581775032",
         "5",
         "253"
        ],
        [
         "2",
         "2022-01-03 00:00:00",
         "Dairy",
         "455",
         "4.867987326502611",
         "0",
         "Rural",
         "0",
         "13.302264839521472",
         "9",
         "245"
        ],
        [
         "3",
         "2022-01-04 00:00:00",
         "Personal Care",
         "1107",
         "16.968595719261735",
         "1",
         "Urban",
         "1",
         "10.056158446917369",
         "5",
         "265"
        ],
        [
         "4",
         "2022-01-05 00:00:00",
         "Personal Care",
         "1447",
         "4.309673394986819",
         "1",
         "Rural",
         "2",
         "3.5628615563574995",
         "8",
         "334"
        ]
       ],
       "shape": {
        "columns": 10,
        "rows": 5
       }
      },
      "text/html": [
       "<div>\n",
       "<style scoped>\n",
       "    .dataframe tbody tr th:only-of-type {\n",
       "        vertical-align: middle;\n",
       "    }\n",
       "\n",
       "    .dataframe tbody tr th {\n",
       "        vertical-align: top;\n",
       "    }\n",
       "\n",
       "    .dataframe thead th {\n",
       "        text-align: right;\n",
       "    }\n",
       "</style>\n",
       "<table border=\"1\" class=\"dataframe\">\n",
       "  <thead>\n",
       "    <tr style=\"text-align: right;\">\n",
       "      <th></th>\n",
       "      <th>Date</th>\n",
       "      <th>Product_Category</th>\n",
       "      <th>Sales_Volume</th>\n",
       "      <th>Price</th>\n",
       "      <th>Promotion</th>\n",
       "      <th>Store_Location</th>\n",
       "      <th>Weekday</th>\n",
       "      <th>Supplier_Cost</th>\n",
       "      <th>Replenishment_Lead_Time</th>\n",
       "      <th>Stock_Level</th>\n",
       "    </tr>\n",
       "  </thead>\n",
       "  <tbody>\n",
       "    <tr>\n",
       "      <th>0</th>\n",
       "      <td>2022-01-01</td>\n",
       "      <td>Household</td>\n",
       "      <td>1583</td>\n",
       "      <td>5.190661</td>\n",
       "      <td>0</td>\n",
       "      <td>Urban</td>\n",
       "      <td>5</td>\n",
       "      <td>9.299281</td>\n",
       "      <td>9</td>\n",
       "      <td>207</td>\n",
       "    </tr>\n",
       "    <tr>\n",
       "      <th>1</th>\n",
       "      <td>2022-01-02</td>\n",
       "      <td>Personal Care</td>\n",
       "      <td>1103</td>\n",
       "      <td>8.949596</td>\n",
       "      <td>0</td>\n",
       "      <td>Urban</td>\n",
       "      <td>6</td>\n",
       "      <td>13.274109</td>\n",
       "      <td>5</td>\n",
       "      <td>253</td>\n",
       "    </tr>\n",
       "    <tr>\n",
       "      <th>2</th>\n",
       "      <td>2022-01-03</td>\n",
       "      <td>Dairy</td>\n",
       "      <td>455</td>\n",
       "      <td>4.867987</td>\n",
       "      <td>0</td>\n",
       "      <td>Rural</td>\n",
       "      <td>0</td>\n",
       "      <td>13.302265</td>\n",
       "      <td>9</td>\n",
       "      <td>245</td>\n",
       "    </tr>\n",
       "    <tr>\n",
       "      <th>3</th>\n",
       "      <td>2022-01-04</td>\n",
       "      <td>Personal Care</td>\n",
       "      <td>1107</td>\n",
       "      <td>16.968596</td>\n",
       "      <td>1</td>\n",
       "      <td>Urban</td>\n",
       "      <td>1</td>\n",
       "      <td>10.056158</td>\n",
       "      <td>5</td>\n",
       "      <td>265</td>\n",
       "    </tr>\n",
       "    <tr>\n",
       "      <th>4</th>\n",
       "      <td>2022-01-05</td>\n",
       "      <td>Personal Care</td>\n",
       "      <td>1447</td>\n",
       "      <td>4.309673</td>\n",
       "      <td>1</td>\n",
       "      <td>Rural</td>\n",
       "      <td>2</td>\n",
       "      <td>3.562862</td>\n",
       "      <td>8</td>\n",
       "      <td>334</td>\n",
       "    </tr>\n",
       "  </tbody>\n",
       "</table>\n",
       "</div>"
      ],
      "text/plain": [
       "        Date Product_Category  Sales_Volume      Price  Promotion  \\\n",
       "0 2022-01-01        Household          1583   5.190661          0   \n",
       "1 2022-01-02    Personal Care          1103   8.949596          0   \n",
       "2 2022-01-03            Dairy           455   4.867987          0   \n",
       "3 2022-01-04    Personal Care          1107  16.968596          1   \n",
       "4 2022-01-05    Personal Care          1447   4.309673          1   \n",
       "\n",
       "  Store_Location  Weekday  Supplier_Cost  Replenishment_Lead_Time  Stock_Level  \n",
       "0          Urban        5       9.299281                        9          207  \n",
       "1          Urban        6      13.274109                        5          253  \n",
       "2          Rural        0      13.302265                        9          245  \n",
       "3          Urban        1      10.056158                        5          265  \n",
       "4          Rural        2       3.562862                        8          334  "
      ]
     },
     "execution_count": 2,
     "metadata": {},
     "output_type": "execute_result"
    }
   ],
   "source": [
    "df = pd.read_csv('extended_fmcg_demand_forecasting.csv', parse_dates=['Date'])\n",
    "df.head()"
   ]
  },
  {
   "cell_type": "code",
   "execution_count": 3,
   "metadata": {},
   "outputs": [
    {
     "data": {
      "text/plain": [
       "Index(['Date', 'Product_Category', 'Sales_Volume', 'Price', 'Promotion',\n",
       "       'Store_Location', 'Weekday', 'Supplier_Cost', 'Replenishment_Lead_Time',\n",
       "       'Stock_Level'],\n",
       "      dtype='object')"
      ]
     },
     "execution_count": 3,
     "metadata": {},
     "output_type": "execute_result"
    }
   ],
   "source": [
    "df.columns"
   ]
  },
  {
   "cell_type": "code",
   "execution_count": 4,
   "metadata": {},
   "outputs": [
    {
     "name": "stdout",
     "output_type": "stream",
     "text": [
      "<class 'pandas.core.frame.DataFrame'>\n",
      "RangeIndex: 1000 entries, 0 to 999\n",
      "Data columns (total 10 columns):\n",
      " #   Column                   Non-Null Count  Dtype         \n",
      "---  ------                   --------------  -----         \n",
      " 0   Date                     1000 non-null   datetime64[ns]\n",
      " 1   Product_Category         1000 non-null   object        \n",
      " 2   Sales_Volume             1000 non-null   int64         \n",
      " 3   Price                    1000 non-null   float64       \n",
      " 4   Promotion                1000 non-null   int64         \n",
      " 5   Store_Location           1000 non-null   object        \n",
      " 6   Weekday                  1000 non-null   int64         \n",
      " 7   Supplier_Cost            1000 non-null   float64       \n",
      " 8   Replenishment_Lead_Time  1000 non-null   int64         \n",
      " 9   Stock_Level              1000 non-null   int64         \n",
      "dtypes: datetime64[ns](1), float64(2), int64(5), object(2)\n",
      "memory usage: 78.2+ KB\n"
     ]
    }
   ],
   "source": [
    "df.info()"
   ]
  },
  {
   "cell_type": "markdown",
   "metadata": {},
   "source": [
    "##### Checking for missing values if any"
   ]
  },
  {
   "cell_type": "code",
   "execution_count": 5,
   "metadata": {},
   "outputs": [
    {
     "data": {
      "text/plain": [
       "Date                       0\n",
       "Product_Category           0\n",
       "Sales_Volume               0\n",
       "Price                      0\n",
       "Promotion                  0\n",
       "Store_Location             0\n",
       "Weekday                    0\n",
       "Supplier_Cost              0\n",
       "Replenishment_Lead_Time    0\n",
       "Stock_Level                0\n",
       "dtype: int64"
      ]
     },
     "execution_count": 5,
     "metadata": {},
     "output_type": "execute_result"
    }
   ],
   "source": [
    "df.isna().sum()"
   ]
  },
  {
   "cell_type": "markdown",
   "metadata": {},
   "source": [
    "#### Observing for trends \n",
    "\n",
    "##### 1.) What is the trends across the years of operations "
   ]
  },
  {
   "cell_type": "code",
   "execution_count": 6,
   "metadata": {},
   "outputs": [
    {
     "data": {
      "application/vnd.microsoft.datawrangler.viewer.v0+json": {
       "columns": [
        {
         "name": "index",
         "rawType": "int64",
         "type": "integer"
        },
        {
         "name": "Date",
         "rawType": "datetime64[ns]",
         "type": "datetime"
        },
        {
         "name": "Product_Category",
         "rawType": "object",
         "type": "string"
        },
        {
         "name": "Sales_Volume",
         "rawType": "int64",
         "type": "integer"
        },
        {
         "name": "Price",
         "rawType": "float64",
         "type": "float"
        },
        {
         "name": "Promotion",
         "rawType": "int64",
         "type": "integer"
        },
        {
         "name": "Store_Location",
         "rawType": "object",
         "type": "string"
        },
        {
         "name": "Weekday",
         "rawType": "int64",
         "type": "integer"
        },
        {
         "name": "Supplier_Cost",
         "rawType": "float64",
         "type": "float"
        },
        {
         "name": "Replenishment_Lead_Time",
         "rawType": "int64",
         "type": "integer"
        },
        {
         "name": "Stock_Level",
         "rawType": "int64",
         "type": "integer"
        },
        {
         "name": "Year",
         "rawType": "int64",
         "type": "integer"
        },
        {
         "name": "Month",
         "rawType": "int64",
         "type": "integer"
        }
       ],
       "conversionMethod": "pd.DataFrame",
       "ref": "7bf8252d-9d0b-4de5-b497-06e0ec98508d",
       "rows": [
        [
         "0",
         "2022-01-01 00:00:00",
         "Household",
         "1583",
         "5.190661373524142",
         "0",
         "Urban",
         "5",
         "9.299280855332018",
         "9",
         "207",
         "2022",
         "1"
        ],
        [
         "1",
         "2022-01-02 00:00:00",
         "Personal Care",
         "1103",
         "8.949595984685402",
         "0",
         "Urban",
         "6",
         "13.274108581775032",
         "5",
         "253",
         "2022",
         "1"
        ],
        [
         "2",
         "2022-01-03 00:00:00",
         "Dairy",
         "455",
         "4.867987326502611",
         "0",
         "Rural",
         "0",
         "13.302264839521472",
         "9",
         "245",
         "2022",
         "1"
        ],
        [
         "3",
         "2022-01-04 00:00:00",
         "Personal Care",
         "1107",
         "16.968595719261735",
         "1",
         "Urban",
         "1",
         "10.056158446917369",
         "5",
         "265",
         "2022",
         "1"
        ],
        [
         "4",
         "2022-01-05 00:00:00",
         "Personal Care",
         "1447",
         "4.309673394986819",
         "1",
         "Rural",
         "2",
         "3.5628615563574995",
         "8",
         "334",
         "2022",
         "1"
        ]
       ],
       "shape": {
        "columns": 12,
        "rows": 5
       }
      },
      "text/html": [
       "<div>\n",
       "<style scoped>\n",
       "    .dataframe tbody tr th:only-of-type {\n",
       "        vertical-align: middle;\n",
       "    }\n",
       "\n",
       "    .dataframe tbody tr th {\n",
       "        vertical-align: top;\n",
       "    }\n",
       "\n",
       "    .dataframe thead th {\n",
       "        text-align: right;\n",
       "    }\n",
       "</style>\n",
       "<table border=\"1\" class=\"dataframe\">\n",
       "  <thead>\n",
       "    <tr style=\"text-align: right;\">\n",
       "      <th></th>\n",
       "      <th>Date</th>\n",
       "      <th>Product_Category</th>\n",
       "      <th>Sales_Volume</th>\n",
       "      <th>Price</th>\n",
       "      <th>Promotion</th>\n",
       "      <th>Store_Location</th>\n",
       "      <th>Weekday</th>\n",
       "      <th>Supplier_Cost</th>\n",
       "      <th>Replenishment_Lead_Time</th>\n",
       "      <th>Stock_Level</th>\n",
       "      <th>Year</th>\n",
       "      <th>Month</th>\n",
       "    </tr>\n",
       "  </thead>\n",
       "  <tbody>\n",
       "    <tr>\n",
       "      <th>0</th>\n",
       "      <td>2022-01-01</td>\n",
       "      <td>Household</td>\n",
       "      <td>1583</td>\n",
       "      <td>5.190661</td>\n",
       "      <td>0</td>\n",
       "      <td>Urban</td>\n",
       "      <td>5</td>\n",
       "      <td>9.299281</td>\n",
       "      <td>9</td>\n",
       "      <td>207</td>\n",
       "      <td>2022</td>\n",
       "      <td>1</td>\n",
       "    </tr>\n",
       "    <tr>\n",
       "      <th>1</th>\n",
       "      <td>2022-01-02</td>\n",
       "      <td>Personal Care</td>\n",
       "      <td>1103</td>\n",
       "      <td>8.949596</td>\n",
       "      <td>0</td>\n",
       "      <td>Urban</td>\n",
       "      <td>6</td>\n",
       "      <td>13.274109</td>\n",
       "      <td>5</td>\n",
       "      <td>253</td>\n",
       "      <td>2022</td>\n",
       "      <td>1</td>\n",
       "    </tr>\n",
       "    <tr>\n",
       "      <th>2</th>\n",
       "      <td>2022-01-03</td>\n",
       "      <td>Dairy</td>\n",
       "      <td>455</td>\n",
       "      <td>4.867987</td>\n",
       "      <td>0</td>\n",
       "      <td>Rural</td>\n",
       "      <td>0</td>\n",
       "      <td>13.302265</td>\n",
       "      <td>9</td>\n",
       "      <td>245</td>\n",
       "      <td>2022</td>\n",
       "      <td>1</td>\n",
       "    </tr>\n",
       "    <tr>\n",
       "      <th>3</th>\n",
       "      <td>2022-01-04</td>\n",
       "      <td>Personal Care</td>\n",
       "      <td>1107</td>\n",
       "      <td>16.968596</td>\n",
       "      <td>1</td>\n",
       "      <td>Urban</td>\n",
       "      <td>1</td>\n",
       "      <td>10.056158</td>\n",
       "      <td>5</td>\n",
       "      <td>265</td>\n",
       "      <td>2022</td>\n",
       "      <td>1</td>\n",
       "    </tr>\n",
       "    <tr>\n",
       "      <th>4</th>\n",
       "      <td>2022-01-05</td>\n",
       "      <td>Personal Care</td>\n",
       "      <td>1447</td>\n",
       "      <td>4.309673</td>\n",
       "      <td>1</td>\n",
       "      <td>Rural</td>\n",
       "      <td>2</td>\n",
       "      <td>3.562862</td>\n",
       "      <td>8</td>\n",
       "      <td>334</td>\n",
       "      <td>2022</td>\n",
       "      <td>1</td>\n",
       "    </tr>\n",
       "  </tbody>\n",
       "</table>\n",
       "</div>"
      ],
      "text/plain": [
       "        Date Product_Category  Sales_Volume      Price  Promotion  \\\n",
       "0 2022-01-01        Household          1583   5.190661          0   \n",
       "1 2022-01-02    Personal Care          1103   8.949596          0   \n",
       "2 2022-01-03            Dairy           455   4.867987          0   \n",
       "3 2022-01-04    Personal Care          1107  16.968596          1   \n",
       "4 2022-01-05    Personal Care          1447   4.309673          1   \n",
       "\n",
       "  Store_Location  Weekday  Supplier_Cost  Replenishment_Lead_Time  \\\n",
       "0          Urban        5       9.299281                        9   \n",
       "1          Urban        6      13.274109                        5   \n",
       "2          Rural        0      13.302265                        9   \n",
       "3          Urban        1      10.056158                        5   \n",
       "4          Rural        2       3.562862                        8   \n",
       "\n",
       "   Stock_Level  Year  Month  \n",
       "0          207  2022      1  \n",
       "1          253  2022      1  \n",
       "2          245  2022      1  \n",
       "3          265  2022      1  \n",
       "4          334  2022      1  "
      ]
     },
     "execution_count": 6,
     "metadata": {},
     "output_type": "execute_result"
    }
   ],
   "source": [
    "df['Year'] = df.Date.dt.year\n",
    "df['Month'] = df.Date.dt.month\n",
    "df.head()"
   ]
  },
  {
   "cell_type": "code",
   "execution_count": 7,
   "metadata": {},
   "outputs": [],
   "source": [
    "df['Sales_Value'] = df['Sales_Volume'] * df['Price']"
   ]
  },
  {
   "cell_type": "code",
   "execution_count": 8,
   "metadata": {},
   "outputs": [
    {
     "data": {
      "application/vnd.microsoft.datawrangler.viewer.v0+json": {
       "columns": [
        {
         "name": "Year",
         "rawType": "int64",
         "type": "integer"
        },
        {
         "name": "Sales_Value",
         "rawType": "float64",
         "type": "float"
        }
       ],
       "conversionMethod": "pd.DataFrame",
       "ref": "4e2657e4-3f35-4f8e-be30-51507ccac772",
       "rows": [
        [
         "2022",
         "3946743.871005637"
        ],
        [
         "2023",
         "3889007.592684148"
        ],
        [
         "2024",
         "3003998.7930016886"
        ]
       ],
       "shape": {
        "columns": 1,
        "rows": 3
       }
      },
      "text/html": [
       "<div>\n",
       "<style scoped>\n",
       "    .dataframe tbody tr th:only-of-type {\n",
       "        vertical-align: middle;\n",
       "    }\n",
       "\n",
       "    .dataframe tbody tr th {\n",
       "        vertical-align: top;\n",
       "    }\n",
       "\n",
       "    .dataframe thead th {\n",
       "        text-align: right;\n",
       "    }\n",
       "</style>\n",
       "<table border=\"1\" class=\"dataframe\">\n",
       "  <thead>\n",
       "    <tr style=\"text-align: right;\">\n",
       "      <th></th>\n",
       "      <th>Sales_Value</th>\n",
       "    </tr>\n",
       "    <tr>\n",
       "      <th>Year</th>\n",
       "      <th></th>\n",
       "    </tr>\n",
       "  </thead>\n",
       "  <tbody>\n",
       "    <tr>\n",
       "      <th>2022</th>\n",
       "      <td>3.946744e+06</td>\n",
       "    </tr>\n",
       "    <tr>\n",
       "      <th>2023</th>\n",
       "      <td>3.889008e+06</td>\n",
       "    </tr>\n",
       "    <tr>\n",
       "      <th>2024</th>\n",
       "      <td>3.003999e+06</td>\n",
       "    </tr>\n",
       "  </tbody>\n",
       "</table>\n",
       "</div>"
      ],
      "text/plain": [
       "       Sales_Value\n",
       "Year              \n",
       "2022  3.946744e+06\n",
       "2023  3.889008e+06\n",
       "2024  3.003999e+06"
      ]
     },
     "execution_count": 8,
     "metadata": {},
     "output_type": "execute_result"
    }
   ],
   "source": [
    "df[['Year','Sales_Value']].groupby('Year').sum()"
   ]
  },
  {
   "cell_type": "code",
   "execution_count": 9,
   "metadata": {},
   "outputs": [
    {
     "data": {
      "image/png": "[encoded data removed]",
      "text/plain": [
       "<Figure size 1000x500 with 1 Axes>"
      ]
     },
     "metadata": {},
     "output_type": "display_data"
    }
   ],
   "source": [
    "plt.figure(figsize = (10,5))\n",
    "bars = plt.bar(df['Year'],df['Sales_Value'])\n",
    "plt.xticks(df['Year'].unique(),['2022','2023','2024'])\n",
    "# plt.grid(True)\n",
    "plt.ylabel('Sales')\n",
    "plt.xlabel('Year')\n",
    "\n",
    "# for bar in bars.patches:\n",
    "#   plt.annotate(s = bar.get_height(), xy = (bar.get_x() + bar.get_width() / 2, bar.get_height()), va = \"bottom\", ha = \"center\")\n",
    "  \n",
    "plt.show()\n"
   ]
  },
  {
   "cell_type": "code",
   "execution_count": 10,
   "metadata": {},
   "outputs": [],
   "source": [
    "month_group = df[['Year','Month','Sales_Value']].groupby(['Year','Month']).sum()"
   ]
  },
  {
   "cell_type": "code",
   "execution_count": null,
   "metadata": {},
   "outputs": [],
   "source": []
  },
  {
   "cell_type": "code",
   "execution_count": null,
   "metadata": {},
   "outputs": [],
   "source": []
  },
  {
   "cell_type": "markdown",
   "metadata": {},
   "source": [
    "### Feature Engineering"
   ]
  },
  {
   "cell_type": "code",
   "execution_count": 11,
   "metadata": {},
   "outputs": [],
   "source": [
    "data = df.copy()"
   ]
  },
  {
   "cell_type": "code",
   "execution_count": 12,
   "metadata": {},
   "outputs": [
    {
     "data": {
      "application/vnd.microsoft.datawrangler.viewer.v0+json": {
       "columns": [
        {
         "name": "index",
         "rawType": "int64",
         "type": "integer"
        },
        {
         "name": "Date",
         "rawType": "datetime64[ns]",
         "type": "datetime"
        },
        {
         "name": "Product_Category",
         "rawType": "object",
         "type": "string"
        },
        {
         "name": "Sales_Volume",
         "rawType": "int64",
         "type": "integer"
        },
        {
         "name": "Price",
         "rawType": "float64",
         "type": "float"
        },
        {
         "name": "Promotion",
         "rawType": "int64",
         "type": "integer"
        },
        {
         "name": "Store_Location",
         "rawType": "object",
         "type": "string"
        },
        {
         "name": "Weekday",
         "rawType": "int64",
         "type": "integer"
        },
        {
         "name": "Supplier_Cost",
         "rawType": "float64",
         "type": "float"
        },
        {
         "name": "Replenishment_Lead_Time",
         "rawType": "int64",
         "type": "integer"
        },
        {
         "name": "Stock_Level",
         "rawType": "int64",
         "type": "integer"
        },
        {
         "name": "Year",
         "rawType": "int64",
         "type": "integer"
        },
        {
         "name": "Month",
         "rawType": "int64",
         "type": "integer"
        },
        {
         "name": "Sales_Value",
         "rawType": "float64",
         "type": "float"
        }
       ],
       "conversionMethod": "pd.DataFrame",
       "ref": "58a8e79e-2cb6-4942-9f1b-0b27e73b7f96",
       "rows": [
        [
         "0",
         "2022-01-01 00:00:00",
         "Household",
         "1583",
         "5.190661373524142",
         "0",
         "Urban",
         "5",
         "9.299280855332018",
         "9",
         "207",
         "2022",
         "1",
         "8216.816954288717"
        ],
        [
         "1",
         "2022-01-02 00:00:00",
         "Personal Care",
         "1103",
         "8.949595984685402",
         "0",
         "Urban",
         "6",
         "13.274108581775032",
         "5",
         "253",
         "2022",
         "1",
         "9871.404371107998"
        ],
        [
         "2",
         "2022-01-03 00:00:00",
         "Dairy",
         "455",
         "4.867987326502611",
         "0",
         "Rural",
         "0",
         "13.302264839521472",
         "9",
         "245",
         "2022",
         "1",
         "2214.934233558688"
        ],
        [
         "3",
         "2022-01-04 00:00:00",
         "Personal Care",
         "1107",
         "16.968595719261735",
         "1",
         "Urban",
         "1",
         "10.056158446917369",
         "5",
         "265",
         "2022",
         "1",
         "18784.23546122274"
        ],
        [
         "4",
         "2022-01-05 00:00:00",
         "Personal Care",
         "1447",
         "4.309673394986819",
         "1",
         "Rural",
         "2",
         "3.5628615563574995",
         "8",
         "334",
         "2022",
         "1",
         "6236.097402545927"
        ]
       ],
       "shape": {
        "columns": 13,
        "rows": 5
       }
      },
      "text/html": [
       "<div>\n",
       "<style scoped>\n",
       "    .dataframe tbody tr th:only-of-type {\n",
       "        vertical-align: middle;\n",
       "    }\n",
       "\n",
       "    .dataframe tbody tr th {\n",
       "        vertical-align: top;\n",
       "    }\n",
       "\n",
       "    .dataframe thead th {\n",
       "        text-align: right;\n",
       "    }\n",
       "</style>\n",
       "<table border=\"1\" class=\"dataframe\">\n",
       "  <thead>\n",
       "    <tr style=\"text-align: right;\">\n",
       "      <th></th>\n",
       "      <th>Date</th>\n",
       "      <th>Product_Category</th>\n",
       "      <th>Sales_Volume</th>\n",
       "      <th>Price</th>\n",
       "      <th>Promotion</th>\n",
       "      <th>Store_Location</th>\n",
       "      <th>Weekday</th>\n",
       "      <th>Supplier_Cost</th>\n",
       "      <th>Replenishment_Lead_Time</th>\n",
       "      <th>Stock_Level</th>\n",
       "      <th>Year</th>\n",
       "      <th>Month</th>\n",
       "      <th>Sales_Value</th>\n",
       "    </tr>\n",
       "  </thead>\n",
       "  <tbody>\n",
       "    <tr>\n",
       "      <th>0</th>\n",
       "      <td>2022-01-01</td>\n",
       "      <td>Household</td>\n",
       "      <td>1583</td>\n",
       "      <td>5.190661</td>\n",
       "      <td>0</td>\n",
       "      <td>Urban</td>\n",
       "      <td>5</td>\n",
       "      <td>9.299281</td>\n",
       "      <td>9</td>\n",
       "      <td>207</td>\n",
       "      <td>2022</td>\n",
       "      <td>1</td>\n",
       "      <td>8216.816954</td>\n",
       "    </tr>\n",
       "    <tr>\n",
       "      <th>1</th>\n",
       "      <td>2022-01-02</td>\n",
       "      <td>Personal Care</td>\n",
       "      <td>1103</td>\n",
       "      <td>8.949596</td>\n",
       "      <td>0</td>\n",
       "      <td>Urban</td>\n",
       "      <td>6</td>\n",
       "      <td>13.274109</td>\n",
       "      <td>5</td>\n",
       "      <td>253</td>\n",
       "      <td>2022</td>\n",
       "      <td>1</td>\n",
       "      <td>9871.404371</td>\n",
       "    </tr>\n",
       "    <tr>\n",
       "      <th>2</th>\n",
       "      <td>2022-01-03</td>\n",
       "      <td>Dairy</td>\n",
       "      <td>455</td>\n",
       "      <td>4.867987</td>\n",
       "      <td>0</td>\n",
       "      <td>Rural</td>\n",
       "      <td>0</td>\n",
       "      <td>13.302265</td>\n",
       "      <td>9</td>\n",
       "      <td>245</td>\n",
       "      <td>2022</td>\n",
       "      <td>1</td>\n",
       "      <td>2214.934234</td>\n",
       "    </tr>\n",
       "    <tr>\n",
       "      <th>3</th>\n",
       "      <td>2022-01-04</td>\n",
       "      <td>Personal Care</td>\n",
       "      <td>1107</td>\n",
       "      <td>16.968596</td>\n",
       "      <td>1</td>\n",
       "      <td>Urban</td>\n",
       "      <td>1</td>\n",
       "      <td>10.056158</td>\n",
       "      <td>5</td>\n",
       "      <td>265</td>\n",
       "      <td>2022</td>\n",
       "      <td>1</td>\n",
       "      <td>18784.235461</td>\n",
       "    </tr>\n",
       "    <tr>\n",
       "      <th>4</th>\n",
       "      <td>2022-01-05</td>\n",
       "      <td>Personal Care</td>\n",
       "      <td>1447</td>\n",
       "      <td>4.309673</td>\n",
       "      <td>1</td>\n",
       "      <td>Rural</td>\n",
       "      <td>2</td>\n",
       "      <td>3.562862</td>\n",
       "      <td>8</td>\n",
       "      <td>334</td>\n",
       "      <td>2022</td>\n",
       "      <td>1</td>\n",
       "      <td>6236.097403</td>\n",
       "    </tr>\n",
       "  </tbody>\n",
       "</table>\n",
       "</div>"
      ],
      "text/plain": [
       "        Date Product_Category  Sales_Volume      Price  Promotion  \\\n",
       "0 2022-01-01        Household          1583   5.190661          0   \n",
       "1 2022-01-02    Personal Care          1103   8.949596          0   \n",
       "2 2022-01-03            Dairy           455   4.867987          0   \n",
       "3 2022-01-04    Personal Care          1107  16.968596          1   \n",
       "4 2022-01-05    Personal Care          1447   4.309673          1   \n",
       "\n",
       "  Store_Location  Weekday  Supplier_Cost  Replenishment_Lead_Time  \\\n",
       "0          Urban        5       9.299281                        9   \n",
       "1          Urban        6      13.274109                        5   \n",
       "2          Rural        0      13.302265                        9   \n",
       "3          Urban        1      10.056158                        5   \n",
       "4          Rural        2       3.562862                        8   \n",
       "\n",
       "   Stock_Level  Year  Month   Sales_Value  \n",
       "0          207  2022      1   8216.816954  \n",
       "1          253  2022      1   9871.404371  \n",
       "2          245  2022      1   2214.934234  \n",
       "3          265  2022      1  18784.235461  \n",
       "4          334  2022      1   6236.097403  "
      ]
     },
     "execution_count": 12,
     "metadata": {},
     "output_type": "execute_result"
    }
   ],
   "source": [
    "data['Year'] = data.Date.dt.year\n",
    "data['Month'] = data.Date.dt.month\n",
    "data.head()"
   ]
  },
  {
   "cell_type": "code",
   "execution_count": 13,
   "metadata": {},
   "outputs": [
    {
     "data": {
      "application/vnd.microsoft.datawrangler.viewer.v0+json": {
       "columns": [
        {
         "name": "index",
         "rawType": "int64",
         "type": "integer"
        },
        {
         "name": "Product_Category",
         "rawType": "object",
         "type": "string"
        },
        {
         "name": "Sales_Volume",
         "rawType": "int64",
         "type": "integer"
        },
        {
         "name": "Price",
         "rawType": "float64",
         "type": "float"
        },
        {
         "name": "Promotion",
         "rawType": "int64",
         "type": "integer"
        },
        {
         "name": "Store_Location",
         "rawType": "object",
         "type": "string"
        },
        {
         "name": "Weekday",
         "rawType": "int64",
         "type": "integer"
        },
        {
         "name": "Supplier_Cost",
         "rawType": "float64",
         "type": "float"
        },
        {
         "name": "Replenishment_Lead_Time",
         "rawType": "int64",
         "type": "integer"
        },
        {
         "name": "Stock_Level",
         "rawType": "int64",
         "type": "integer"
        },
        {
         "name": "Year",
         "rawType": "int64",
         "type": "integer"
        },
        {
         "name": "Month",
         "rawType": "int64",
         "type": "integer"
        },
        {
         "name": "Sales_Value",
         "rawType": "float64",
         "type": "float"
        }
       ],
       "conversionMethod": "pd.DataFrame",
       "ref": "0f1d5110-5857-45b2-b7e1-1e0322b98299",
       "rows": [
        [
         "0",
         "Household",
         "1583",
         "5.190661373524142",
         "0",
         "Urban",
         "5",
         "9.299280855332018",
         "9",
         "207",
         "2022",
         "1",
         "8216.816954288717"
        ],
        [
         "1",
         "Personal Care",
         "1103",
         "8.949595984685402",
         "0",
         "Urban",
         "6",
         "13.274108581775032",
         "5",
         "253",
         "2022",
         "1",
         "9871.404371107998"
        ],
        [
         "2",
         "Dairy",
         "455",
         "4.867987326502611",
         "0",
         "Rural",
         "0",
         "13.302264839521472",
         "9",
         "245",
         "2022",
         "1",
         "2214.934233558688"
        ],
        [
         "3",
         "Personal Care",
         "1107",
         "16.968595719261735",
         "1",
         "Urban",
         "1",
         "10.056158446917369",
         "5",
         "265",
         "2022",
         "1",
         "18784.23546122274"
        ],
        [
         "4",
         "Personal Care",
         "1447",
         "4.309673394986819",
         "1",
         "Rural",
         "2",
         "3.5628615563574995",
         "8",
         "334",
         "2022",
         "1",
         "6236.097402545927"
        ]
       ],
       "shape": {
        "columns": 12,
        "rows": 5
       }
      },
      "text/html": [
       "<div>\n",
       "<style scoped>\n",
       "    .dataframe tbody tr th:only-of-type {\n",
       "        vertical-align: middle;\n",
       "    }\n",
       "\n",
       "    .dataframe tbody tr th {\n",
       "        vertical-align: top;\n",
       "    }\n",
       "\n",
       "    .dataframe thead th {\n",
       "        text-align: right;\n",
       "    }\n",
       "</style>\n",
       "<table border=\"1\" class=\"dataframe\">\n",
       "  <thead>\n",
       "    <tr style=\"text-align: right;\">\n",
       "      <th></th>\n",
       "      <th>Product_Category</th>\n",
       "      <th>Sales_Volume</th>\n",
       "      <th>Price</th>\n",
       "      <th>Promotion</th>\n",
       "      <th>Store_Location</th>\n",
       "      <th>Weekday</th>\n",
       "      <th>Supplier_Cost</th>\n",
       "      <th>Replenishment_Lead_Time</th>\n",
       "      <th>Stock_Level</th>\n",
       "      <th>Year</th>\n",
       "      <th>Month</th>\n",
       "      <th>Sales_Value</th>\n",
       "    </tr>\n",
       "  </thead>\n",
       "  <tbody>\n",
       "    <tr>\n",
       "      <th>0</th>\n",
       "      <td>Household</td>\n",
       "      <td>1583</td>\n",
       "      <td>5.190661</td>\n",
       "      <td>0</td>\n",
       "      <td>Urban</td>\n",
       "      <td>5</td>\n",
       "      <td>9.299281</td>\n",
       "      <td>9</td>\n",
       "      <td>207</td>\n",
       "      <td>2022</td>\n",
       "      <td>1</td>\n",
       "      <td>8216.816954</td>\n",
       "    </tr>\n",
       "    <tr>\n",
       "      <th>1</th>\n",
       "      <td>Personal Care</td>\n",
       "      <td>1103</td>\n",
       "      <td>8.949596</td>\n",
       "      <td>0</td>\n",
       "      <td>Urban</td>\n",
       "      <td>6</td>\n",
       "      <td>13.274109</td>\n",
       "      <td>5</td>\n",
       "      <td>253</td>\n",
       "      <td>2022</td>\n",
       "      <td>1</td>\n",
       "      <td>9871.404371</td>\n",
       "    </tr>\n",
       "    <tr>\n",
       "      <th>2</th>\n",
       "      <td>Dairy</td>\n",
       "      <td>455</td>\n",
       "      <td>4.867987</td>\n",
       "      <td>0</td>\n",
       "      <td>Rural</td>\n",
       "      <td>0</td>\n",
       "      <td>13.302265</td>\n",
       "      <td>9</td>\n",
       "      <td>245</td>\n",
       "      <td>2022</td>\n",
       "      <td>1</td>\n",
       "      <td>2214.934234</td>\n",
       "    </tr>\n",
       "    <tr>\n",
       "      <th>3</th>\n",
       "      <td>Personal Care</td>\n",
       "      <td>1107</td>\n",
       "      <td>16.968596</td>\n",
       "      <td>1</td>\n",
       "      <td>Urban</td>\n",
       "      <td>1</td>\n",
       "      <td>10.056158</td>\n",
       "      <td>5</td>\n",
       "      <td>265</td>\n",
       "      <td>2022</td>\n",
       "      <td>1</td>\n",
       "      <td>18784.235461</td>\n",
       "    </tr>\n",
       "    <tr>\n",
       "      <th>4</th>\n",
       "      <td>Personal Care</td>\n",
       "      <td>1447</td>\n",
       "      <td>4.309673</td>\n",
       "      <td>1</td>\n",
       "      <td>Rural</td>\n",
       "      <td>2</td>\n",
       "      <td>3.562862</td>\n",
       "      <td>8</td>\n",
       "      <td>334</td>\n",
       "      <td>2022</td>\n",
       "      <td>1</td>\n",
       "      <td>6236.097403</td>\n",
       "    </tr>\n",
       "  </tbody>\n",
       "</table>\n",
       "</div>"
      ],
      "text/plain": [
       "  Product_Category  Sales_Volume      Price  Promotion Store_Location  \\\n",
       "0        Household          1583   5.190661          0          Urban   \n",
       "1    Personal Care          1103   8.949596          0          Urban   \n",
       "2            Dairy           455   4.867987          0          Rural   \n",
       "3    Personal Care          1107  16.968596          1          Urban   \n",
       "4    Personal Care          1447   4.309673          1          Rural   \n",
       "\n",
       "   Weekday  Supplier_Cost  Replenishment_Lead_Time  Stock_Level  Year  Month  \\\n",
       "0        5       9.299281                        9          207  2022      1   \n",
       "1        6      13.274109                        5          253  2022      1   \n",
       "2        0      13.302265                        9          245  2022      1   \n",
       "3        1      10.056158                        5          265  2022      1   \n",
       "4        2       3.562862                        8          334  2022      1   \n",
       "\n",
       "    Sales_Value  \n",
       "0   8216.816954  \n",
       "1   9871.404371  \n",
       "2   2214.934234  \n",
       "3  18784.235461  \n",
       "4   6236.097403  "
      ]
     },
     "execution_count": 13,
     "metadata": {},
     "output_type": "execute_result"
    }
   ],
   "source": [
    "# Dropping date column\n",
    "data.drop(\"Date\", axis = 1, inplace=True)\n",
    "data.head()"
   ]
  },
  {
   "cell_type": "code",
   "execution_count": 14,
   "metadata": {},
   "outputs": [
    {
     "data": {
      "application/vnd.microsoft.datawrangler.viewer.v0+json": {
       "columns": [
        {
         "name": "index",
         "rawType": "int64",
         "type": "integer"
        },
        {
         "name": "Product_Category",
         "rawType": "object",
         "type": "string"
        },
        {
         "name": "Sales_Volume",
         "rawType": "int64",
         "type": "integer"
        },
        {
         "name": "Price",
         "rawType": "float64",
         "type": "float"
        },
        {
         "name": "Promotion",
         "rawType": "int64",
         "type": "integer"
        },
        {
         "name": "Store_Location",
         "rawType": "object",
         "type": "string"
        },
        {
         "name": "Weekday",
         "rawType": "int64",
         "type": "integer"
        },
        {
         "name": "Supplier_Cost",
         "rawType": "float64",
         "type": "float"
        },
        {
         "name": "Replenishment_Lead_Time",
         "rawType": "int64",
         "type": "integer"
        },
        {
         "name": "Stock_Level",
         "rawType": "int64",
         "type": "integer"
        },
        {
         "name": "Year",
         "rawType": "int64",
         "type": "integer"
        },
        {
         "name": "Month",
         "rawType": "int64",
         "type": "integer"
        },
        {
         "name": "Sales_Value",
         "rawType": "float64",
         "type": "float"
        },
        {
         "name": "Stock_Status",
         "rawType": "object",
         "type": "string"
        }
       ],
       "conversionMethod": "pd.DataFrame",
       "ref": "f5ddfe52-aca1-46e2-81ba-36f836124141",
       "rows": [
        [
         "0",
         "Household",
         "1583",
         "5.190661373524142",
         "0",
         "Urban",
         "5",
         "9.299280855332018",
         "9",
         "207",
         "2022",
         "1",
         "8216.816954288717",
         "Overstocked"
        ],
        [
         "1",
         "Personal Care",
         "1103",
         "8.949595984685402",
         "0",
         "Urban",
         "6",
         "13.274108581775032",
         "5",
         "253",
         "2022",
         "1",
         "9871.404371107998",
         "Understocked"
        ],
        [
         "2",
         "Dairy",
         "455",
         "4.867987326502611",
         "0",
         "Rural",
         "0",
         "13.302264839521472",
         "9",
         "245",
         "2022",
         "1",
         "2214.934233558688",
         "Overstocked"
        ],
        [
         "3",
         "Personal Care",
         "1107",
         "16.968595719261735",
         "1",
         "Urban",
         "1",
         "10.056158446917369",
         "5",
         "265",
         "2022",
         "1",
         "18784.23546122274",
         "Understocked"
        ],
        [
         "4",
         "Personal Care",
         "1447",
         "4.309673394986819",
         "1",
         "Rural",
         "2",
         "3.5628615563574995",
         "8",
         "334",
         "2022",
         "1",
         "6236.097402545927",
         "Overstocked"
        ],
        [
         "5",
         "Snacks",
         "1256",
         "19.25483047825256",
         "1",
         "Urban",
         "3",
         "13.013454054703644",
         "1",
         "245",
         "2022",
         "1",
         "24184.067080685218",
         "Understocked"
        ],
        [
         "6",
         "Dairy",
         "987",
         "8.902239956791874",
         "0",
         "Suburban",
         "4",
         "13.34835481204152",
         "7",
         "356",
         "2022",
         "1",
         "8786.51083735358",
         "Overstocked"
        ],
        [
         "7",
         "Dairy",
         "1928",
         "17.07866054836194",
         "0",
         "Rural",
         "5",
         "3.351476981817901",
         "4",
         "201",
         "2022",
         "1",
         "32927.657537241816",
         "Understocked"
        ],
        [
         "8",
         "Dairy",
         "1963",
         "12.946531545912958",
         "1",
         "Rural",
         "6",
         "11.19267824367482",
         "5",
         "63",
         "2022",
         "1",
         "25414.041424627136",
         "Understocked"
        ],
        [
         "9",
         "Personal Care",
         "226",
         "14.9716556746493",
         "1",
         "Urban",
         "0",
         "4.654533459443282",
         "6",
         "374",
         "2022",
         "1",
         "3383.594182470742",
         "Overstocked"
        ]
       ],
       "shape": {
        "columns": 13,
        "rows": 10
       }
      },
      "text/html": [
       "<div>\n",
       "<style scoped>\n",
       "    .dataframe tbody tr th:only-of-type {\n",
       "        vertical-align: middle;\n",
       "    }\n",
       "\n",
       "    .dataframe tbody tr th {\n",
       "        vertical-align: top;\n",
       "    }\n",
       "\n",
       "    .dataframe thead th {\n",
       "        text-align: right;\n",
       "    }\n",
       "</style>\n",
       "<table border=\"1\" class=\"dataframe\">\n",
       "  <thead>\n",
       "    <tr style=\"text-align: right;\">\n",
       "      <th></th>\n",
       "      <th>Product_Category</th>\n",
       "      <th>Sales_Volume</th>\n",
       "      <th>Price</th>\n",
       "      <th>Promotion</th>\n",
       "      <th>Store_Location</th>\n",
       "      <th>Weekday</th>\n",
       "      <th>Supplier_Cost</th>\n",
       "      <th>Replenishment_Lead_Time</th>\n",
       "      <th>Stock_Level</th>\n",
       "      <th>Year</th>\n",
       "      <th>Month</th>\n",
       "      <th>Sales_Value</th>\n",
       "      <th>Stock_Status</th>\n",
       "    </tr>\n",
       "  </thead>\n",
       "  <tbody>\n",
       "    <tr>\n",
       "      <th>0</th>\n",
       "      <td>Household</td>\n",
       "      <td>1583</td>\n",
       "      <td>5.190661</td>\n",
       "      <td>0</td>\n",
       "      <td>Urban</td>\n",
       "      <td>5</td>\n",
       "      <td>9.299281</td>\n",
       "      <td>9</td>\n",
       "      <td>207</td>\n",
       "      <td>2022</td>\n",
       "      <td>1</td>\n",
       "      <td>8216.816954</td>\n",
       "      <td>Overstocked</td>\n",
       "    </tr>\n",
       "    <tr>\n",
       "      <th>1</th>\n",
       "      <td>Personal Care</td>\n",
       "      <td>1103</td>\n",
       "      <td>8.949596</td>\n",
       "      <td>0</td>\n",
       "      <td>Urban</td>\n",
       "      <td>6</td>\n",
       "      <td>13.274109</td>\n",
       "      <td>5</td>\n",
       "      <td>253</td>\n",
       "      <td>2022</td>\n",
       "      <td>1</td>\n",
       "      <td>9871.404371</td>\n",
       "      <td>Understocked</td>\n",
       "    </tr>\n",
       "    <tr>\n",
       "      <th>2</th>\n",
       "      <td>Dairy</td>\n",
       "      <td>455</td>\n",
       "      <td>4.867987</td>\n",
       "      <td>0</td>\n",
       "      <td>Rural</td>\n",
       "      <td>0</td>\n",
       "      <td>13.302265</td>\n",
       "      <td>9</td>\n",
       "      <td>245</td>\n",
       "      <td>2022</td>\n",
       "      <td>1</td>\n",
       "      <td>2214.934234</td>\n",
       "      <td>Overstocked</td>\n",
       "    </tr>\n",
       "    <tr>\n",
       "      <th>3</th>\n",
       "      <td>Personal Care</td>\n",
       "      <td>1107</td>\n",
       "      <td>16.968596</td>\n",
       "      <td>1</td>\n",
       "      <td>Urban</td>\n",
       "      <td>1</td>\n",
       "      <td>10.056158</td>\n",
       "      <td>5</td>\n",
       "      <td>265</td>\n",
       "      <td>2022</td>\n",
       "      <td>1</td>\n",
       "      <td>18784.235461</td>\n",
       "      <td>Understocked</td>\n",
       "    </tr>\n",
       "    <tr>\n",
       "      <th>4</th>\n",
       "      <td>Personal Care</td>\n",
       "      <td>1447</td>\n",
       "      <td>4.309673</td>\n",
       "      <td>1</td>\n",
       "      <td>Rural</td>\n",
       "      <td>2</td>\n",
       "      <td>3.562862</td>\n",
       "      <td>8</td>\n",
       "      <td>334</td>\n",
       "      <td>2022</td>\n",
       "      <td>1</td>\n",
       "      <td>6236.097403</td>\n",
       "      <td>Overstocked</td>\n",
       "    </tr>\n",
       "    <tr>\n",
       "      <th>5</th>\n",
       "      <td>Snacks</td>\n",
       "      <td>1256</td>\n",
       "      <td>19.254830</td>\n",
       "      <td>1</td>\n",
       "      <td>Urban</td>\n",
       "      <td>3</td>\n",
       "      <td>13.013454</td>\n",
       "      <td>1</td>\n",
       "      <td>245</td>\n",
       "      <td>2022</td>\n",
       "      <td>1</td>\n",
       "      <td>24184.067081</td>\n",
       "      <td>Understocked</td>\n",
       "    </tr>\n",
       "    <tr>\n",
       "      <th>6</th>\n",
       "      <td>Dairy</td>\n",
       "      <td>987</td>\n",
       "      <td>8.902240</td>\n",
       "      <td>0</td>\n",
       "      <td>Suburban</td>\n",
       "      <td>4</td>\n",
       "      <td>13.348355</td>\n",
       "      <td>7</td>\n",
       "      <td>356</td>\n",
       "      <td>2022</td>\n",
       "      <td>1</td>\n",
       "      <td>8786.510837</td>\n",
       "      <td>Overstocked</td>\n",
       "    </tr>\n",
       "    <tr>\n",
       "      <th>7</th>\n",
       "      <td>Dairy</td>\n",
       "      <td>1928</td>\n",
       "      <td>17.078661</td>\n",
       "      <td>0</td>\n",
       "      <td>Rural</td>\n",
       "      <td>5</td>\n",
       "      <td>3.351477</td>\n",
       "      <td>4</td>\n",
       "      <td>201</td>\n",
       "      <td>2022</td>\n",
       "      <td>1</td>\n",
       "      <td>32927.657537</td>\n",
       "      <td>Understocked</td>\n",
       "    </tr>\n",
       "    <tr>\n",
       "      <th>8</th>\n",
       "      <td>Dairy</td>\n",
       "      <td>1963</td>\n",
       "      <td>12.946532</td>\n",
       "      <td>1</td>\n",
       "      <td>Rural</td>\n",
       "      <td>6</td>\n",
       "      <td>11.192678</td>\n",
       "      <td>5</td>\n",
       "      <td>63</td>\n",
       "      <td>2022</td>\n",
       "      <td>1</td>\n",
       "      <td>25414.041425</td>\n",
       "      <td>Understocked</td>\n",
       "    </tr>\n",
       "    <tr>\n",
       "      <th>9</th>\n",
       "      <td>Personal Care</td>\n",
       "      <td>226</td>\n",
       "      <td>14.971656</td>\n",
       "      <td>1</td>\n",
       "      <td>Urban</td>\n",
       "      <td>0</td>\n",
       "      <td>4.654533</td>\n",
       "      <td>6</td>\n",
       "      <td>374</td>\n",
       "      <td>2022</td>\n",
       "      <td>1</td>\n",
       "      <td>3383.594182</td>\n",
       "      <td>Overstocked</td>\n",
       "    </tr>\n",
       "  </tbody>\n",
       "</table>\n",
       "</div>"
      ],
      "text/plain": [
       "  Product_Category  Sales_Volume      Price  Promotion Store_Location  \\\n",
       "0        Household          1583   5.190661          0          Urban   \n",
       "1    Personal Care          1103   8.949596          0          Urban   \n",
       "2            Dairy           455   4.867987          0          Rural   \n",
       "3    Personal Care          1107  16.968596          1          Urban   \n",
       "4    Personal Care          1447   4.309673          1          Rural   \n",
       "5           Snacks          1256  19.254830          1          Urban   \n",
       "6            Dairy           987   8.902240          0       Suburban   \n",
       "7            Dairy          1928  17.078661          0          Rural   \n",
       "8            Dairy          1963  12.946532          1          Rural   \n",
       "9    Personal Care           226  14.971656          1          Urban   \n",
       "\n",
       "   Weekday  Supplier_Cost  Replenishment_Lead_Time  Stock_Level  Year  Month  \\\n",
       "0        5       9.299281                        9          207  2022      1   \n",
       "1        6      13.274109                        5          253  2022      1   \n",
       "2        0      13.302265                        9          245  2022      1   \n",
       "3        1      10.056158                        5          265  2022      1   \n",
       "4        2       3.562862                        8          334  2022      1   \n",
       "5        3      13.013454                        1          245  2022      1   \n",
       "6        4      13.348355                        7          356  2022      1   \n",
       "7        5       3.351477                        4          201  2022      1   \n",
       "8        6      11.192678                        5           63  2022      1   \n",
       "9        0       4.654533                        6          374  2022      1   \n",
       "\n",
       "    Sales_Value  Stock_Status  \n",
       "0   8216.816954   Overstocked  \n",
       "1   9871.404371  Understocked  \n",
       "2   2214.934234   Overstocked  \n",
       "3  18784.235461  Understocked  \n",
       "4   6236.097403   Overstocked  \n",
       "5  24184.067081  Understocked  \n",
       "6   8786.510837   Overstocked  \n",
       "7  32927.657537  Understocked  \n",
       "8  25414.041425  Understocked  \n",
       "9   3383.594182   Overstocked  "
      ]
     },
     "execution_count": 14,
     "metadata": {},
     "output_type": "execute_result"
    }
   ],
   "source": [
    "\n",
    "data['Stock_Status'] = data['Replenishment_Lead_Time'].apply(lambda x: 'Overstocked' if x >= 5.5 else 'Understocked')\n",
    "data.head(10)"
   ]
  },
  {
   "cell_type": "markdown",
   "metadata": {},
   "source": [
    "### Data Preprocessing\n",
    " - Converting Categorical variables to numerical"
   ]
  },
  {
   "cell_type": "code",
   "execution_count": 15,
   "metadata": {},
   "outputs": [
    {
     "data": {
      "application/vnd.microsoft.datawrangler.viewer.v0+json": {
       "columns": [
        {
         "name": "index",
         "rawType": "int64",
         "type": "integer"
        },
        {
         "name": "Product_Category",
         "rawType": "object",
         "type": "string"
        },
        {
         "name": "Store_Location",
         "rawType": "object",
         "type": "string"
        },
        {
         "name": "Stock_Status",
         "rawType": "object",
         "type": "string"
        }
       ],
       "conversionMethod": "pd.DataFrame",
       "ref": "5e0d1281-4a9a-4201-ad10-33124637dc6e",
       "rows": [
        [
         "0",
         "Household",
         "Urban",
         "Overstocked"
        ],
        [
         "1",
         "Personal Care",
         "Urban",
         "Understocked"
        ],
        [
         "2",
         "Dairy",
         "Rural",
         "Overstocked"
        ],
        [
         "3",
         "Personal Care",
         "Urban",
         "Understocked"
        ],
        [
         "4",
         "Personal Care",
         "Rural",
         "Overstocked"
        ],
        [
         "5",
         "Snacks",
         "Urban",
         "Understocked"
        ],
        [
         "6",
         "Dairy",
         "Suburban",
         "Overstocked"
        ],
        [
         "7",
         "Dairy",
         "Rural",
         "Understocked"
        ],
        [
         "8",
         "Dairy",
         "Rural",
         "Understocked"
        ],
        [
         "9",
         "Personal Care",
         "Urban",
         "Overstocked"
        ],
        [
         "10",
         "Household",
         "Rural",
         "Understocked"
        ],
        [
         "11",
         "Dairy",
         "Rural",
         "Understocked"
        ],
        [
         "12",
         "Personal Care",
         "Suburban",
         "Overstocked"
        ],
        [
         "13",
         "Snacks",
         "Suburban",
         "Understocked"
        ],
        [
         "14",
         "Household",
         "Urban",
         "Overstocked"
        ],
        [
         "15",
         "Snacks",
         "Suburban",
         "Understocked"
        ],
        [
         "16",
         "Household",
         "Urban",
         "Overstocked"
        ],
        [
         "17",
         "Personal Care",
         "Urban",
         "Overstocked"
        ],
        [
         "18",
         "Beverages",
         "Urban",
         "Overstocked"
        ],
        [
         "19",
         "Household",
         "Rural",
         "Overstocked"
        ],
        [
         "20",
         "Snacks",
         "Suburban",
         "Overstocked"
        ],
        [
         "21",
         "Personal Care",
         "Urban",
         "Understocked"
        ],
        [
         "22",
         "Household",
         "Suburban",
         "Overstocked"
        ],
        [
         "23",
         "Beverages",
         "Urban",
         "Understocked"
        ],
        [
         "24",
         "Beverages",
         "Suburban",
         "Overstocked"
        ],
        [
         "25",
         "Dairy",
         "Suburban",
         "Understocked"
        ],
        [
         "26",
         "Dairy",
         "Urban",
         "Understocked"
        ],
        [
         "27",
         "Snacks",
         "Rural",
         "Understocked"
        ],
        [
         "28",
         "Household",
         "Suburban",
         "Overstocked"
        ],
        [
         "29",
         "Household",
         "Rural",
         "Understocked"
        ],
        [
         "30",
         "Dairy",
         "Rural",
         "Understocked"
        ],
        [
         "31",
         "Household",
         "Urban",
         "Understocked"
        ],
        [
         "32",
         "Household",
         "Urban",
         "Understocked"
        ],
        [
         "33",
         "Beverages",
         "Urban",
         "Overstocked"
        ],
        [
         "34",
         "Dairy",
         "Suburban",
         "Understocked"
        ],
        [
         "35",
         "Personal Care",
         "Urban",
         "Understocked"
        ],
        [
         "36",
         "Dairy",
         "Urban",
         "Understocked"
        ],
        [
         "37",
         "Personal Care",
         "Suburban",
         "Overstocked"
        ],
        [
         "38",
         "Beverages",
         "Suburban",
         "Understocked"
        ],
        [
         "39",
         "Snacks",
         "Urban",
         "Understocked"
        ],
        [
         "40",
         "Household",
         "Urban",
         "Overstocked"
        ],
        [
         "41",
         "Beverages",
         "Urban",
         "Understocked"
        ],
        [
         "42",
         "Household",
         "Urban",
         "Understocked"
        ],
        [
         "43",
         "Snacks",
         "Rural",
         "Overstocked"
        ],
        [
         "44",
         "Snacks",
         "Rural",
         "Understocked"
        ],
        [
         "45",
         "Beverages",
         "Urban",
         "Overstocked"
        ],
        [
         "46",
         "Snacks",
         "Rural",
         "Overstocked"
        ],
        [
         "47",
         "Personal Care",
         "Suburban",
         "Understocked"
        ],
        [
         "48",
         "Snacks",
         "Rural",
         "Overstocked"
        ],
        [
         "49",
         "Household",
         "Rural",
         "Understocked"
        ]
       ],
       "shape": {
        "columns": 3,
        "rows": 1000
       }
      },
      "text/html": [
       "<div>\n",
       "<style scoped>\n",
       "    .dataframe tbody tr th:only-of-type {\n",
       "        vertical-align: middle;\n",
       "    }\n",
       "\n",
       "    .dataframe tbody tr th {\n",
       "        vertical-align: top;\n",
       "    }\n",
       "\n",
       "    .dataframe thead th {\n",
       "        text-align: right;\n",
       "    }\n",
       "</style>\n",
       "<table border=\"1\" class=\"dataframe\">\n",
       "  <thead>\n",
       "    <tr style=\"text-align: right;\">\n",
       "      <th></th>\n",
       "      <th>Product_Category</th>\n",
       "      <th>Store_Location</th>\n",
       "      <th>Stock_Status</th>\n",
       "    </tr>\n",
       "  </thead>\n",
       "  <tbody>\n",
       "    <tr>\n",
       "      <th>0</th>\n",
       "      <td>Household</td>\n",
       "      <td>Urban</td>\n",
       "      <td>Overstocked</td>\n",
       "    </tr>\n",
       "    <tr>\n",
       "      <th>1</th>\n",
       "      <td>Personal Care</td>\n",
       "      <td>Urban</td>\n",
       "      <td>Understocked</td>\n",
       "    </tr>\n",
       "    <tr>\n",
       "      <th>2</th>\n",
       "      <td>Dairy</td>\n",
       "      <td>Rural</td>\n",
       "      <td>Overstocked</td>\n",
       "    </tr>\n",
       "    <tr>\n",
       "      <th>3</th>\n",
       "      <td>Personal Care</td>\n",
       "      <td>Urban</td>\n",
       "      <td>Understocked</td>\n",
       "    </tr>\n",
       "    <tr>\n",
       "      <th>4</th>\n",
       "      <td>Personal Care</td>\n",
       "      <td>Rural</td>\n",
       "      <td>Overstocked</td>\n",
       "    </tr>\n",
       "    <tr>\n",
       "      <th>...</th>\n",
       "      <td>...</td>\n",
       "      <td>...</td>\n",
       "      <td>...</td>\n",
       "    </tr>\n",
       "    <tr>\n",
       "      <th>995</th>\n",
       "      <td>Snacks</td>\n",
       "      <td>Suburban</td>\n",
       "      <td>Overstocked</td>\n",
       "    </tr>\n",
       "    <tr>\n",
       "      <th>996</th>\n",
       "      <td>Beverages</td>\n",
       "      <td>Urban</td>\n",
       "      <td>Understocked</td>\n",
       "    </tr>\n",
       "    <tr>\n",
       "      <th>997</th>\n",
       "      <td>Beverages</td>\n",
       "      <td>Suburban</td>\n",
       "      <td>Overstocked</td>\n",
       "    </tr>\n",
       "    <tr>\n",
       "      <th>998</th>\n",
       "      <td>Household</td>\n",
       "      <td>Suburban</td>\n",
       "      <td>Overstocked</td>\n",
       "    </tr>\n",
       "    <tr>\n",
       "      <th>999</th>\n",
       "      <td>Dairy</td>\n",
       "      <td>Urban</td>\n",
       "      <td>Understocked</td>\n",
       "    </tr>\n",
       "  </tbody>\n",
       "</table>\n",
       "<p>1000 rows × 3 columns</p>\n",
       "</div>"
      ],
      "text/plain": [
       "    Product_Category Store_Location  Stock_Status\n",
       "0          Household          Urban   Overstocked\n",
       "1      Personal Care          Urban  Understocked\n",
       "2              Dairy          Rural   Overstocked\n",
       "3      Personal Care          Urban  Understocked\n",
       "4      Personal Care          Rural   Overstocked\n",
       "..               ...            ...           ...\n",
       "995           Snacks       Suburban   Overstocked\n",
       "996        Beverages          Urban  Understocked\n",
       "997        Beverages       Suburban   Overstocked\n",
       "998        Household       Suburban   Overstocked\n",
       "999            Dairy          Urban  Understocked\n",
       "\n",
       "[1000 rows x 3 columns]"
      ]
     },
     "execution_count": 15,
     "metadata": {},
     "output_type": "execute_result"
    }
   ],
   "source": [
    "data.select_dtypes([\"object\"])"
   ]
  },
  {
   "cell_type": "code",
   "execution_count": 16,
   "metadata": {},
   "outputs": [
    {
     "data": {
      "text/plain": [
       "Beverages        210\n",
       "Household        206\n",
       "Personal Care    204\n",
       "Dairy            190\n",
       "Snacks           190\n",
       "Name: Product_Category, dtype: int64"
      ]
     },
     "execution_count": 16,
     "metadata": {},
     "output_type": "execute_result"
    }
   ],
   "source": [
    "data['Product_Category'].value_counts()"
   ]
  },
  {
   "cell_type": "code",
   "execution_count": 17,
   "metadata": {},
   "outputs": [
    {
     "data": {
      "text/plain": [
       "Urban       342\n",
       "Rural       338\n",
       "Suburban    320\n",
       "Name: Store_Location, dtype: int64"
      ]
     },
     "execution_count": 17,
     "metadata": {},
     "output_type": "execute_result"
    }
   ],
   "source": [
    "data['Store_Location'].value_counts()\n"
   ]
  },
  {
   "cell_type": "code",
   "execution_count": 18,
   "metadata": {},
   "outputs": [
    {
     "data": {
      "application/vnd.microsoft.datawrangler.viewer.v0+json": {
       "columns": [
        {
         "name": "index",
         "rawType": "int64",
         "type": "integer"
        },
        {
         "name": "Product_Category",
         "rawType": "object",
         "type": "string"
        },
        {
         "name": "Sales_Volume",
         "rawType": "int64",
         "type": "integer"
        },
        {
         "name": "Price",
         "rawType": "float64",
         "type": "float"
        },
        {
         "name": "Promotion",
         "rawType": "int64",
         "type": "integer"
        },
        {
         "name": "Store_Location",
         "rawType": "object",
         "type": "string"
        },
        {
         "name": "Weekday",
         "rawType": "int64",
         "type": "integer"
        },
        {
         "name": "Supplier_Cost",
         "rawType": "float64",
         "type": "float"
        },
        {
         "name": "Replenishment_Lead_Time",
         "rawType": "int64",
         "type": "integer"
        },
        {
         "name": "Stock_Level",
         "rawType": "int64",
         "type": "integer"
        },
        {
         "name": "Year",
         "rawType": "int64",
         "type": "integer"
        },
        {
         "name": "Month",
         "rawType": "int64",
         "type": "integer"
        },
        {
         "name": "Sales_Value",
         "rawType": "float64",
         "type": "float"
        },
        {
         "name": "Stock_Status",
         "rawType": "object",
         "type": "string"
        },
        {
         "name": "Product_Category_cat",
         "rawType": "int8",
         "type": "integer"
        },
        {
         "name": "Store_Location_cat",
         "rawType": "int8",
         "type": "integer"
        },
        {
         "name": "Store_Stock_Status_cat",
         "rawType": "int8",
         "type": "integer"
        }
       ],
       "conversionMethod": "pd.DataFrame",
       "ref": "89346726-525e-4016-ab68-85e16f8eb003",
       "rows": [
        [
         "0",
         "Household",
         "1583",
         "5.190661373524142",
         "0",
         "Urban",
         "5",
         "9.299280855332018",
         "9",
         "207",
         "2022",
         "1",
         "8216.816954288717",
         "Overstocked",
         "2",
         "2",
         "0"
        ],
        [
         "1",
         "Personal Care",
         "1103",
         "8.949595984685402",
         "0",
         "Urban",
         "6",
         "13.274108581775032",
         "5",
         "253",
         "2022",
         "1",
         "9871.404371107998",
         "Understocked",
         "3",
         "2",
         "1"
        ],
        [
         "2",
         "Dairy",
         "455",
         "4.867987326502611",
         "0",
         "Rural",
         "0",
         "13.302264839521472",
         "9",
         "245",
         "2022",
         "1",
         "2214.934233558688",
         "Overstocked",
         "1",
         "0",
         "0"
        ],
        [
         "3",
         "Personal Care",
         "1107",
         "16.968595719261735",
         "1",
         "Urban",
         "1",
         "10.056158446917369",
         "5",
         "265",
         "2022",
         "1",
         "18784.23546122274",
         "Understocked",
         "3",
         "2",
         "1"
        ],
        [
         "4",
         "Personal Care",
         "1447",
         "4.309673394986819",
         "1",
         "Rural",
         "2",
         "3.5628615563574995",
         "8",
         "334",
         "2022",
         "1",
         "6236.097402545927",
         "Overstocked",
         "3",
         "0",
         "0"
        ]
       ],
       "shape": {
        "columns": 16,
        "rows": 5
       }
      },
      "text/html": [
       "<div>\n",
       "<style scoped>\n",
       "    .dataframe tbody tr th:only-of-type {\n",
       "        vertical-align: middle;\n",
       "    }\n",
       "\n",
       "    .dataframe tbody tr th {\n",
       "        vertical-align: top;\n",
       "    }\n",
       "\n",
       "    .dataframe thead th {\n",
       "        text-align: right;\n",
       "    }\n",
       "</style>\n",
       "<table border=\"1\" class=\"dataframe\">\n",
       "  <thead>\n",
       "    <tr style=\"text-align: right;\">\n",
       "      <th></th>\n",
       "      <th>Product_Category</th>\n",
       "      <th>Sales_Volume</th>\n",
       "      <th>Price</th>\n",
       "      <th>Promotion</th>\n",
       "      <th>Store_Location</th>\n",
       "      <th>Weekday</th>\n",
       "      <th>Supplier_Cost</th>\n",
       "      <th>Replenishment_Lead_Time</th>\n",
       "      <th>Stock_Level</th>\n",
       "      <th>Year</th>\n",
       "      <th>Month</th>\n",
       "      <th>Sales_Value</th>\n",
       "      <th>Stock_Status</th>\n",
       "      <th>Product_Category_cat</th>\n",
       "      <th>Store_Location_cat</th>\n",
       "      <th>Store_Stock_Status_cat</th>\n",
       "    </tr>\n",
       "  </thead>\n",
       "  <tbody>\n",
       "    <tr>\n",
       "      <th>0</th>\n",
       "      <td>Household</td>\n",
       "      <td>1583</td>\n",
       "      <td>5.190661</td>\n",
       "      <td>0</td>\n",
       "      <td>Urban</td>\n",
       "      <td>5</td>\n",
       "      <td>9.299281</td>\n",
       "      <td>9</td>\n",
       "      <td>207</td>\n",
       "      <td>2022</td>\n",
       "      <td>1</td>\n",
       "      <td>8216.816954</td>\n",
       "      <td>Overstocked</td>\n",
       "      <td>2</td>\n",
       "      <td>2</td>\n",
       "      <td>0</td>\n",
       "    </tr>\n",
       "    <tr>\n",
       "      <th>1</th>\n",
       "      <td>Personal Care</td>\n",
       "      <td>1103</td>\n",
       "      <td>8.949596</td>\n",
       "      <td>0</td>\n",
       "      <td>Urban</td>\n",
       "      <td>6</td>\n",
       "      <td>13.274109</td>\n",
       "      <td>5</td>\n",
       "      <td>253</td>\n",
       "      <td>2022</td>\n",
       "      <td>1</td>\n",
       "      <td>9871.404371</td>\n",
       "      <td>Understocked</td>\n",
       "      <td>3</td>\n",
       "      <td>2</td>\n",
       "      <td>1</td>\n",
       "    </tr>\n",
       "    <tr>\n",
       "      <th>2</th>\n",
       "      <td>Dairy</td>\n",
       "      <td>455</td>\n",
       "      <td>4.867987</td>\n",
       "      <td>0</td>\n",
       "      <td>Rural</td>\n",
       "      <td>0</td>\n",
       "      <td>13.302265</td>\n",
       "      <td>9</td>\n",
       "      <td>245</td>\n",
       "      <td>2022</td>\n",
       "      <td>1</td>\n",
       "      <td>2214.934234</td>\n",
       "      <td>Overstocked</td>\n",
       "      <td>1</td>\n",
       "      <td>0</td>\n",
       "      <td>0</td>\n",
       "    </tr>\n",
       "    <tr>\n",
       "      <th>3</th>\n",
       "      <td>Personal Care</td>\n",
       "      <td>1107</td>\n",
       "      <td>16.968596</td>\n",
       "      <td>1</td>\n",
       "      <td>Urban</td>\n",
       "      <td>1</td>\n",
       "      <td>10.056158</td>\n",
       "      <td>5</td>\n",
       "      <td>265</td>\n",
       "      <td>2022</td>\n",
       "      <td>1</td>\n",
       "      <td>18784.235461</td>\n",
       "      <td>Understocked</td>\n",
       "      <td>3</td>\n",
       "      <td>2</td>\n",
       "      <td>1</td>\n",
       "    </tr>\n",
       "    <tr>\n",
       "      <th>4</th>\n",
       "      <td>Personal Care</td>\n",
       "      <td>1447</td>\n",
       "      <td>4.309673</td>\n",
       "      <td>1</td>\n",
       "      <td>Rural</td>\n",
       "      <td>2</td>\n",
       "      <td>3.562862</td>\n",
       "      <td>8</td>\n",
       "      <td>334</td>\n",
       "      <td>2022</td>\n",
       "      <td>1</td>\n",
       "      <td>6236.097403</td>\n",
       "      <td>Overstocked</td>\n",
       "      <td>3</td>\n",
       "      <td>0</td>\n",
       "      <td>0</td>\n",
       "    </tr>\n",
       "  </tbody>\n",
       "</table>\n",
       "</div>"
      ],
      "text/plain": [
       "  Product_Category  Sales_Volume      Price  Promotion Store_Location  \\\n",
       "0        Household          1583   5.190661          0          Urban   \n",
       "1    Personal Care          1103   8.949596          0          Urban   \n",
       "2            Dairy           455   4.867987          0          Rural   \n",
       "3    Personal Care          1107  16.968596          1          Urban   \n",
       "4    Personal Care          1447   4.309673          1          Rural   \n",
       "\n",
       "   Weekday  Supplier_Cost  Replenishment_Lead_Time  Stock_Level  Year  Month  \\\n",
       "0        5       9.299281                        9          207  2022      1   \n",
       "1        6      13.274109                        5          253  2022      1   \n",
       "2        0      13.302265                        9          245  2022      1   \n",
       "3        1      10.056158                        5          265  2022      1   \n",
       "4        2       3.562862                        8          334  2022      1   \n",
       "\n",
       "    Sales_Value  Stock_Status  Product_Category_cat  Store_Location_cat  \\\n",
       "0   8216.816954   Overstocked                     2                   2   \n",
       "1   9871.404371  Understocked                     3                   2   \n",
       "2   2214.934234   Overstocked                     1                   0   \n",
       "3  18784.235461  Understocked                     3                   2   \n",
       "4   6236.097403   Overstocked                     3                   0   \n",
       "\n",
       "   Store_Stock_Status_cat  \n",
       "0                       0  \n",
       "1                       1  \n",
       "2                       0  \n",
       "3                       1  \n",
       "4                       0  "
      ]
     },
     "execution_count": 18,
     "metadata": {},
     "output_type": "execute_result"
    }
   ],
   "source": [
    "data['Product_Category_cat'] = data['Product_Category'].astype('category').cat.codes\n",
    "data['Store_Location_cat'] = data['Store_Location'].astype('category').cat.codes\n",
    "data['Store_Stock_Status_cat'] = data['Stock_Status'].astype('category').cat.codes\n",
    "data.head()"
   ]
  },
  {
   "cell_type": "code",
   "execution_count": 19,
   "metadata": {},
   "outputs": [],
   "source": [
    "data.drop(['Product_Category','Store_Location'], axis = 1, inplace=True)"
   ]
  },
  {
   "cell_type": "code",
   "execution_count": 20,
   "metadata": {},
   "outputs": [
    {
     "data": {
      "application/vnd.microsoft.datawrangler.viewer.v0+json": {
       "columns": [
        {
         "name": "index",
         "rawType": "int64",
         "type": "integer"
        },
        {
         "name": "Sales_Volume",
         "rawType": "int64",
         "type": "integer"
        },
        {
         "name": "Price",
         "rawType": "float64",
         "type": "float"
        },
        {
         "name": "Promotion",
         "rawType": "int64",
         "type": "integer"
        },
        {
         "name": "Weekday",
         "rawType": "int64",
         "type": "integer"
        },
        {
         "name": "Supplier_Cost",
         "rawType": "float64",
         "type": "float"
        },
        {
         "name": "Replenishment_Lead_Time",
         "rawType": "int64",
         "type": "integer"
        },
        {
         "name": "Stock_Level",
         "rawType": "int64",
         "type": "integer"
        },
        {
         "name": "Year",
         "rawType": "int64",
         "type": "integer"
        },
        {
         "name": "Month",
         "rawType": "int64",
         "type": "integer"
        },
        {
         "name": "Sales_Value",
         "rawType": "float64",
         "type": "float"
        },
        {
         "name": "Stock_Status",
         "rawType": "object",
         "type": "string"
        },
        {
         "name": "Product_Category_cat",
         "rawType": "int8",
         "type": "integer"
        },
        {
         "name": "Store_Location_cat",
         "rawType": "int8",
         "type": "integer"
        },
        {
         "name": "Store_Stock_Status_cat",
         "rawType": "int8",
         "type": "integer"
        }
       ],
       "conversionMethod": "pd.DataFrame",
       "ref": "2051973a-b932-48bf-9548-92d012c7b01f",
       "rows": [
        [
         "0",
         "1583",
         "5.190661373524142",
         "0",
         "5",
         "9.299280855332018",
         "9",
         "207",
         "2022",
         "1",
         "8216.816954288717",
         "Overstocked",
         "2",
         "2",
         "0"
        ],
        [
         "1",
         "1103",
         "8.949595984685402",
         "0",
         "6",
         "13.274108581775032",
         "5",
         "253",
         "2022",
         "1",
         "9871.404371107998",
         "Understocked",
         "3",
         "2",
         "1"
        ],
        [
         "2",
         "455",
         "4.867987326502611",
         "0",
         "0",
         "13.302264839521472",
         "9",
         "245",
         "2022",
         "1",
         "2214.934233558688",
         "Overstocked",
         "1",
         "0",
         "0"
        ],
        [
         "3",
         "1107",
         "16.968595719261735",
         "1",
         "1",
         "10.056158446917369",
         "5",
         "265",
         "2022",
         "1",
         "18784.23546122274",
         "Understocked",
         "3",
         "2",
         "1"
        ],
        [
         "4",
         "1447",
         "4.309673394986819",
         "1",
         "2",
         "3.5628615563574995",
         "8",
         "334",
         "2022",
         "1",
         "6236.097402545927",
         "Overstocked",
         "3",
         "0",
         "0"
        ]
       ],
       "shape": {
        "columns": 14,
        "rows": 5
       }
      },
      "text/html": [
       "<div>\n",
       "<style scoped>\n",
       "    .dataframe tbody tr th:only-of-type {\n",
       "        vertical-align: middle;\n",
       "    }\n",
       "\n",
       "    .dataframe tbody tr th {\n",
       "        vertical-align: top;\n",
       "    }\n",
       "\n",
       "    .dataframe thead th {\n",
       "        text-align: right;\n",
       "    }\n",
       "</style>\n",
       "<table border=\"1\" class=\"dataframe\">\n",
       "  <thead>\n",
       "    <tr style=\"text-align: right;\">\n",
       "      <th></th>\n",
       "      <th>Sales_Volume</th>\n",
       "      <th>Price</th>\n",
       "      <th>Promotion</th>\n",
       "      <th>Weekday</th>\n",
       "      <th>Supplier_Cost</th>\n",
       "      <th>Replenishment_Lead_Time</th>\n",
       "      <th>Stock_Level</th>\n",
       "      <th>Year</th>\n",
       "      <th>Month</th>\n",
       "      <th>Sales_Value</th>\n",
       "      <th>Stock_Status</th>\n",
       "      <th>Product_Category_cat</th>\n",
       "      <th>Store_Location_cat</th>\n",
       "      <th>Store_Stock_Status_cat</th>\n",
       "    </tr>\n",
       "  </thead>\n",
       "  <tbody>\n",
       "    <tr>\n",
       "      <th>0</th>\n",
       "      <td>1583</td>\n",
       "      <td>5.190661</td>\n",
       "      <td>0</td>\n",
       "      <td>5</td>\n",
       "      <td>9.299281</td>\n",
       "      <td>9</td>\n",
       "      <td>207</td>\n",
       "      <td>2022</td>\n",
       "      <td>1</td>\n",
       "      <td>8216.816954</td>\n",
       "      <td>Overstocked</td>\n",
       "      <td>2</td>\n",
       "      <td>2</td>\n",
       "      <td>0</td>\n",
       "    </tr>\n",
       "    <tr>\n",
       "      <th>1</th>\n",
       "      <td>1103</td>\n",
       "      <td>8.949596</td>\n",
       "      <td>0</td>\n",
       "      <td>6</td>\n",
       "      <td>13.274109</td>\n",
       "      <td>5</td>\n",
       "      <td>253</td>\n",
       "      <td>2022</td>\n",
       "      <td>1</td>\n",
       "      <td>9871.404371</td>\n",
       "      <td>Understocked</td>\n",
       "      <td>3</td>\n",
       "      <td>2</td>\n",
       "      <td>1</td>\n",
       "    </tr>\n",
       "    <tr>\n",
       "      <th>2</th>\n",
       "      <td>455</td>\n",
       "      <td>4.867987</td>\n",
       "      <td>0</td>\n",
       "      <td>0</td>\n",
       "      <td>13.302265</td>\n",
       "      <td>9</td>\n",
       "      <td>245</td>\n",
       "      <td>2022</td>\n",
       "      <td>1</td>\n",
       "      <td>2214.934234</td>\n",
       "      <td>Overstocked</td>\n",
       "      <td>1</td>\n",
       "      <td>0</td>\n",
       "      <td>0</td>\n",
       "    </tr>\n",
       "    <tr>\n",
       "      <th>3</th>\n",
       "      <td>1107</td>\n",
       "      <td>16.968596</td>\n",
       "      <td>1</td>\n",
       "      <td>1</td>\n",
       "      <td>10.056158</td>\n",
       "      <td>5</td>\n",
       "      <td>265</td>\n",
       "      <td>2022</td>\n",
       "      <td>1</td>\n",
       "      <td>18784.235461</td>\n",
       "      <td>Understocked</td>\n",
       "      <td>3</td>\n",
       "      <td>2</td>\n",
       "      <td>1</td>\n",
       "    </tr>\n",
       "    <tr>\n",
       "      <th>4</th>\n",
       "      <td>1447</td>\n",
       "      <td>4.309673</td>\n",
       "      <td>1</td>\n",
       "      <td>2</td>\n",
       "      <td>3.562862</td>\n",
       "      <td>8</td>\n",
       "      <td>334</td>\n",
       "      <td>2022</td>\n",
       "      <td>1</td>\n",
       "      <td>6236.097403</td>\n",
       "      <td>Overstocked</td>\n",
       "      <td>3</td>\n",
       "      <td>0</td>\n",
       "      <td>0</td>\n",
       "    </tr>\n",
       "  </tbody>\n",
       "</table>\n",
       "</div>"
      ],
      "text/plain": [
       "   Sales_Volume      Price  Promotion  Weekday  Supplier_Cost  \\\n",
       "0          1583   5.190661          0        5       9.299281   \n",
       "1          1103   8.949596          0        6      13.274109   \n",
       "2           455   4.867987          0        0      13.302265   \n",
       "3          1107  16.968596          1        1      10.056158   \n",
       "4          1447   4.309673          1        2       3.562862   \n",
       "\n",
       "   Replenishment_Lead_Time  Stock_Level  Year  Month   Sales_Value  \\\n",
       "0                        9          207  2022      1   8216.816954   \n",
       "1                        5          253  2022      1   9871.404371   \n",
       "2                        9          245  2022      1   2214.934234   \n",
       "3                        5          265  2022      1  18784.235461   \n",
       "4                        8          334  2022      1   6236.097403   \n",
       "\n",
       "   Stock_Status  Product_Category_cat  Store_Location_cat  \\\n",
       "0   Overstocked                     2                   2   \n",
       "1  Understocked                     3                   2   \n",
       "2   Overstocked                     1                   0   \n",
       "3  Understocked                     3                   2   \n",
       "4   Overstocked                     3                   0   \n",
       "\n",
       "   Store_Stock_Status_cat  \n",
       "0                       0  \n",
       "1                       1  \n",
       "2                       0  \n",
       "3                       1  \n",
       "4                       0  "
      ]
     },
     "execution_count": 20,
     "metadata": {},
     "output_type": "execute_result"
    }
   ],
   "source": [
    "data.head()"
   ]
  },
  {
   "cell_type": "markdown",
   "metadata": {},
   "source": [
    "### Modelling\n",
    "- Splitting dataset"
   ]
  },
  {
   "cell_type": "code",
   "execution_count": 21,
   "metadata": {},
   "outputs": [],
   "source": [
    "data = df.copy()"
   ]
  },
  {
   "cell_type": "code",
   "execution_count": 24,
   "metadata": {},
   "outputs": [
    {
     "data": {
      "text/plain": [
       "Index(['Date', 'Product_Category', 'Sales_Volume', 'Price', 'Promotion',\n",
       "       'Store_Location', 'Weekday', 'Supplier_Cost', 'Replenishment_Lead_Time',\n",
       "       'Stock_Level', 'Year', 'Month', 'Sales_Value'],\n",
       "      dtype='object')"
      ]
     },
     "execution_count": 24,
     "metadata": {},
     "output_type": "execute_result"
    }
   ],
   "source": [
    "data.columns"
   ]
  },
  {
   "cell_type": "code",
   "execution_count": 23,
   "metadata": {},
   "outputs": [
    {
     "ename": "KeyError",
     "evalue": "\"['Stock_Status'] not found in axis\"",
     "output_type": "error",
     "traceback": [
      "\u001b[1;31m---------------------------------------------------------------------------\u001b[0m",
      "\u001b[1;31mKeyError\u001b[0m                                  Traceback (most recent call last)",
      "Input \u001b[1;32mIn [23]\u001b[0m, in \u001b[0;36m<cell line: 1>\u001b[1;34m()\u001b[0m\n\u001b[1;32m----> 1\u001b[0m X \u001b[38;5;241m=\u001b[39m \u001b[43mdata\u001b[49m\u001b[38;5;241;43m.\u001b[39;49m\u001b[43mdrop\u001b[49m\u001b[43m(\u001b[49m\u001b[38;5;124;43m'\u001b[39;49m\u001b[38;5;124;43mStock_Status\u001b[39;49m\u001b[38;5;124;43m'\u001b[39;49m\u001b[43m,\u001b[49m\u001b[43m \u001b[49m\u001b[43maxis\u001b[49m\u001b[43m \u001b[49m\u001b[38;5;241;43m=\u001b[39;49m\u001b[43m \u001b[49m\u001b[38;5;241;43m1\u001b[39;49m\u001b[43m)\u001b[49m\n\u001b[0;32m      2\u001b[0m y \u001b[38;5;241m=\u001b[39m data[\u001b[38;5;124m'\u001b[39m\u001b[38;5;124mStock_Status\u001b[39m\u001b[38;5;124m'\u001b[39m]\n",
      "File \u001b[1;32mc:\\Users\\user\\anaconda3\\lib\\site-packages\\pandas\\util\\_decorators.py:311\u001b[0m, in \u001b[0;36mdeprecate_nonkeyword_arguments.<locals>.decorate.<locals>.wrapper\u001b[1;34m(*args, **kwargs)\u001b[0m\n\u001b[0;32m    305\u001b[0m \u001b[38;5;28;01mif\u001b[39;00m \u001b[38;5;28mlen\u001b[39m(args) \u001b[38;5;241m>\u001b[39m num_allow_args:\n\u001b[0;32m    306\u001b[0m     warnings\u001b[38;5;241m.\u001b[39mwarn(\n\u001b[0;32m    307\u001b[0m         msg\u001b[38;5;241m.\u001b[39mformat(arguments\u001b[38;5;241m=\u001b[39marguments),\n\u001b[0;32m    308\u001b[0m         \u001b[38;5;167;01mFutureWarning\u001b[39;00m,\n\u001b[0;32m    309\u001b[0m         stacklevel\u001b[38;5;241m=\u001b[39mstacklevel,\n\u001b[0;32m    310\u001b[0m     )\n\u001b[1;32m--> 311\u001b[0m \u001b[38;5;28;01mreturn\u001b[39;00m func(\u001b[38;5;241m*\u001b[39margs, \u001b[38;5;241m*\u001b[39m\u001b[38;5;241m*\u001b[39mkwargs)\n",
      "File \u001b[1;32mc:\\Users\\user\\anaconda3\\lib\\site-packages\\pandas\\core\\frame.py:4954\u001b[0m, in \u001b[0;36mDataFrame.drop\u001b[1;34m(self, labels, axis, index, columns, level, inplace, errors)\u001b[0m\n\u001b[0;32m   4806\u001b[0m \u001b[38;5;129m@deprecate_nonkeyword_arguments\u001b[39m(version\u001b[38;5;241m=\u001b[39m\u001b[38;5;28;01mNone\u001b[39;00m, allowed_args\u001b[38;5;241m=\u001b[39m[\u001b[38;5;124m\"\u001b[39m\u001b[38;5;124mself\u001b[39m\u001b[38;5;124m\"\u001b[39m, \u001b[38;5;124m\"\u001b[39m\u001b[38;5;124mlabels\u001b[39m\u001b[38;5;124m\"\u001b[39m])\n\u001b[0;32m   4807\u001b[0m \u001b[38;5;28;01mdef\u001b[39;00m \u001b[38;5;21mdrop\u001b[39m(\n\u001b[0;32m   4808\u001b[0m     \u001b[38;5;28mself\u001b[39m,\n\u001b[1;32m   (...)\u001b[0m\n\u001b[0;32m   4815\u001b[0m     errors: \u001b[38;5;28mstr\u001b[39m \u001b[38;5;241m=\u001b[39m \u001b[38;5;124m\"\u001b[39m\u001b[38;5;124mraise\u001b[39m\u001b[38;5;124m\"\u001b[39m,\n\u001b[0;32m   4816\u001b[0m ):\n\u001b[0;32m   4817\u001b[0m     \u001b[38;5;124;03m\"\"\"\u001b[39;00m\n\u001b[0;32m   4818\u001b[0m \u001b[38;5;124;03m    Drop specified labels from rows or columns.\u001b[39;00m\n\u001b[0;32m   4819\u001b[0m \n\u001b[1;32m   (...)\u001b[0m\n\u001b[0;32m   4952\u001b[0m \u001b[38;5;124;03m            weight  1.0     0.8\u001b[39;00m\n\u001b[0;32m   4953\u001b[0m \u001b[38;5;124;03m    \"\"\"\u001b[39;00m\n\u001b[1;32m-> 4954\u001b[0m     \u001b[38;5;28;01mreturn\u001b[39;00m \u001b[38;5;28;43msuper\u001b[39;49m\u001b[43m(\u001b[49m\u001b[43m)\u001b[49m\u001b[38;5;241;43m.\u001b[39;49m\u001b[43mdrop\u001b[49m\u001b[43m(\u001b[49m\n\u001b[0;32m   4955\u001b[0m \u001b[43m        \u001b[49m\u001b[43mlabels\u001b[49m\u001b[38;5;241;43m=\u001b[39;49m\u001b[43mlabels\u001b[49m\u001b[43m,\u001b[49m\n\u001b[0;32m   4956\u001b[0m \u001b[43m        \u001b[49m\u001b[43maxis\u001b[49m\u001b[38;5;241;43m=\u001b[39;49m\u001b[43maxis\u001b[49m\u001b[43m,\u001b[49m\n\u001b[0;32m   4957\u001b[0m \u001b[43m        \u001b[49m\u001b[43mindex\u001b[49m\u001b[38;5;241;43m=\u001b[39;49m\u001b[43mindex\u001b[49m\u001b[43m,\u001b[49m\n\u001b[0;32m   4958\u001b[0m \u001b[43m        \u001b[49m\u001b[43mcolumns\u001b[49m\u001b[38;5;241;43m=\u001b[39;49m\u001b[43mcolumns\u001b[49m\u001b[43m,\u001b[49m\n\u001b[0;32m   4959\u001b[0m \u001b[43m        \u001b[49m\u001b[43mlevel\u001b[49m\u001b[38;5;241;43m=\u001b[39;49m\u001b[43mlevel\u001b[49m\u001b[43m,\u001b[49m\n\u001b[0;32m   4960\u001b[0m \u001b[43m        \u001b[49m\u001b[43minplace\u001b[49m\u001b[38;5;241;43m=\u001b[39;49m\u001b[43minplace\u001b[49m\u001b[43m,\u001b[49m\n\u001b[0;32m   4961\u001b[0m \u001b[43m        \u001b[49m\u001b[43merrors\u001b[49m\u001b[38;5;241;43m=\u001b[39;49m\u001b[43merrors\u001b[49m\u001b[43m,\u001b[49m\n\u001b[0;32m   4962\u001b[0m \u001b[43m    \u001b[49m\u001b[43m)\u001b[49m\n",
      "File \u001b[1;32mc:\\Users\\user\\anaconda3\\lib\\site-packages\\pandas\\core\\generic.py:4267\u001b[0m, in \u001b[0;36mNDFrame.drop\u001b[1;34m(self, labels, axis, index, columns, level, inplace, errors)\u001b[0m\n\u001b[0;32m   4265\u001b[0m \u001b[38;5;28;01mfor\u001b[39;00m axis, labels \u001b[38;5;129;01min\u001b[39;00m axes\u001b[38;5;241m.\u001b[39mitems():\n\u001b[0;32m   4266\u001b[0m     \u001b[38;5;28;01mif\u001b[39;00m labels \u001b[38;5;129;01mis\u001b[39;00m \u001b[38;5;129;01mnot\u001b[39;00m \u001b[38;5;28;01mNone\u001b[39;00m:\n\u001b[1;32m-> 4267\u001b[0m         obj \u001b[38;5;241m=\u001b[39m \u001b[43mobj\u001b[49m\u001b[38;5;241;43m.\u001b[39;49m\u001b[43m_drop_axis\u001b[49m\u001b[43m(\u001b[49m\u001b[43mlabels\u001b[49m\u001b[43m,\u001b[49m\u001b[43m \u001b[49m\u001b[43maxis\u001b[49m\u001b[43m,\u001b[49m\u001b[43m \u001b[49m\u001b[43mlevel\u001b[49m\u001b[38;5;241;43m=\u001b[39;49m\u001b[43mlevel\u001b[49m\u001b[43m,\u001b[49m\u001b[43m \u001b[49m\u001b[43merrors\u001b[49m\u001b[38;5;241;43m=\u001b[39;49m\u001b[43merrors\u001b[49m\u001b[43m)\u001b[49m\n\u001b[0;32m   4269\u001b[0m \u001b[38;5;28;01mif\u001b[39;00m inplace:\n\u001b[0;32m   4270\u001b[0m     \u001b[38;5;28mself\u001b[39m\u001b[38;5;241m.\u001b[39m_update_inplace(obj)\n",
      "File \u001b[1;32mc:\\Users\\user\\anaconda3\\lib\\site-packages\\pandas\\core\\generic.py:4311\u001b[0m, in \u001b[0;36mNDFrame._drop_axis\u001b[1;34m(self, labels, axis, level, errors, consolidate, only_slice)\u001b[0m\n\u001b[0;32m   4309\u001b[0m         new_axis \u001b[38;5;241m=\u001b[39m axis\u001b[38;5;241m.\u001b[39mdrop(labels, level\u001b[38;5;241m=\u001b[39mlevel, errors\u001b[38;5;241m=\u001b[39merrors)\n\u001b[0;32m   4310\u001b[0m     \u001b[38;5;28;01melse\u001b[39;00m:\n\u001b[1;32m-> 4311\u001b[0m         new_axis \u001b[38;5;241m=\u001b[39m \u001b[43maxis\u001b[49m\u001b[38;5;241;43m.\u001b[39;49m\u001b[43mdrop\u001b[49m\u001b[43m(\u001b[49m\u001b[43mlabels\u001b[49m\u001b[43m,\u001b[49m\u001b[43m \u001b[49m\u001b[43merrors\u001b[49m\u001b[38;5;241;43m=\u001b[39;49m\u001b[43merrors\u001b[49m\u001b[43m)\u001b[49m\n\u001b[0;32m   4312\u001b[0m     indexer \u001b[38;5;241m=\u001b[39m axis\u001b[38;5;241m.\u001b[39mget_indexer(new_axis)\n\u001b[0;32m   4314\u001b[0m \u001b[38;5;66;03m# Case for non-unique axis\u001b[39;00m\n\u001b[0;32m   4315\u001b[0m \u001b[38;5;28;01melse\u001b[39;00m:\n",
      "File \u001b[1;32mc:\\Users\\user\\anaconda3\\lib\\site-packages\\pandas\\core\\indexes\\base.py:6644\u001b[0m, in \u001b[0;36mIndex.drop\u001b[1;34m(self, labels, errors)\u001b[0m\n\u001b[0;32m   6642\u001b[0m \u001b[38;5;28;01mif\u001b[39;00m mask\u001b[38;5;241m.\u001b[39many():\n\u001b[0;32m   6643\u001b[0m     \u001b[38;5;28;01mif\u001b[39;00m errors \u001b[38;5;241m!=\u001b[39m \u001b[38;5;124m\"\u001b[39m\u001b[38;5;124mignore\u001b[39m\u001b[38;5;124m\"\u001b[39m:\n\u001b[1;32m-> 6644\u001b[0m         \u001b[38;5;28;01mraise\u001b[39;00m \u001b[38;5;167;01mKeyError\u001b[39;00m(\u001b[38;5;124mf\u001b[39m\u001b[38;5;124m\"\u001b[39m\u001b[38;5;132;01m{\u001b[39;00m\u001b[38;5;28mlist\u001b[39m(labels[mask])\u001b[38;5;132;01m}\u001b[39;00m\u001b[38;5;124m not found in axis\u001b[39m\u001b[38;5;124m\"\u001b[39m)\n\u001b[0;32m   6645\u001b[0m     indexer \u001b[38;5;241m=\u001b[39m indexer[\u001b[38;5;241m~\u001b[39mmask]\n\u001b[0;32m   6646\u001b[0m \u001b[38;5;28;01mreturn\u001b[39;00m \u001b[38;5;28mself\u001b[39m\u001b[38;5;241m.\u001b[39mdelete(indexer)\n",
      "\u001b[1;31mKeyError\u001b[0m: \"['Stock_Status'] not found in axis\""
     ]
    }
   ],
   "source": [
    "X = data.drop('Stock_Status', axis = 1)\n",
    "y = data['Stock_Status']"
   ]
  },
  {
   "cell_type": "code",
   "execution_count": null,
   "metadata": {},
   "outputs": [],
   "source": [
    "# Slitting the data (70% for training and 30% for testing).\n",
    "X_train, X_test, y_train, y_test = train_test_split(X, y, test_size=0.3, random_state=0)\n",
    "\n",
    "y_test_actual = y_test\n"
   ]
  },
  {
   "cell_type": "markdown",
   "metadata": {},
   "source": [
    "- Scaling data"
   ]
  },
  {
   "cell_type": "code",
   "execution_count": null,
   "metadata": {},
   "outputs": [
    {
     "ename": "TypeError",
     "evalue": "float() argument must be a string or a number, not 'Timestamp'",
     "output_type": "error",
     "traceback": [
      "\u001b[1;31m---------------------------------------------------------------------------\u001b[0m",
      "\u001b[1;31mTypeError\u001b[0m                                 Traceback (most recent call last)",
      "Input \u001b[1;32mIn [18]\u001b[0m, in \u001b[0;36m<cell line: 2>\u001b[1;34m()\u001b[0m\n\u001b[0;32m      1\u001b[0m scaler \u001b[38;5;241m=\u001b[39m StandardScaler()\n\u001b[1;32m----> 2\u001b[0m \u001b[43mscaler\u001b[49m\u001b[38;5;241;43m.\u001b[39;49m\u001b[43mfit\u001b[49m\u001b[43m(\u001b[49m\u001b[43mX_train\u001b[49m\u001b[43m)\u001b[49m\n\u001b[0;32m      3\u001b[0m X_train_scaled \u001b[38;5;241m=\u001b[39m scaler\u001b[38;5;241m.\u001b[39mtransform(X_train)\n\u001b[0;32m      4\u001b[0m X_test_scaled \u001b[38;5;241m=\u001b[39m scaler\u001b[38;5;241m.\u001b[39mtransform(X_test)\n",
      "File \u001b[1;32mc:\\Users\\user\\anaconda3\\lib\\site-packages\\sklearn\\preprocessing\\_data.py:809\u001b[0m, in \u001b[0;36mStandardScaler.fit\u001b[1;34m(self, X, y, sample_weight)\u001b[0m\n\u001b[0;32m    807\u001b[0m \u001b[38;5;66;03m# Reset internal state before fitting\u001b[39;00m\n\u001b[0;32m    808\u001b[0m \u001b[38;5;28mself\u001b[39m\u001b[38;5;241m.\u001b[39m_reset()\n\u001b[1;32m--> 809\u001b[0m \u001b[38;5;28;01mreturn\u001b[39;00m \u001b[38;5;28;43mself\u001b[39;49m\u001b[38;5;241;43m.\u001b[39;49m\u001b[43mpartial_fit\u001b[49m\u001b[43m(\u001b[49m\u001b[43mX\u001b[49m\u001b[43m,\u001b[49m\u001b[43m \u001b[49m\u001b[43my\u001b[49m\u001b[43m,\u001b[49m\u001b[43m \u001b[49m\u001b[43msample_weight\u001b[49m\u001b[43m)\u001b[49m\n",
      "File \u001b[1;32mc:\\Users\\user\\anaconda3\\lib\\site-packages\\sklearn\\preprocessing\\_data.py:844\u001b[0m, in \u001b[0;36mStandardScaler.partial_fit\u001b[1;34m(self, X, y, sample_weight)\u001b[0m\n\u001b[0;32m    812\u001b[0m \u001b[38;5;124;03m\"\"\"Online computation of mean and std on X for later scaling.\u001b[39;00m\n\u001b[0;32m    813\u001b[0m \n\u001b[0;32m    814\u001b[0m \u001b[38;5;124;03mAll of X is processed as a single batch. This is intended for cases\u001b[39;00m\n\u001b[1;32m   (...)\u001b[0m\n\u001b[0;32m    841\u001b[0m \u001b[38;5;124;03m    Fitted scaler.\u001b[39;00m\n\u001b[0;32m    842\u001b[0m \u001b[38;5;124;03m\"\"\"\u001b[39;00m\n\u001b[0;32m    843\u001b[0m first_call \u001b[38;5;241m=\u001b[39m \u001b[38;5;129;01mnot\u001b[39;00m \u001b[38;5;28mhasattr\u001b[39m(\u001b[38;5;28mself\u001b[39m, \u001b[38;5;124m\"\u001b[39m\u001b[38;5;124mn_samples_seen_\u001b[39m\u001b[38;5;124m\"\u001b[39m)\n\u001b[1;32m--> 844\u001b[0m X \u001b[38;5;241m=\u001b[39m \u001b[38;5;28;43mself\u001b[39;49m\u001b[38;5;241;43m.\u001b[39;49m\u001b[43m_validate_data\u001b[49m\u001b[43m(\u001b[49m\n\u001b[0;32m    845\u001b[0m \u001b[43m    \u001b[49m\u001b[43mX\u001b[49m\u001b[43m,\u001b[49m\n\u001b[0;32m    846\u001b[0m \u001b[43m    \u001b[49m\u001b[43maccept_sparse\u001b[49m\u001b[38;5;241;43m=\u001b[39;49m\u001b[43m(\u001b[49m\u001b[38;5;124;43m\"\u001b[39;49m\u001b[38;5;124;43mcsr\u001b[39;49m\u001b[38;5;124;43m\"\u001b[39;49m\u001b[43m,\u001b[49m\u001b[43m \u001b[49m\u001b[38;5;124;43m\"\u001b[39;49m\u001b[38;5;124;43mcsc\u001b[39;49m\u001b[38;5;124;43m\"\u001b[39;49m\u001b[43m)\u001b[49m\u001b[43m,\u001b[49m\n\u001b[0;32m    847\u001b[0m \u001b[43m    \u001b[49m\u001b[43mdtype\u001b[49m\u001b[38;5;241;43m=\u001b[39;49m\u001b[43mFLOAT_DTYPES\u001b[49m\u001b[43m,\u001b[49m\n\u001b[0;32m    848\u001b[0m \u001b[43m    \u001b[49m\u001b[43mforce_all_finite\u001b[49m\u001b[38;5;241;43m=\u001b[39;49m\u001b[38;5;124;43m\"\u001b[39;49m\u001b[38;5;124;43mallow-nan\u001b[39;49m\u001b[38;5;124;43m\"\u001b[39;49m\u001b[43m,\u001b[49m\n\u001b[0;32m    849\u001b[0m \u001b[43m    \u001b[49m\u001b[43mreset\u001b[49m\u001b[38;5;241;43m=\u001b[39;49m\u001b[43mfirst_call\u001b[49m\u001b[43m,\u001b[49m\n\u001b[0;32m    850\u001b[0m \u001b[43m\u001b[49m\u001b[43m)\u001b[49m\n\u001b[0;32m    851\u001b[0m n_features \u001b[38;5;241m=\u001b[39m X\u001b[38;5;241m.\u001b[39mshape[\u001b[38;5;241m1\u001b[39m]\n\u001b[0;32m    853\u001b[0m \u001b[38;5;28;01mif\u001b[39;00m sample_weight \u001b[38;5;129;01mis\u001b[39;00m \u001b[38;5;129;01mnot\u001b[39;00m \u001b[38;5;28;01mNone\u001b[39;00m:\n",
      "File \u001b[1;32mc:\\Users\\user\\anaconda3\\lib\\site-packages\\sklearn\\base.py:577\u001b[0m, in \u001b[0;36mBaseEstimator._validate_data\u001b[1;34m(self, X, y, reset, validate_separately, **check_params)\u001b[0m\n\u001b[0;32m    575\u001b[0m     \u001b[38;5;28;01mraise\u001b[39;00m \u001b[38;5;167;01mValueError\u001b[39;00m(\u001b[38;5;124m\"\u001b[39m\u001b[38;5;124mValidation should be done on X, y or both.\u001b[39m\u001b[38;5;124m\"\u001b[39m)\n\u001b[0;32m    576\u001b[0m \u001b[38;5;28;01melif\u001b[39;00m \u001b[38;5;129;01mnot\u001b[39;00m no_val_X \u001b[38;5;129;01mand\u001b[39;00m no_val_y:\n\u001b[1;32m--> 577\u001b[0m     X \u001b[38;5;241m=\u001b[39m check_array(X, input_name\u001b[38;5;241m=\u001b[39m\u001b[38;5;124m\"\u001b[39m\u001b[38;5;124mX\u001b[39m\u001b[38;5;124m\"\u001b[39m, \u001b[38;5;241m*\u001b[39m\u001b[38;5;241m*\u001b[39mcheck_params)\n\u001b[0;32m    578\u001b[0m     out \u001b[38;5;241m=\u001b[39m X\n\u001b[0;32m    579\u001b[0m \u001b[38;5;28;01melif\u001b[39;00m no_val_X \u001b[38;5;129;01mand\u001b[39;00m \u001b[38;5;129;01mnot\u001b[39;00m no_val_y:\n",
      "File \u001b[1;32mc:\\Users\\user\\anaconda3\\lib\\site-packages\\sklearn\\utils\\validation.py:856\u001b[0m, in \u001b[0;36mcheck_array\u001b[1;34m(array, accept_sparse, accept_large_sparse, dtype, order, copy, force_all_finite, ensure_2d, allow_nd, ensure_min_samples, ensure_min_features, estimator, input_name)\u001b[0m\n\u001b[0;32m    854\u001b[0m         array \u001b[38;5;241m=\u001b[39m array\u001b[38;5;241m.\u001b[39mastype(dtype, casting\u001b[38;5;241m=\u001b[39m\u001b[38;5;124m\"\u001b[39m\u001b[38;5;124munsafe\u001b[39m\u001b[38;5;124m\"\u001b[39m, copy\u001b[38;5;241m=\u001b[39m\u001b[38;5;28;01mFalse\u001b[39;00m)\n\u001b[0;32m    855\u001b[0m     \u001b[38;5;28;01melse\u001b[39;00m:\n\u001b[1;32m--> 856\u001b[0m         array \u001b[38;5;241m=\u001b[39m \u001b[43mnp\u001b[49m\u001b[38;5;241;43m.\u001b[39;49m\u001b[43masarray\u001b[49m\u001b[43m(\u001b[49m\u001b[43marray\u001b[49m\u001b[43m,\u001b[49m\u001b[43m \u001b[49m\u001b[43morder\u001b[49m\u001b[38;5;241;43m=\u001b[39;49m\u001b[43morder\u001b[49m\u001b[43m,\u001b[49m\u001b[43m \u001b[49m\u001b[43mdtype\u001b[49m\u001b[38;5;241;43m=\u001b[39;49m\u001b[43mdtype\u001b[49m\u001b[43m)\u001b[49m\n\u001b[0;32m    857\u001b[0m \u001b[38;5;28;01mexcept\u001b[39;00m ComplexWarning \u001b[38;5;28;01mas\u001b[39;00m complex_warning:\n\u001b[0;32m    858\u001b[0m     \u001b[38;5;28;01mraise\u001b[39;00m \u001b[38;5;167;01mValueError\u001b[39;00m(\n\u001b[0;32m    859\u001b[0m         \u001b[38;5;124m\"\u001b[39m\u001b[38;5;124mComplex data not supported\u001b[39m\u001b[38;5;130;01m\\n\u001b[39;00m\u001b[38;5;132;01m{}\u001b[39;00m\u001b[38;5;130;01m\\n\u001b[39;00m\u001b[38;5;124m\"\u001b[39m\u001b[38;5;241m.\u001b[39mformat(array)\n\u001b[0;32m    860\u001b[0m     ) \u001b[38;5;28;01mfrom\u001b[39;00m \u001b[38;5;21;01mcomplex_warning\u001b[39;00m\n",
      "File \u001b[1;32mc:\\Users\\user\\anaconda3\\lib\\site-packages\\pandas\\core\\generic.py:2064\u001b[0m, in \u001b[0;36mNDFrame.__array__\u001b[1;34m(self, dtype)\u001b[0m\n\u001b[0;32m   2063\u001b[0m \u001b[38;5;28;01mdef\u001b[39;00m \u001b[38;5;21m__array__\u001b[39m(\u001b[38;5;28mself\u001b[39m, dtype: npt\u001b[38;5;241m.\u001b[39mDTypeLike \u001b[38;5;241m|\u001b[39m \u001b[38;5;28;01mNone\u001b[39;00m \u001b[38;5;241m=\u001b[39m \u001b[38;5;28;01mNone\u001b[39;00m) \u001b[38;5;241m-\u001b[39m\u001b[38;5;241m>\u001b[39m np\u001b[38;5;241m.\u001b[39mndarray:\n\u001b[1;32m-> 2064\u001b[0m     \u001b[38;5;28;01mreturn\u001b[39;00m \u001b[43mnp\u001b[49m\u001b[38;5;241;43m.\u001b[39;49m\u001b[43masarray\u001b[49m\u001b[43m(\u001b[49m\u001b[38;5;28;43mself\u001b[39;49m\u001b[38;5;241;43m.\u001b[39;49m\u001b[43m_values\u001b[49m\u001b[43m,\u001b[49m\u001b[43m \u001b[49m\u001b[43mdtype\u001b[49m\u001b[38;5;241;43m=\u001b[39;49m\u001b[43mdtype\u001b[49m\u001b[43m)\u001b[49m\n",
      "\u001b[1;31mTypeError\u001b[0m: float() argument must be a string or a number, not 'Timestamp'"
     ]
    }
   ],
   "source": [
    "scaler = StandardScaler()\n",
    "scaler.fit(X_train)\n",
    "X_train_scaled = scaler.transform(X_train)\n",
    "X_test_scaled = scaler.transform(X_test)"
   ]
  },
  {
   "cell_type": "code",
   "execution_count": null,
   "metadata": {},
   "outputs": [],
   "source": [
    "from sklearn.tree import DecisionTreeClassifier\n",
    "\n",
    "linear_reg = LinearRegression()\n",
    "linear_reg.fit(X_train_scaled,y_train)"
   ]
  },
  {
   "cell_type": "markdown",
   "metadata": {},
   "source": [
    "### Train the Model\n",
    "- Linear Regression Model"
   ]
  },
  {
   "cell_type": "code",
   "execution_count": null,
   "metadata": {},
   "outputs": [
    {
     "ename": "NameError",
     "evalue": "name 'X_train_scaled' is not defined",
     "output_type": "error",
     "traceback": [
      "\u001b[1;31m---------------------------------------------------------------------------\u001b[0m",
      "\u001b[1;31mNameError\u001b[0m                                 Traceback (most recent call last)",
      "Input \u001b[1;32mIn [29]\u001b[0m, in \u001b[0;36m<cell line: 2>\u001b[1;34m()\u001b[0m\n\u001b[0;32m      1\u001b[0m linear_reg \u001b[38;5;241m=\u001b[39m LinearRegression()\n\u001b[1;32m----> 2\u001b[0m linear_reg\u001b[38;5;241m.\u001b[39mfit(\u001b[43mX_train_scaled\u001b[49m,y_train)\n",
      "\u001b[1;31mNameError\u001b[0m: name 'X_train_scaled' is not defined"
     ]
    }
   ],
   "source": [
    "linear_reg = LinearRegression()\n",
    "linear_reg.fit(X_train_scaled,y_train)"
   ]
  },
  {
   "cell_type": "code",
   "execution_count": null,
   "metadata": {},
   "outputs": [
    {
     "data": {
      "application/vnd.microsoft.datawrangler.viewer.v0+json": {
       "columns": [
        {
         "name": "index",
         "rawType": "object",
         "type": "string"
        },
        {
         "name": "Value",
         "rawType": "float64",
         "type": "float"
        }
       ],
       "conversionMethod": "pd.DataFrame",
       "ref": "648eb576-696d-40a7-abc4-0ab54b385e33",
       "rows": [
        [
         "Intercept",
         "1054.492857142859"
        ],
        [
         "Store_Location_cat Coef.",
         "29.86521658088289"
        ],
        [
         "Supplier_Cost Coef.",
         "18.788799837791228"
        ],
        [
         "Replenishment_Lead_Time Coef.",
         "17.341932724954926"
        ],
        [
         "Year Coef.",
         "12.39000037110744"
        ],
        [
         "Promotion Coef.",
         "11.791359937550661"
        ],
        [
         "Weekday Coef.",
         "1.0313978708595872"
        ],
        [
         "Stock_Level Coef.",
         "-4.485649986057766"
        ],
        [
         "Month Coef.",
         "-11.031190023045932"
        ],
        [
         "Price Coef.",
         "-12.739334626770788"
        ],
        [
         "Product_Category_cat Coef.",
         "-19.151305492426715"
        ]
       ],
       "shape": {
        "columns": 1,
        "rows": 11
       }
      },
      "text/html": [
       "<div>\n",
       "<style scoped>\n",
       "    .dataframe tbody tr th:only-of-type {\n",
       "        vertical-align: middle;\n",
       "    }\n",
       "\n",
       "    .dataframe tbody tr th {\n",
       "        vertical-align: top;\n",
       "    }\n",
       "\n",
       "    .dataframe thead th {\n",
       "        text-align: right;\n",
       "    }\n",
       "</style>\n",
       "<table border=\"1\" class=\"dataframe\">\n",
       "  <thead>\n",
       "    <tr style=\"text-align: right;\">\n",
       "      <th></th>\n",
       "      <th>Value</th>\n",
       "    </tr>\n",
       "  </thead>\n",
       "  <tbody>\n",
       "    <tr>\n",
       "      <th>Intercept</th>\n",
       "      <td>1054.492857</td>\n",
       "    </tr>\n",
       "    <tr>\n",
       "      <th>Store_Location_cat Coef.</th>\n",
       "      <td>29.865217</td>\n",
       "    </tr>\n",
       "    <tr>\n",
       "      <th>Supplier_Cost Coef.</th>\n",
       "      <td>18.788800</td>\n",
       "    </tr>\n",
       "    <tr>\n",
       "      <th>Replenishment_Lead_Time Coef.</th>\n",
       "      <td>17.341933</td>\n",
       "    </tr>\n",
       "    <tr>\n",
       "      <th>Year Coef.</th>\n",
       "      <td>12.390000</td>\n",
       "    </tr>\n",
       "    <tr>\n",
       "      <th>Promotion Coef.</th>\n",
       "      <td>11.791360</td>\n",
       "    </tr>\n",
       "    <tr>\n",
       "      <th>Weekday Coef.</th>\n",
       "      <td>1.031398</td>\n",
       "    </tr>\n",
       "    <tr>\n",
       "      <th>Stock_Level Coef.</th>\n",
       "      <td>-4.485650</td>\n",
       "    </tr>\n",
       "    <tr>\n",
       "      <th>Month Coef.</th>\n",
       "      <td>-11.031190</td>\n",
       "    </tr>\n",
       "    <tr>\n",
       "      <th>Price Coef.</th>\n",
       "      <td>-12.739335</td>\n",
       "    </tr>\n",
       "    <tr>\n",
       "      <th>Product_Category_cat Coef.</th>\n",
       "      <td>-19.151305</td>\n",
       "    </tr>\n",
       "  </tbody>\n",
       "</table>\n",
       "</div>"
      ],
      "text/plain": [
       "                                     Value\n",
       "Intercept                      1054.492857\n",
       "Store_Location_cat Coef.         29.865217\n",
       "Supplier_Cost Coef.              18.788800\n",
       "Replenishment_Lead_Time Coef.    17.341933\n",
       "Year Coef.                       12.390000\n",
       "Promotion Coef.                  11.791360\n",
       "Weekday Coef.                     1.031398\n",
       "Stock_Level Coef.                -4.485650\n",
       "Month Coef.                     -11.031190\n",
       "Price Coef.                     -12.739335\n",
       "Product_Category_cat Coef.      -19.151305"
      ]
     },
     "execution_count": 30,
     "metadata": {},
     "output_type": "execute_result"
    }
   ],
   "source": [
    "# The intercept and co-efficient for each column in our training dataset.\n",
    "pd.DataFrame(data = np.append(linear_reg.intercept_ , linear_reg.coef_), index = ['Intercept']+[col+\" Coef.\" for col in X.columns], columns=['Value']).sort_values('Value', ascending=False)\n"
   ]
  },
  {
   "cell_type": "code",
   "execution_count": null,
   "metadata": {},
   "outputs": [
    {
     "data": {
      "application/vnd.microsoft.datawrangler.viewer.v0+json": {
       "columns": [
        {
         "name": "index",
         "rawType": "object",
         "type": "string"
        },
        {
         "name": "Linear Reg.",
         "rawType": "float64",
         "type": "float"
        }
       ],
       "conversionMethod": "pd.DataFrame",
       "ref": "61b2982e-c441-4c8a-a9f8-428d2a657c33",
       "rows": [
        [
         "MAE",
         "460.27183337343837"
        ],
        [
         "MSE",
         "287471.0968869669"
        ],
        [
         "RMSE",
         "536.1633117688741"
        ],
        [
         "R2-Score",
         "0.004208922329763887"
        ]
       ],
       "shape": {
        "columns": 1,
        "rows": 4
       }
      },
      "text/html": [
       "<div>\n",
       "<style scoped>\n",
       "    .dataframe tbody tr th:only-of-type {\n",
       "        vertical-align: middle;\n",
       "    }\n",
       "\n",
       "    .dataframe tbody tr th {\n",
       "        vertical-align: top;\n",
       "    }\n",
       "\n",
       "    .dataframe thead th {\n",
       "        text-align: right;\n",
       "    }\n",
       "</style>\n",
       "<table border=\"1\" class=\"dataframe\">\n",
       "  <thead>\n",
       "    <tr style=\"text-align: right;\">\n",
       "      <th></th>\n",
       "      <th>Linear Reg.</th>\n",
       "    </tr>\n",
       "  </thead>\n",
       "  <tbody>\n",
       "    <tr>\n",
       "      <th>MAE</th>\n",
       "      <td>460.271833</td>\n",
       "    </tr>\n",
       "    <tr>\n",
       "      <th>MSE</th>\n",
       "      <td>287471.096887</td>\n",
       "    </tr>\n",
       "    <tr>\n",
       "      <th>RMSE</th>\n",
       "      <td>536.163312</td>\n",
       "    </tr>\n",
       "    <tr>\n",
       "      <th>R2-Score</th>\n",
       "      <td>0.004209</td>\n",
       "    </tr>\n",
       "  </tbody>\n",
       "</table>\n",
       "</div>"
      ],
      "text/plain": [
       "            Linear Reg.\n",
       "MAE          460.271833\n",
       "MSE       287471.096887\n",
       "RMSE         536.163312\n",
       "R2-Score       0.004209"
      ]
     },
     "execution_count": 31,
     "metadata": {},
     "output_type": "execute_result"
    }
   ],
   "source": [
    "# Evaluating the model\n",
    "\n",
    "def model_evaluation(model, X_test, y_test, model_name):\n",
    "    y_pred = model.predict(X_test)\n",
    "\n",
    "    MAE = metrics.mean_absolute_error(y_test, y_pred)\n",
    "    MSE = metrics.mean_squared_error(y_test, y_pred)\n",
    "    RMSE = np.sqrt(MSE)\n",
    "    R2_Score = metrics.r2_score(y_test, y_pred)\n",
    "\n",
    "    return pd.DataFrame([MAE, MSE, RMSE, R2_Score], index=['MAE', 'MSE', 'RMSE' ,'R2-Score'], columns=[model_name])\n",
    "\n",
    "model_evaluation(linear_reg, X_test_scaled, y_test, 'Linear Reg.')"
   ]
  },
  {
   "cell_type": "code",
   "execution_count": null,
   "metadata": {},
   "outputs": [
    {
     "ename": "ValueError",
     "evalue": "x and y must be the same size",
     "output_type": "error",
     "traceback": [
      "\u001b[1;31m---------------------------------------------------------------------------\u001b[0m",
      "\u001b[1;31mValueError\u001b[0m                                Traceback (most recent call last)",
      "Input \u001b[1;32mIn [36]\u001b[0m, in \u001b[0;36m<cell line: 1>\u001b[1;34m()\u001b[0m\n\u001b[1;32m----> 1\u001b[0m \u001b[43mplt\u001b[49m\u001b[38;5;241;43m.\u001b[39;49m\u001b[43mscatter\u001b[49m\u001b[43m(\u001b[49m\u001b[43my_train\u001b[49m\u001b[43m,\u001b[49m\u001b[43mX_train_scaled\u001b[49m\u001b[43m)\u001b[49m\n\u001b[0;32m      2\u001b[0m \u001b[38;5;66;03m# plt.plot(X, linear_reg.predict(X_test))\u001b[39;00m\n\u001b[0;32m      3\u001b[0m plt\u001b[38;5;241m.\u001b[39mshow()\n",
      "File \u001b[1;32mc:\\Users\\user\\anaconda3\\lib\\site-packages\\matplotlib\\pyplot.py:2819\u001b[0m, in \u001b[0;36mscatter\u001b[1;34m(x, y, s, c, marker, cmap, norm, vmin, vmax, alpha, linewidths, edgecolors, plotnonfinite, data, **kwargs)\u001b[0m\n\u001b[0;32m   2814\u001b[0m \u001b[38;5;129m@_copy_docstring_and_deprecators\u001b[39m(Axes\u001b[38;5;241m.\u001b[39mscatter)\n\u001b[0;32m   2815\u001b[0m \u001b[38;5;28;01mdef\u001b[39;00m \u001b[38;5;21mscatter\u001b[39m(\n\u001b[0;32m   2816\u001b[0m         x, y, s\u001b[38;5;241m=\u001b[39m\u001b[38;5;28;01mNone\u001b[39;00m, c\u001b[38;5;241m=\u001b[39m\u001b[38;5;28;01mNone\u001b[39;00m, marker\u001b[38;5;241m=\u001b[39m\u001b[38;5;28;01mNone\u001b[39;00m, cmap\u001b[38;5;241m=\u001b[39m\u001b[38;5;28;01mNone\u001b[39;00m, norm\u001b[38;5;241m=\u001b[39m\u001b[38;5;28;01mNone\u001b[39;00m,\n\u001b[0;32m   2817\u001b[0m         vmin\u001b[38;5;241m=\u001b[39m\u001b[38;5;28;01mNone\u001b[39;00m, vmax\u001b[38;5;241m=\u001b[39m\u001b[38;5;28;01mNone\u001b[39;00m, alpha\u001b[38;5;241m=\u001b[39m\u001b[38;5;28;01mNone\u001b[39;00m, linewidths\u001b[38;5;241m=\u001b[39m\u001b[38;5;28;01mNone\u001b[39;00m, \u001b[38;5;241m*\u001b[39m,\n\u001b[0;32m   2818\u001b[0m         edgecolors\u001b[38;5;241m=\u001b[39m\u001b[38;5;28;01mNone\u001b[39;00m, plotnonfinite\u001b[38;5;241m=\u001b[39m\u001b[38;5;28;01mFalse\u001b[39;00m, data\u001b[38;5;241m=\u001b[39m\u001b[38;5;28;01mNone\u001b[39;00m, \u001b[38;5;241m*\u001b[39m\u001b[38;5;241m*\u001b[39mkwargs):\n\u001b[1;32m-> 2819\u001b[0m     __ret \u001b[38;5;241m=\u001b[39m gca()\u001b[38;5;241m.\u001b[39mscatter(\n\u001b[0;32m   2820\u001b[0m         x, y, s\u001b[38;5;241m=\u001b[39ms, c\u001b[38;5;241m=\u001b[39mc, marker\u001b[38;5;241m=\u001b[39mmarker, cmap\u001b[38;5;241m=\u001b[39mcmap, norm\u001b[38;5;241m=\u001b[39mnorm,\n\u001b[0;32m   2821\u001b[0m         vmin\u001b[38;5;241m=\u001b[39mvmin, vmax\u001b[38;5;241m=\u001b[39mvmax, alpha\u001b[38;5;241m=\u001b[39malpha, linewidths\u001b[38;5;241m=\u001b[39mlinewidths,\n\u001b[0;32m   2822\u001b[0m         edgecolors\u001b[38;5;241m=\u001b[39medgecolors, plotnonfinite\u001b[38;5;241m=\u001b[39mplotnonfinite,\n\u001b[0;32m   2823\u001b[0m         \u001b[38;5;241m*\u001b[39m\u001b[38;5;241m*\u001b[39m({\u001b[38;5;124m\"\u001b[39m\u001b[38;5;124mdata\u001b[39m\u001b[38;5;124m\"\u001b[39m: data} \u001b[38;5;28;01mif\u001b[39;00m data \u001b[38;5;129;01mis\u001b[39;00m \u001b[38;5;129;01mnot\u001b[39;00m \u001b[38;5;28;01mNone\u001b[39;00m \u001b[38;5;28;01melse\u001b[39;00m {}), \u001b[38;5;241m*\u001b[39m\u001b[38;5;241m*\u001b[39mkwargs)\n\u001b[0;32m   2824\u001b[0m     sci(__ret)\n\u001b[0;32m   2825\u001b[0m     \u001b[38;5;28;01mreturn\u001b[39;00m __ret\n",
      "File \u001b[1;32mc:\\Users\\user\\anaconda3\\lib\\site-packages\\matplotlib\\__init__.py:1412\u001b[0m, in \u001b[0;36m_preprocess_data.<locals>.inner\u001b[1;34m(ax, data, *args, **kwargs)\u001b[0m\n\u001b[0;32m   1409\u001b[0m \u001b[38;5;129m@functools\u001b[39m\u001b[38;5;241m.\u001b[39mwraps(func)\n\u001b[0;32m   1410\u001b[0m \u001b[38;5;28;01mdef\u001b[39;00m \u001b[38;5;21minner\u001b[39m(ax, \u001b[38;5;241m*\u001b[39margs, data\u001b[38;5;241m=\u001b[39m\u001b[38;5;28;01mNone\u001b[39;00m, \u001b[38;5;241m*\u001b[39m\u001b[38;5;241m*\u001b[39mkwargs):\n\u001b[0;32m   1411\u001b[0m     \u001b[38;5;28;01mif\u001b[39;00m data \u001b[38;5;129;01mis\u001b[39;00m \u001b[38;5;28;01mNone\u001b[39;00m:\n\u001b[1;32m-> 1412\u001b[0m         \u001b[38;5;28;01mreturn\u001b[39;00m func(ax, \u001b[38;5;241m*\u001b[39m\u001b[38;5;28mmap\u001b[39m(sanitize_sequence, args), \u001b[38;5;241m*\u001b[39m\u001b[38;5;241m*\u001b[39mkwargs)\n\u001b[0;32m   1414\u001b[0m     bound \u001b[38;5;241m=\u001b[39m new_sig\u001b[38;5;241m.\u001b[39mbind(ax, \u001b[38;5;241m*\u001b[39margs, \u001b[38;5;241m*\u001b[39m\u001b[38;5;241m*\u001b[39mkwargs)\n\u001b[0;32m   1415\u001b[0m     auto_label \u001b[38;5;241m=\u001b[39m (bound\u001b[38;5;241m.\u001b[39marguments\u001b[38;5;241m.\u001b[39mget(label_namer)\n\u001b[0;32m   1416\u001b[0m                   \u001b[38;5;129;01mor\u001b[39;00m bound\u001b[38;5;241m.\u001b[39mkwargs\u001b[38;5;241m.\u001b[39mget(label_namer))\n",
      "File \u001b[1;32mc:\\Users\\user\\anaconda3\\lib\\site-packages\\matplotlib\\axes\\_axes.py:4362\u001b[0m, in \u001b[0;36mAxes.scatter\u001b[1;34m(self, x, y, s, c, marker, cmap, norm, vmin, vmax, alpha, linewidths, edgecolors, plotnonfinite, **kwargs)\u001b[0m\n\u001b[0;32m   4360\u001b[0m y \u001b[38;5;241m=\u001b[39m np\u001b[38;5;241m.\u001b[39mma\u001b[38;5;241m.\u001b[39mravel(y)\n\u001b[0;32m   4361\u001b[0m \u001b[38;5;28;01mif\u001b[39;00m x\u001b[38;5;241m.\u001b[39msize \u001b[38;5;241m!=\u001b[39m y\u001b[38;5;241m.\u001b[39msize:\n\u001b[1;32m-> 4362\u001b[0m     \u001b[38;5;28;01mraise\u001b[39;00m \u001b[38;5;167;01mValueError\u001b[39;00m(\u001b[38;5;124m\"\u001b[39m\u001b[38;5;124mx and y must be the same size\u001b[39m\u001b[38;5;124m\"\u001b[39m)\n\u001b[0;32m   4364\u001b[0m \u001b[38;5;28;01mif\u001b[39;00m s \u001b[38;5;129;01mis\u001b[39;00m \u001b[38;5;28;01mNone\u001b[39;00m:\n\u001b[0;32m   4365\u001b[0m     s \u001b[38;5;241m=\u001b[39m (\u001b[38;5;241m20\u001b[39m \u001b[38;5;28;01mif\u001b[39;00m rcParams[\u001b[38;5;124m'\u001b[39m\u001b[38;5;124m_internal.classic_mode\u001b[39m\u001b[38;5;124m'\u001b[39m] \u001b[38;5;28;01melse\u001b[39;00m\n\u001b[0;32m   4366\u001b[0m          rcParams[\u001b[38;5;124m'\u001b[39m\u001b[38;5;124mlines.markersize\u001b[39m\u001b[38;5;124m'\u001b[39m] \u001b[38;5;241m*\u001b[39m\u001b[38;5;241m*\u001b[39m \u001b[38;5;241m2.0\u001b[39m)\n",
      "\u001b[1;31mValueError\u001b[0m: x and y must be the same size"
     ]
    },
    {
     "data": {
      "image/png": "[encoded data removed]",
      "text/plain": [
       "<Figure size 640x480 with 1 Axes>"
      ]
     },
     "metadata": {},
     "output_type": "display_data"
    }
   ],
   "source": [
    "plt.scatter(y_train,X_train_scaled)\n",
    "# plt.plot(X, linear_reg.predict(X_test))\n",
    "plt.show()"
   ]
  },
  {
   "cell_type": "code",
   "execution_count": null,
   "metadata": {},
   "outputs": [],
   "source": [
    "y_test_pred = linear_reg.predict(X_test_scaled)\n",
    "df_comp = pd.DataFrame({'Actual':y_test_actual, 'Predicted':y_test_pred})"
   ]
  },
  {
   "cell_type": "code",
   "execution_count": null,
   "metadata": {},
   "outputs": [
    {
     "data": {
      "image/png": "[encoded data removed]",
      "text/plain": [
       "<Figure size 2000x700 with 1 Axes>"
      ]
     },
     "metadata": {},
     "output_type": "display_data"
    }
   ],
   "source": [
    "def compare_plot(df_comp):\n",
    "    df_comp.reset_index(inplace=True)\n",
    "    df_comp.plot(y=['Actual','Predicted'], kind='bar', figsize=(20,7), width=0.8)\n",
    "    plt.title('Predicted vs. Actual Target Values for Test Data', fontsize=20)\n",
    "    plt.ylabel('Volumes', fontsize=15)\n",
    "    plt.show()\n",
    "\n",
    "compare_plot(df_comp)"
   ]
  },
  {
   "cell_type": "code",
   "execution_count": null,
   "metadata": {},
   "outputs": [],
   "source": []
  }
 ],
 "metadata": {
  "kernelspec": {
   "display_name": "base",
   "language": "python",
   "name": "python3"
  },
  "language_info": {
   "codemirror_mode": {
    "name": "ipython",
    "version": 3
   },
   "file_extension": ".py",
   "mimetype": "text/x-python",
   "name": "python",
   "nbconvert_exporter": "python",
   "pygments_lexer": "ipython3",
   "version": "3.9.12"
  }
 },
 "nbformat": 4,
 "nbformat_minor": 2
}
