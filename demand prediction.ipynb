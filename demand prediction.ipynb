{
 "cells": [
  {
   "cell_type": "markdown",
   "metadata": {},
   "source": [
    "FMCG Sales Data for Time Series Forecasting and Decision Analysis\n",
    "\n",
    "# Problem Background\n",
    " In the fast-paced world of Fast-Moving Consumer Goods (FMCG), understanding sales dynamics can be the difference between a product flying off the shelves or gathering dust. \n",
    " This dataset offers a glimpse into the intricate dance of sales volume, pricing, promotions, and more across various store locations.\n",
    "\n",
    "# Problem Definition\n",
    "Use the data to predict sales volume based on other features provided.\n",
    "\n",
    "\n",
    "# Data \n",
    "  https://www.kaggle.com/datasets/krishanukalita/fmcg-sales-demand-forecasting-and-optimization/data\n",
    "\n",
    "\n"
   ]
  },
  {
   "cell_type": "code",
   "execution_count": 1,
   "metadata": {},
   "outputs": [],
   "source": [
    "import numpy as np\n",
    "import pandas as pd\n",
    "import matplotlib.pyplot as plt\n",
    "import seaborn as sns\n",
    "\n",
    "# Suppress warnings\n",
    "import warnings\n",
    "warnings.filterwarnings('ignore')"
   ]
  },
  {
   "cell_type": "code",
   "execution_count": 3,
   "metadata": {},
   "outputs": [
    {
     "data": {
      "application/vnd.microsoft.datawrangler.viewer.v0+json": {
       "columns": [
        {
         "name": "index",
         "rawType": "int64",
         "type": "integer"
        },
        {
         "name": "Date",
         "rawType": "object",
         "type": "string"
        },
        {
         "name": "Product_Category",
         "rawType": "object",
         "type": "string"
        },
        {
         "name": "Sales_Volume",
         "rawType": "int64",
         "type": "integer"
        },
        {
         "name": "Price",
         "rawType": "float64",
         "type": "float"
        },
        {
         "name": "Promotion",
         "rawType": "int64",
         "type": "integer"
        },
        {
         "name": "Store_Location",
         "rawType": "object",
         "type": "string"
        },
        {
         "name": "Weekday",
         "rawType": "int64",
         "type": "integer"
        },
        {
         "name": "Supplier_Cost",
         "rawType": "float64",
         "type": "float"
        },
        {
         "name": "Replenishment_Lead_Time",
         "rawType": "int64",
         "type": "integer"
        },
        {
         "name": "Stock_Level",
         "rawType": "int64",
         "type": "integer"
        }
       ],
       "conversionMethod": "pd.DataFrame",
       "ref": "f6387cf2-713b-4584-bbd1-e62664a453c7",
       "rows": [
        [
         "0",
         "2022-01-01",
         "Household",
         "1583",
         "5.190661373524142",
         "0",
         "Urban",
         "5",
         "9.299280855332018",
         "9",
         "207"
        ],
        [
         "1",
         "2022-01-02",
         "Personal Care",
         "1103",
         "8.949595984685402",
         "0",
         "Urban",
         "6",
         "13.274108581775032",
         "5",
         "253"
        ],
        [
         "2",
         "2022-01-03",
         "Dairy",
         "455",
         "4.867987326502611",
         "0",
         "Rural",
         "0",
         "13.302264839521472",
         "9",
         "245"
        ],
        [
         "3",
         "2022-01-04",
         "Personal Care",
         "1107",
         "16.968595719261735",
         "1",
         "Urban",
         "1",
         "10.056158446917369",
         "5",
         "265"
        ],
        [
         "4",
         "2022-01-05",
         "Personal Care",
         "1447",
         "4.309673394986819",
         "1",
         "Rural",
         "2",
         "3.5628615563574995",
         "8",
         "334"
        ]
       ],
       "shape": {
        "columns": 10,
        "rows": 5
       }
      },
      "text/html": [
       "<div>\n",
       "<style scoped>\n",
       "    .dataframe tbody tr th:only-of-type {\n",
       "        vertical-align: middle;\n",
       "    }\n",
       "\n",
       "    .dataframe tbody tr th {\n",
       "        vertical-align: top;\n",
       "    }\n",
       "\n",
       "    .dataframe thead th {\n",
       "        text-align: right;\n",
       "    }\n",
       "</style>\n",
       "<table border=\"1\" class=\"dataframe\">\n",
       "  <thead>\n",
       "    <tr style=\"text-align: right;\">\n",
       "      <th></th>\n",
       "      <th>Date</th>\n",
       "      <th>Product_Category</th>\n",
       "      <th>Sales_Volume</th>\n",
       "      <th>Price</th>\n",
       "      <th>Promotion</th>\n",
       "      <th>Store_Location</th>\n",
       "      <th>Weekday</th>\n",
       "      <th>Supplier_Cost</th>\n",
       "      <th>Replenishment_Lead_Time</th>\n",
       "      <th>Stock_Level</th>\n",
       "    </tr>\n",
       "  </thead>\n",
       "  <tbody>\n",
       "    <tr>\n",
       "      <th>0</th>\n",
       "      <td>2022-01-01</td>\n",
       "      <td>Household</td>\n",
       "      <td>1583</td>\n",
       "      <td>5.190661</td>\n",
       "      <td>0</td>\n",
       "      <td>Urban</td>\n",
       "      <td>5</td>\n",
       "      <td>9.299281</td>\n",
       "      <td>9</td>\n",
       "      <td>207</td>\n",
       "    </tr>\n",
       "    <tr>\n",
       "      <th>1</th>\n",
       "      <td>2022-01-02</td>\n",
       "      <td>Personal Care</td>\n",
       "      <td>1103</td>\n",
       "      <td>8.949596</td>\n",
       "      <td>0</td>\n",
       "      <td>Urban</td>\n",
       "      <td>6</td>\n",
       "      <td>13.274109</td>\n",
       "      <td>5</td>\n",
       "      <td>253</td>\n",
       "    </tr>\n",
       "    <tr>\n",
       "      <th>2</th>\n",
       "      <td>2022-01-03</td>\n",
       "      <td>Dairy</td>\n",
       "      <td>455</td>\n",
       "      <td>4.867987</td>\n",
       "      <td>0</td>\n",
       "      <td>Rural</td>\n",
       "      <td>0</td>\n",
       "      <td>13.302265</td>\n",
       "      <td>9</td>\n",
       "      <td>245</td>\n",
       "    </tr>\n",
       "    <tr>\n",
       "      <th>3</th>\n",
       "      <td>2022-01-04</td>\n",
       "      <td>Personal Care</td>\n",
       "      <td>1107</td>\n",
       "      <td>16.968596</td>\n",
       "      <td>1</td>\n",
       "      <td>Urban</td>\n",
       "      <td>1</td>\n",
       "      <td>10.056158</td>\n",
       "      <td>5</td>\n",
       "      <td>265</td>\n",
       "    </tr>\n",
       "    <tr>\n",
       "      <th>4</th>\n",
       "      <td>2022-01-05</td>\n",
       "      <td>Personal Care</td>\n",
       "      <td>1447</td>\n",
       "      <td>4.309673</td>\n",
       "      <td>1</td>\n",
       "      <td>Rural</td>\n",
       "      <td>2</td>\n",
       "      <td>3.562862</td>\n",
       "      <td>8</td>\n",
       "      <td>334</td>\n",
       "    </tr>\n",
       "  </tbody>\n",
       "</table>\n",
       "</div>"
      ],
      "text/plain": [
       "         Date Product_Category  Sales_Volume      Price  Promotion  \\\n",
       "0  2022-01-01        Household          1583   5.190661          0   \n",
       "1  2022-01-02    Personal Care          1103   8.949596          0   \n",
       "2  2022-01-03            Dairy           455   4.867987          0   \n",
       "3  2022-01-04    Personal Care          1107  16.968596          1   \n",
       "4  2022-01-05    Personal Care          1447   4.309673          1   \n",
       "\n",
       "  Store_Location  Weekday  Supplier_Cost  Replenishment_Lead_Time  Stock_Level  \n",
       "0          Urban        5       9.299281                        9          207  \n",
       "1          Urban        6      13.274109                        5          253  \n",
       "2          Rural        0      13.302265                        9          245  \n",
       "3          Urban        1      10.056158                        5          265  \n",
       "4          Rural        2       3.562862                        8          334  "
      ]
     },
     "execution_count": 3,
     "metadata": {},
     "output_type": "execute_result"
    }
   ],
   "source": [
    "df = pd.read_csv('extended_fmcg_demand_forecasting.csv')\n",
    "df.head()"
   ]
  },
  {
   "cell_type": "code",
   "execution_count": 4,
   "metadata": {},
   "outputs": [
    {
     "data": {
      "text/plain": [
       "Index(['Date', 'Product_Category', 'Sales_Volume', 'Price', 'Promotion',\n",
       "       'Store_Location', 'Weekday', 'Supplier_Cost', 'Replenishment_Lead_Time',\n",
       "       'Stock_Level'],\n",
       "      dtype='object')"
      ]
     },
     "execution_count": 4,
     "metadata": {},
     "output_type": "execute_result"
    }
   ],
   "source": [
    "df.columns"
   ]
  },
  {
   "cell_type": "code",
   "execution_count": null,
   "metadata": {},
   "outputs": [],
   "source": []
  }
 ],
 "metadata": {
  "kernelspec": {
   "display_name": "base",
   "language": "python",
   "name": "python3"
  },
  "language_info": {
   "codemirror_mode": {
    "name": "ipython",
    "version": 3
   },
   "file_extension": ".py",
   "mimetype": "text/x-python",
   "name": "python",
   "nbconvert_exporter": "python",
   "pygments_lexer": "ipython3",
   "version": "3.9.12"
  }
 },
 "nbformat": 4,
 "nbformat_minor": 2
}
