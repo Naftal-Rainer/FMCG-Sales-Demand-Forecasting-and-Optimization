{
 "cells": [
  {
   "cell_type": "markdown",
   "metadata": {},
   "source": [
    "FMCG Sales Data for Time Series Forecasting and Decision Analysis\n",
    "\n",
    "# Problem Background\n",
    " In the fast-paced world of Fast-Moving Consumer Goods (FMCG), understanding sales dynamics can be the difference between a product flying off the shelves or gathering dust. \n",
    " This dataset offers a glimpse into the intricate dance of sales volume, pricing, promotions, and more across various store locations.\n",
    "\n",
    "# Problem Definition\n",
    "Use the data to predict sales volume based on other features provided.\n",
    "\n",
    "\n",
    "# Data \n",
    "  https://www.kaggle.com/datasets/krishanukalita/fmcg-sales-demand-forecasting-and-optimization/data\n",
    "\n",
    "\n"
   ]
  },
  {
   "cell_type": "code",
   "execution_count": 27,
   "metadata": {},
   "outputs": [],
   "source": [
    "import numpy as np\n",
    "import pandas as pd\n",
    "import matplotlib.pyplot as plt\n",
    "import seaborn as sns\n",
    "\n",
    "# Suppress warnings\n",
    "import warnings\n",
    "warnings.filterwarnings('ignore')\n",
    "\n",
    "# Import ml libraries\n",
    "from sklearn.preprocessing import StandardScaler\n",
    "from sklearn.linear_model import LinearRegression\n",
    "from sklearn import metrics\n",
    "from sklearn.model_selection import KFold \n",
    "from sklearn.model_selection import train_test_split\n",
    "from sklearn.metrics import mean_squared_log_error, mean_absolute_error, r2_score\n",
    "\n",
    "from sklearn.tree import export_graphviz"
   ]
  },
  {
   "cell_type": "code",
   "execution_count": 6,
   "metadata": {},
   "outputs": [
    {
     "data": {
      "application/vnd.microsoft.datawrangler.viewer.v0+json": {
       "columns": [
        {
         "name": "index",
         "rawType": "int64",
         "type": "integer"
        },
        {
         "name": "Date",
         "rawType": "datetime64[ns]",
         "type": "datetime"
        },
        {
         "name": "Product_Category",
         "rawType": "object",
         "type": "string"
        },
        {
         "name": "Sales_Volume",
         "rawType": "int64",
         "type": "integer"
        },
        {
         "name": "Price",
         "rawType": "float64",
         "type": "float"
        },
        {
         "name": "Promotion",
         "rawType": "int64",
         "type": "integer"
        },
        {
         "name": "Store_Location",
         "rawType": "object",
         "type": "string"
        },
        {
         "name": "Weekday",
         "rawType": "int64",
         "type": "integer"
        },
        {
         "name": "Supplier_Cost",
         "rawType": "float64",
         "type": "float"
        },
        {
         "name": "Replenishment_Lead_Time",
         "rawType": "int64",
         "type": "integer"
        },
        {
         "name": "Stock_Level",
         "rawType": "int64",
         "type": "integer"
        }
       ],
       "conversionMethod": "pd.DataFrame",
       "ref": "cce3a184-832b-49b6-8801-26071b8f2259",
       "rows": [
        [
         "0",
         "2022-01-01 00:00:00",
         "Household",
         "1583",
         "5.190661373524142",
         "0",
         "Urban",
         "5",
         "9.299280855332018",
         "9",
         "207"
        ],
        [
         "1",
         "2022-01-02 00:00:00",
         "Personal Care",
         "1103",
         "8.949595984685402",
         "0",
         "Urban",
         "6",
         "13.274108581775032",
         "5",
         "253"
        ],
        [
         "2",
         "2022-01-03 00:00:00",
         "Dairy",
         "455",
         "4.867987326502611",
         "0",
         "Rural",
         "0",
         "13.302264839521472",
         "9",
         "245"
        ],
        [
         "3",
         "2022-01-04 00:00:00",
         "Personal Care",
         "1107",
         "16.968595719261735",
         "1",
         "Urban",
         "1",
         "10.056158446917369",
         "5",
         "265"
        ],
        [
         "4",
         "2022-01-05 00:00:00",
         "Personal Care",
         "1447",
         "4.309673394986819",
         "1",
         "Rural",
         "2",
         "3.5628615563574995",
         "8",
         "334"
        ]
       ],
       "shape": {
        "columns": 10,
        "rows": 5
       }
      },
      "text/html": [
       "<div>\n",
       "<style scoped>\n",
       "    .dataframe tbody tr th:only-of-type {\n",
       "        vertical-align: middle;\n",
       "    }\n",
       "\n",
       "    .dataframe tbody tr th {\n",
       "        vertical-align: top;\n",
       "    }\n",
       "\n",
       "    .dataframe thead th {\n",
       "        text-align: right;\n",
       "    }\n",
       "</style>\n",
       "<table border=\"1\" class=\"dataframe\">\n",
       "  <thead>\n",
       "    <tr style=\"text-align: right;\">\n",
       "      <th></th>\n",
       "      <th>Date</th>\n",
       "      <th>Product_Category</th>\n",
       "      <th>Sales_Volume</th>\n",
       "      <th>Price</th>\n",
       "      <th>Promotion</th>\n",
       "      <th>Store_Location</th>\n",
       "      <th>Weekday</th>\n",
       "      <th>Supplier_Cost</th>\n",
       "      <th>Replenishment_Lead_Time</th>\n",
       "      <th>Stock_Level</th>\n",
       "    </tr>\n",
       "  </thead>\n",
       "  <tbody>\n",
       "    <tr>\n",
       "      <th>0</th>\n",
       "      <td>2022-01-01</td>\n",
       "      <td>Household</td>\n",
       "      <td>1583</td>\n",
       "      <td>5.190661</td>\n",
       "      <td>0</td>\n",
       "      <td>Urban</td>\n",
       "      <td>5</td>\n",
       "      <td>9.299281</td>\n",
       "      <td>9</td>\n",
       "      <td>207</td>\n",
       "    </tr>\n",
       "    <tr>\n",
       "      <th>1</th>\n",
       "      <td>2022-01-02</td>\n",
       "      <td>Personal Care</td>\n",
       "      <td>1103</td>\n",
       "      <td>8.949596</td>\n",
       "      <td>0</td>\n",
       "      <td>Urban</td>\n",
       "      <td>6</td>\n",
       "      <td>13.274109</td>\n",
       "      <td>5</td>\n",
       "      <td>253</td>\n",
       "    </tr>\n",
       "    <tr>\n",
       "      <th>2</th>\n",
       "      <td>2022-01-03</td>\n",
       "      <td>Dairy</td>\n",
       "      <td>455</td>\n",
       "      <td>4.867987</td>\n",
       "      <td>0</td>\n",
       "      <td>Rural</td>\n",
       "      <td>0</td>\n",
       "      <td>13.302265</td>\n",
       "      <td>9</td>\n",
       "      <td>245</td>\n",
       "    </tr>\n",
       "    <tr>\n",
       "      <th>3</th>\n",
       "      <td>2022-01-04</td>\n",
       "      <td>Personal Care</td>\n",
       "      <td>1107</td>\n",
       "      <td>16.968596</td>\n",
       "      <td>1</td>\n",
       "      <td>Urban</td>\n",
       "      <td>1</td>\n",
       "      <td>10.056158</td>\n",
       "      <td>5</td>\n",
       "      <td>265</td>\n",
       "    </tr>\n",
       "    <tr>\n",
       "      <th>4</th>\n",
       "      <td>2022-01-05</td>\n",
       "      <td>Personal Care</td>\n",
       "      <td>1447</td>\n",
       "      <td>4.309673</td>\n",
       "      <td>1</td>\n",
       "      <td>Rural</td>\n",
       "      <td>2</td>\n",
       "      <td>3.562862</td>\n",
       "      <td>8</td>\n",
       "      <td>334</td>\n",
       "    </tr>\n",
       "  </tbody>\n",
       "</table>\n",
       "</div>"
      ],
      "text/plain": [
       "        Date Product_Category  Sales_Volume      Price  Promotion  \\\n",
       "0 2022-01-01        Household          1583   5.190661          0   \n",
       "1 2022-01-02    Personal Care          1103   8.949596          0   \n",
       "2 2022-01-03            Dairy           455   4.867987          0   \n",
       "3 2022-01-04    Personal Care          1107  16.968596          1   \n",
       "4 2022-01-05    Personal Care          1447   4.309673          1   \n",
       "\n",
       "  Store_Location  Weekday  Supplier_Cost  Replenishment_Lead_Time  Stock_Level  \n",
       "0          Urban        5       9.299281                        9          207  \n",
       "1          Urban        6      13.274109                        5          253  \n",
       "2          Rural        0      13.302265                        9          245  \n",
       "3          Urban        1      10.056158                        5          265  \n",
       "4          Rural        2       3.562862                        8          334  "
      ]
     },
     "execution_count": 6,
     "metadata": {},
     "output_type": "execute_result"
    }
   ],
   "source": [
    "df = pd.read_csv('extended_fmcg_demand_forecasting.csv', parse_dates=['Date'])\n",
    "df.head()"
   ]
  },
  {
   "cell_type": "code",
   "execution_count": 7,
   "metadata": {},
   "outputs": [
    {
     "data": {
      "text/plain": [
       "Index(['Date', 'Product_Category', 'Sales_Volume', 'Price', 'Promotion',\n",
       "       'Store_Location', 'Weekday', 'Supplier_Cost', 'Replenishment_Lead_Time',\n",
       "       'Stock_Level'],\n",
       "      dtype='object')"
      ]
     },
     "execution_count": 7,
     "metadata": {},
     "output_type": "execute_result"
    }
   ],
   "source": [
    "df.columns"
   ]
  },
  {
   "cell_type": "code",
   "execution_count": 8,
   "metadata": {},
   "outputs": [
    {
     "name": "stdout",
     "output_type": "stream",
     "text": [
      "<class 'pandas.core.frame.DataFrame'>\n",
      "RangeIndex: 1000 entries, 0 to 999\n",
      "Data columns (total 10 columns):\n",
      " #   Column                   Non-Null Count  Dtype         \n",
      "---  ------                   --------------  -----         \n",
      " 0   Date                     1000 non-null   datetime64[ns]\n",
      " 1   Product_Category         1000 non-null   object        \n",
      " 2   Sales_Volume             1000 non-null   int64         \n",
      " 3   Price                    1000 non-null   float64       \n",
      " 4   Promotion                1000 non-null   int64         \n",
      " 5   Store_Location           1000 non-null   object        \n",
      " 6   Weekday                  1000 non-null   int64         \n",
      " 7   Supplier_Cost            1000 non-null   float64       \n",
      " 8   Replenishment_Lead_Time  1000 non-null   int64         \n",
      " 9   Stock_Level              1000 non-null   int64         \n",
      "dtypes: datetime64[ns](1), float64(2), int64(5), object(2)\n",
      "memory usage: 78.2+ KB\n"
     ]
    }
   ],
   "source": [
    "df.info()"
   ]
  },
  {
   "cell_type": "markdown",
   "metadata": {},
   "source": [
    "##### Checking for missing values if any"
   ]
  },
  {
   "cell_type": "code",
   "execution_count": 9,
   "metadata": {},
   "outputs": [
    {
     "data": {
      "text/plain": [
       "Date                       0\n",
       "Product_Category           0\n",
       "Sales_Volume               0\n",
       "Price                      0\n",
       "Promotion                  0\n",
       "Store_Location             0\n",
       "Weekday                    0\n",
       "Supplier_Cost              0\n",
       "Replenishment_Lead_Time    0\n",
       "Stock_Level                0\n",
       "dtype: int64"
      ]
     },
     "execution_count": 9,
     "metadata": {},
     "output_type": "execute_result"
    }
   ],
   "source": [
    "df.isna().sum()"
   ]
  },
  {
   "cell_type": "markdown",
   "metadata": {},
   "source": [
    "### Feature Engineering"
   ]
  },
  {
   "cell_type": "code",
   "execution_count": 10,
   "metadata": {},
   "outputs": [],
   "source": [
    "data = df.copy()"
   ]
  },
  {
   "cell_type": "code",
   "execution_count": 14,
   "metadata": {},
   "outputs": [
    {
     "data": {
      "application/vnd.microsoft.datawrangler.viewer.v0+json": {
       "columns": [
        {
         "name": "index",
         "rawType": "int64",
         "type": "integer"
        },
        {
         "name": "Date",
         "rawType": "datetime64[ns]",
         "type": "datetime"
        },
        {
         "name": "Product_Category",
         "rawType": "object",
         "type": "string"
        },
        {
         "name": "Sales_Volume",
         "rawType": "int64",
         "type": "integer"
        },
        {
         "name": "Price",
         "rawType": "float64",
         "type": "float"
        },
        {
         "name": "Promotion",
         "rawType": "int64",
         "type": "integer"
        },
        {
         "name": "Store_Location",
         "rawType": "object",
         "type": "string"
        },
        {
         "name": "Weekday",
         "rawType": "int64",
         "type": "integer"
        },
        {
         "name": "Supplier_Cost",
         "rawType": "float64",
         "type": "float"
        },
        {
         "name": "Replenishment_Lead_Time",
         "rawType": "int64",
         "type": "integer"
        },
        {
         "name": "Stock_Level",
         "rawType": "int64",
         "type": "integer"
        },
        {
         "name": "Year",
         "rawType": "int64",
         "type": "integer"
        },
        {
         "name": "Month",
         "rawType": "int64",
         "type": "integer"
        }
       ],
       "conversionMethod": "pd.DataFrame",
       "ref": "013f6a46-c7c1-4daa-95a8-6801e9d4b3a2",
       "rows": [
        [
         "0",
         "2022-01-01 00:00:00",
         "Household",
         "1583",
         "5.190661373524142",
         "0",
         "Urban",
         "5",
         "9.299280855332018",
         "9",
         "207",
         "2022",
         "1"
        ],
        [
         "1",
         "2022-01-02 00:00:00",
         "Personal Care",
         "1103",
         "8.949595984685402",
         "0",
         "Urban",
         "6",
         "13.274108581775032",
         "5",
         "253",
         "2022",
         "1"
        ],
        [
         "2",
         "2022-01-03 00:00:00",
         "Dairy",
         "455",
         "4.867987326502611",
         "0",
         "Rural",
         "0",
         "13.302264839521472",
         "9",
         "245",
         "2022",
         "1"
        ],
        [
         "3",
         "2022-01-04 00:00:00",
         "Personal Care",
         "1107",
         "16.968595719261735",
         "1",
         "Urban",
         "1",
         "10.056158446917369",
         "5",
         "265",
         "2022",
         "1"
        ],
        [
         "4",
         "2022-01-05 00:00:00",
         "Personal Care",
         "1447",
         "4.309673394986819",
         "1",
         "Rural",
         "2",
         "3.5628615563574995",
         "8",
         "334",
         "2022",
         "1"
        ]
       ],
       "shape": {
        "columns": 12,
        "rows": 5
       }
      },
      "text/html": [
       "<div>\n",
       "<style scoped>\n",
       "    .dataframe tbody tr th:only-of-type {\n",
       "        vertical-align: middle;\n",
       "    }\n",
       "\n",
       "    .dataframe tbody tr th {\n",
       "        vertical-align: top;\n",
       "    }\n",
       "\n",
       "    .dataframe thead th {\n",
       "        text-align: right;\n",
       "    }\n",
       "</style>\n",
       "<table border=\"1\" class=\"dataframe\">\n",
       "  <thead>\n",
       "    <tr style=\"text-align: right;\">\n",
       "      <th></th>\n",
       "      <th>Date</th>\n",
       "      <th>Product_Category</th>\n",
       "      <th>Sales_Volume</th>\n",
       "      <th>Price</th>\n",
       "      <th>Promotion</th>\n",
       "      <th>Store_Location</th>\n",
       "      <th>Weekday</th>\n",
       "      <th>Supplier_Cost</th>\n",
       "      <th>Replenishment_Lead_Time</th>\n",
       "      <th>Stock_Level</th>\n",
       "      <th>Year</th>\n",
       "      <th>Month</th>\n",
       "    </tr>\n",
       "  </thead>\n",
       "  <tbody>\n",
       "    <tr>\n",
       "      <th>0</th>\n",
       "      <td>2022-01-01</td>\n",
       "      <td>Household</td>\n",
       "      <td>1583</td>\n",
       "      <td>5.190661</td>\n",
       "      <td>0</td>\n",
       "      <td>Urban</td>\n",
       "      <td>5</td>\n",
       "      <td>9.299281</td>\n",
       "      <td>9</td>\n",
       "      <td>207</td>\n",
       "      <td>2022</td>\n",
       "      <td>1</td>\n",
       "    </tr>\n",
       "    <tr>\n",
       "      <th>1</th>\n",
       "      <td>2022-01-02</td>\n",
       "      <td>Personal Care</td>\n",
       "      <td>1103</td>\n",
       "      <td>8.949596</td>\n",
       "      <td>0</td>\n",
       "      <td>Urban</td>\n",
       "      <td>6</td>\n",
       "      <td>13.274109</td>\n",
       "      <td>5</td>\n",
       "      <td>253</td>\n",
       "      <td>2022</td>\n",
       "      <td>1</td>\n",
       "    </tr>\n",
       "    <tr>\n",
       "      <th>2</th>\n",
       "      <td>2022-01-03</td>\n",
       "      <td>Dairy</td>\n",
       "      <td>455</td>\n",
       "      <td>4.867987</td>\n",
       "      <td>0</td>\n",
       "      <td>Rural</td>\n",
       "      <td>0</td>\n",
       "      <td>13.302265</td>\n",
       "      <td>9</td>\n",
       "      <td>245</td>\n",
       "      <td>2022</td>\n",
       "      <td>1</td>\n",
       "    </tr>\n",
       "    <tr>\n",
       "      <th>3</th>\n",
       "      <td>2022-01-04</td>\n",
       "      <td>Personal Care</td>\n",
       "      <td>1107</td>\n",
       "      <td>16.968596</td>\n",
       "      <td>1</td>\n",
       "      <td>Urban</td>\n",
       "      <td>1</td>\n",
       "      <td>10.056158</td>\n",
       "      <td>5</td>\n",
       "      <td>265</td>\n",
       "      <td>2022</td>\n",
       "      <td>1</td>\n",
       "    </tr>\n",
       "    <tr>\n",
       "      <th>4</th>\n",
       "      <td>2022-01-05</td>\n",
       "      <td>Personal Care</td>\n",
       "      <td>1447</td>\n",
       "      <td>4.309673</td>\n",
       "      <td>1</td>\n",
       "      <td>Rural</td>\n",
       "      <td>2</td>\n",
       "      <td>3.562862</td>\n",
       "      <td>8</td>\n",
       "      <td>334</td>\n",
       "      <td>2022</td>\n",
       "      <td>1</td>\n",
       "    </tr>\n",
       "  </tbody>\n",
       "</table>\n",
       "</div>"
      ],
      "text/plain": [
       "        Date Product_Category  Sales_Volume      Price  Promotion  \\\n",
       "0 2022-01-01        Household          1583   5.190661          0   \n",
       "1 2022-01-02    Personal Care          1103   8.949596          0   \n",
       "2 2022-01-03            Dairy           455   4.867987          0   \n",
       "3 2022-01-04    Personal Care          1107  16.968596          1   \n",
       "4 2022-01-05    Personal Care          1447   4.309673          1   \n",
       "\n",
       "  Store_Location  Weekday  Supplier_Cost  Replenishment_Lead_Time  \\\n",
       "0          Urban        5       9.299281                        9   \n",
       "1          Urban        6      13.274109                        5   \n",
       "2          Rural        0      13.302265                        9   \n",
       "3          Urban        1      10.056158                        5   \n",
       "4          Rural        2       3.562862                        8   \n",
       "\n",
       "   Stock_Level  Year  Month  \n",
       "0          207  2022      1  \n",
       "1          253  2022      1  \n",
       "2          245  2022      1  \n",
       "3          265  2022      1  \n",
       "4          334  2022      1  "
      ]
     },
     "execution_count": 14,
     "metadata": {},
     "output_type": "execute_result"
    }
   ],
   "source": [
    "data['Year'] = data.Date.dt.year\n",
    "data['Month'] = data.Date.dt.month\n",
    "data.head()"
   ]
  },
  {
   "cell_type": "code",
   "execution_count": 15,
   "metadata": {},
   "outputs": [
    {
     "data": {
      "application/vnd.microsoft.datawrangler.viewer.v0+json": {
       "columns": [
        {
         "name": "index",
         "rawType": "int64",
         "type": "integer"
        },
        {
         "name": "Product_Category",
         "rawType": "object",
         "type": "string"
        },
        {
         "name": "Sales_Volume",
         "rawType": "int64",
         "type": "integer"
        },
        {
         "name": "Price",
         "rawType": "float64",
         "type": "float"
        },
        {
         "name": "Promotion",
         "rawType": "int64",
         "type": "integer"
        },
        {
         "name": "Store_Location",
         "rawType": "object",
         "type": "string"
        },
        {
         "name": "Weekday",
         "rawType": "int64",
         "type": "integer"
        },
        {
         "name": "Supplier_Cost",
         "rawType": "float64",
         "type": "float"
        },
        {
         "name": "Replenishment_Lead_Time",
         "rawType": "int64",
         "type": "integer"
        },
        {
         "name": "Stock_Level",
         "rawType": "int64",
         "type": "integer"
        },
        {
         "name": "Year",
         "rawType": "int64",
         "type": "integer"
        },
        {
         "name": "Month",
         "rawType": "int64",
         "type": "integer"
        }
       ],
       "conversionMethod": "pd.DataFrame",
       "ref": "98f8da5a-dfc0-4f37-85bf-7b975d9b5ba8",
       "rows": [
        [
         "0",
         "Household",
         "1583",
         "5.190661373524142",
         "0",
         "Urban",
         "5",
         "9.299280855332018",
         "9",
         "207",
         "2022",
         "1"
        ],
        [
         "1",
         "Personal Care",
         "1103",
         "8.949595984685402",
         "0",
         "Urban",
         "6",
         "13.274108581775032",
         "5",
         "253",
         "2022",
         "1"
        ],
        [
         "2",
         "Dairy",
         "455",
         "4.867987326502611",
         "0",
         "Rural",
         "0",
         "13.302264839521472",
         "9",
         "245",
         "2022",
         "1"
        ],
        [
         "3",
         "Personal Care",
         "1107",
         "16.968595719261735",
         "1",
         "Urban",
         "1",
         "10.056158446917369",
         "5",
         "265",
         "2022",
         "1"
        ],
        [
         "4",
         "Personal Care",
         "1447",
         "4.309673394986819",
         "1",
         "Rural",
         "2",
         "3.5628615563574995",
         "8",
         "334",
         "2022",
         "1"
        ]
       ],
       "shape": {
        "columns": 11,
        "rows": 5
       }
      },
      "text/html": [
       "<div>\n",
       "<style scoped>\n",
       "    .dataframe tbody tr th:only-of-type {\n",
       "        vertical-align: middle;\n",
       "    }\n",
       "\n",
       "    .dataframe tbody tr th {\n",
       "        vertical-align: top;\n",
       "    }\n",
       "\n",
       "    .dataframe thead th {\n",
       "        text-align: right;\n",
       "    }\n",
       "</style>\n",
       "<table border=\"1\" class=\"dataframe\">\n",
       "  <thead>\n",
       "    <tr style=\"text-align: right;\">\n",
       "      <th></th>\n",
       "      <th>Product_Category</th>\n",
       "      <th>Sales_Volume</th>\n",
       "      <th>Price</th>\n",
       "      <th>Promotion</th>\n",
       "      <th>Store_Location</th>\n",
       "      <th>Weekday</th>\n",
       "      <th>Supplier_Cost</th>\n",
       "      <th>Replenishment_Lead_Time</th>\n",
       "      <th>Stock_Level</th>\n",
       "      <th>Year</th>\n",
       "      <th>Month</th>\n",
       "    </tr>\n",
       "  </thead>\n",
       "  <tbody>\n",
       "    <tr>\n",
       "      <th>0</th>\n",
       "      <td>Household</td>\n",
       "      <td>1583</td>\n",
       "      <td>5.190661</td>\n",
       "      <td>0</td>\n",
       "      <td>Urban</td>\n",
       "      <td>5</td>\n",
       "      <td>9.299281</td>\n",
       "      <td>9</td>\n",
       "      <td>207</td>\n",
       "      <td>2022</td>\n",
       "      <td>1</td>\n",
       "    </tr>\n",
       "    <tr>\n",
       "      <th>1</th>\n",
       "      <td>Personal Care</td>\n",
       "      <td>1103</td>\n",
       "      <td>8.949596</td>\n",
       "      <td>0</td>\n",
       "      <td>Urban</td>\n",
       "      <td>6</td>\n",
       "      <td>13.274109</td>\n",
       "      <td>5</td>\n",
       "      <td>253</td>\n",
       "      <td>2022</td>\n",
       "      <td>1</td>\n",
       "    </tr>\n",
       "    <tr>\n",
       "      <th>2</th>\n",
       "      <td>Dairy</td>\n",
       "      <td>455</td>\n",
       "      <td>4.867987</td>\n",
       "      <td>0</td>\n",
       "      <td>Rural</td>\n",
       "      <td>0</td>\n",
       "      <td>13.302265</td>\n",
       "      <td>9</td>\n",
       "      <td>245</td>\n",
       "      <td>2022</td>\n",
       "      <td>1</td>\n",
       "    </tr>\n",
       "    <tr>\n",
       "      <th>3</th>\n",
       "      <td>Personal Care</td>\n",
       "      <td>1107</td>\n",
       "      <td>16.968596</td>\n",
       "      <td>1</td>\n",
       "      <td>Urban</td>\n",
       "      <td>1</td>\n",
       "      <td>10.056158</td>\n",
       "      <td>5</td>\n",
       "      <td>265</td>\n",
       "      <td>2022</td>\n",
       "      <td>1</td>\n",
       "    </tr>\n",
       "    <tr>\n",
       "      <th>4</th>\n",
       "      <td>Personal Care</td>\n",
       "      <td>1447</td>\n",
       "      <td>4.309673</td>\n",
       "      <td>1</td>\n",
       "      <td>Rural</td>\n",
       "      <td>2</td>\n",
       "      <td>3.562862</td>\n",
       "      <td>8</td>\n",
       "      <td>334</td>\n",
       "      <td>2022</td>\n",
       "      <td>1</td>\n",
       "    </tr>\n",
       "  </tbody>\n",
       "</table>\n",
       "</div>"
      ],
      "text/plain": [
       "  Product_Category  Sales_Volume      Price  Promotion Store_Location  \\\n",
       "0        Household          1583   5.190661          0          Urban   \n",
       "1    Personal Care          1103   8.949596          0          Urban   \n",
       "2            Dairy           455   4.867987          0          Rural   \n",
       "3    Personal Care          1107  16.968596          1          Urban   \n",
       "4    Personal Care          1447   4.309673          1          Rural   \n",
       "\n",
       "   Weekday  Supplier_Cost  Replenishment_Lead_Time  Stock_Level  Year  Month  \n",
       "0        5       9.299281                        9          207  2022      1  \n",
       "1        6      13.274109                        5          253  2022      1  \n",
       "2        0      13.302265                        9          245  2022      1  \n",
       "3        1      10.056158                        5          265  2022      1  \n",
       "4        2       3.562862                        8          334  2022      1  "
      ]
     },
     "execution_count": 15,
     "metadata": {},
     "output_type": "execute_result"
    }
   ],
   "source": [
    "# Dropping date column\n",
    "data.drop(\"Date\", axis = 1, inplace=True)\n",
    "data.head()"
   ]
  },
  {
   "cell_type": "markdown",
   "metadata": {},
   "source": [
    "### Data Preprocessing\n",
    " - Converting Categorical variables to numerical"
   ]
  },
  {
   "cell_type": "code",
   "execution_count": 16,
   "metadata": {},
   "outputs": [
    {
     "data": {
      "application/vnd.microsoft.datawrangler.viewer.v0+json": {
       "columns": [
        {
         "name": "index",
         "rawType": "int64",
         "type": "integer"
        },
        {
         "name": "Product_Category",
         "rawType": "object",
         "type": "string"
        },
        {
         "name": "Store_Location",
         "rawType": "object",
         "type": "string"
        }
       ],
       "conversionMethod": "pd.DataFrame",
       "ref": "78fb7327-8c8a-4974-853a-4ce859c17aa7",
       "rows": [
        [
         "0",
         "Household",
         "Urban"
        ],
        [
         "1",
         "Personal Care",
         "Urban"
        ],
        [
         "2",
         "Dairy",
         "Rural"
        ],
        [
         "3",
         "Personal Care",
         "Urban"
        ],
        [
         "4",
         "Personal Care",
         "Rural"
        ],
        [
         "5",
         "Snacks",
         "Urban"
        ],
        [
         "6",
         "Dairy",
         "Suburban"
        ],
        [
         "7",
         "Dairy",
         "Rural"
        ],
        [
         "8",
         "Dairy",
         "Rural"
        ],
        [
         "9",
         "Personal Care",
         "Urban"
        ],
        [
         "10",
         "Household",
         "Rural"
        ],
        [
         "11",
         "Dairy",
         "Rural"
        ],
        [
         "12",
         "Personal Care",
         "Suburban"
        ],
        [
         "13",
         "Snacks",
         "Suburban"
        ],
        [
         "14",
         "Household",
         "Urban"
        ],
        [
         "15",
         "Snacks",
         "Suburban"
        ],
        [
         "16",
         "Household",
         "Urban"
        ],
        [
         "17",
         "Personal Care",
         "Urban"
        ],
        [
         "18",
         "Beverages",
         "Urban"
        ],
        [
         "19",
         "Household",
         "Rural"
        ],
        [
         "20",
         "Snacks",
         "Suburban"
        ],
        [
         "21",
         "Personal Care",
         "Urban"
        ],
        [
         "22",
         "Household",
         "Suburban"
        ],
        [
         "23",
         "Beverages",
         "Urban"
        ],
        [
         "24",
         "Beverages",
         "Suburban"
        ],
        [
         "25",
         "Dairy",
         "Suburban"
        ],
        [
         "26",
         "Dairy",
         "Urban"
        ],
        [
         "27",
         "Snacks",
         "Rural"
        ],
        [
         "28",
         "Household",
         "Suburban"
        ],
        [
         "29",
         "Household",
         "Rural"
        ],
        [
         "30",
         "Dairy",
         "Rural"
        ],
        [
         "31",
         "Household",
         "Urban"
        ],
        [
         "32",
         "Household",
         "Urban"
        ],
        [
         "33",
         "Beverages",
         "Urban"
        ],
        [
         "34",
         "Dairy",
         "Suburban"
        ],
        [
         "35",
         "Personal Care",
         "Urban"
        ],
        [
         "36",
         "Dairy",
         "Urban"
        ],
        [
         "37",
         "Personal Care",
         "Suburban"
        ],
        [
         "38",
         "Beverages",
         "Suburban"
        ],
        [
         "39",
         "Snacks",
         "Urban"
        ],
        [
         "40",
         "Household",
         "Urban"
        ],
        [
         "41",
         "Beverages",
         "Urban"
        ],
        [
         "42",
         "Household",
         "Urban"
        ],
        [
         "43",
         "Snacks",
         "Rural"
        ],
        [
         "44",
         "Snacks",
         "Rural"
        ],
        [
         "45",
         "Beverages",
         "Urban"
        ],
        [
         "46",
         "Snacks",
         "Rural"
        ],
        [
         "47",
         "Personal Care",
         "Suburban"
        ],
        [
         "48",
         "Snacks",
         "Rural"
        ],
        [
         "49",
         "Household",
         "Rural"
        ]
       ],
       "shape": {
        "columns": 2,
        "rows": 1000
       }
      },
      "text/html": [
       "<div>\n",
       "<style scoped>\n",
       "    .dataframe tbody tr th:only-of-type {\n",
       "        vertical-align: middle;\n",
       "    }\n",
       "\n",
       "    .dataframe tbody tr th {\n",
       "        vertical-align: top;\n",
       "    }\n",
       "\n",
       "    .dataframe thead th {\n",
       "        text-align: right;\n",
       "    }\n",
       "</style>\n",
       "<table border=\"1\" class=\"dataframe\">\n",
       "  <thead>\n",
       "    <tr style=\"text-align: right;\">\n",
       "      <th></th>\n",
       "      <th>Product_Category</th>\n",
       "      <th>Store_Location</th>\n",
       "    </tr>\n",
       "  </thead>\n",
       "  <tbody>\n",
       "    <tr>\n",
       "      <th>0</th>\n",
       "      <td>Household</td>\n",
       "      <td>Urban</td>\n",
       "    </tr>\n",
       "    <tr>\n",
       "      <th>1</th>\n",
       "      <td>Personal Care</td>\n",
       "      <td>Urban</td>\n",
       "    </tr>\n",
       "    <tr>\n",
       "      <th>2</th>\n",
       "      <td>Dairy</td>\n",
       "      <td>Rural</td>\n",
       "    </tr>\n",
       "    <tr>\n",
       "      <th>3</th>\n",
       "      <td>Personal Care</td>\n",
       "      <td>Urban</td>\n",
       "    </tr>\n",
       "    <tr>\n",
       "      <th>4</th>\n",
       "      <td>Personal Care</td>\n",
       "      <td>Rural</td>\n",
       "    </tr>\n",
       "    <tr>\n",
       "      <th>...</th>\n",
       "      <td>...</td>\n",
       "      <td>...</td>\n",
       "    </tr>\n",
       "    <tr>\n",
       "      <th>995</th>\n",
       "      <td>Snacks</td>\n",
       "      <td>Suburban</td>\n",
       "    </tr>\n",
       "    <tr>\n",
       "      <th>996</th>\n",
       "      <td>Beverages</td>\n",
       "      <td>Urban</td>\n",
       "    </tr>\n",
       "    <tr>\n",
       "      <th>997</th>\n",
       "      <td>Beverages</td>\n",
       "      <td>Suburban</td>\n",
       "    </tr>\n",
       "    <tr>\n",
       "      <th>998</th>\n",
       "      <td>Household</td>\n",
       "      <td>Suburban</td>\n",
       "    </tr>\n",
       "    <tr>\n",
       "      <th>999</th>\n",
       "      <td>Dairy</td>\n",
       "      <td>Urban</td>\n",
       "    </tr>\n",
       "  </tbody>\n",
       "</table>\n",
       "<p>1000 rows × 2 columns</p>\n",
       "</div>"
      ],
      "text/plain": [
       "    Product_Category Store_Location\n",
       "0          Household          Urban\n",
       "1      Personal Care          Urban\n",
       "2              Dairy          Rural\n",
       "3      Personal Care          Urban\n",
       "4      Personal Care          Rural\n",
       "..               ...            ...\n",
       "995           Snacks       Suburban\n",
       "996        Beverages          Urban\n",
       "997        Beverages       Suburban\n",
       "998        Household       Suburban\n",
       "999            Dairy          Urban\n",
       "\n",
       "[1000 rows x 2 columns]"
      ]
     },
     "execution_count": 16,
     "metadata": {},
     "output_type": "execute_result"
    }
   ],
   "source": [
    "data.select_dtypes([\"object\"])"
   ]
  },
  {
   "cell_type": "code",
   "execution_count": 17,
   "metadata": {},
   "outputs": [
    {
     "data": {
      "text/plain": [
       "Beverages        210\n",
       "Household        206\n",
       "Personal Care    204\n",
       "Dairy            190\n",
       "Snacks           190\n",
       "Name: Product_Category, dtype: int64"
      ]
     },
     "execution_count": 17,
     "metadata": {},
     "output_type": "execute_result"
    }
   ],
   "source": [
    "data['Product_Category'].value_counts()"
   ]
  },
  {
   "cell_type": "code",
   "execution_count": 18,
   "metadata": {},
   "outputs": [
    {
     "data": {
      "text/plain": [
       "Urban       342\n",
       "Rural       338\n",
       "Suburban    320\n",
       "Name: Store_Location, dtype: int64"
      ]
     },
     "execution_count": 18,
     "metadata": {},
     "output_type": "execute_result"
    }
   ],
   "source": [
    "data['Store_Location'].value_counts()\n"
   ]
  },
  {
   "cell_type": "code",
   "execution_count": 20,
   "metadata": {},
   "outputs": [
    {
     "data": {
      "application/vnd.microsoft.datawrangler.viewer.v0+json": {
       "columns": [
        {
         "name": "index",
         "rawType": "int64",
         "type": "integer"
        },
        {
         "name": "Product_Category",
         "rawType": "object",
         "type": "string"
        },
        {
         "name": "Sales_Volume",
         "rawType": "int64",
         "type": "integer"
        },
        {
         "name": "Price",
         "rawType": "float64",
         "type": "float"
        },
        {
         "name": "Promotion",
         "rawType": "int64",
         "type": "integer"
        },
        {
         "name": "Store_Location",
         "rawType": "object",
         "type": "string"
        },
        {
         "name": "Weekday",
         "rawType": "int64",
         "type": "integer"
        },
        {
         "name": "Supplier_Cost",
         "rawType": "float64",
         "type": "float"
        },
        {
         "name": "Replenishment_Lead_Time",
         "rawType": "int64",
         "type": "integer"
        },
        {
         "name": "Stock_Level",
         "rawType": "int64",
         "type": "integer"
        },
        {
         "name": "Year",
         "rawType": "int64",
         "type": "integer"
        },
        {
         "name": "Month",
         "rawType": "int64",
         "type": "integer"
        },
        {
         "name": "Product_Category_cat",
         "rawType": "int8",
         "type": "integer"
        },
        {
         "name": "Store_Location_cat",
         "rawType": "int8",
         "type": "integer"
        }
       ],
       "conversionMethod": "pd.DataFrame",
       "ref": "359a3eed-615d-4bb5-87ef-5cb8e4a37227",
       "rows": [
        [
         "0",
         "Household",
         "1583",
         "5.190661373524142",
         "0",
         "Urban",
         "5",
         "9.299280855332018",
         "9",
         "207",
         "2022",
         "1",
         "2",
         "2"
        ],
        [
         "1",
         "Personal Care",
         "1103",
         "8.949595984685402",
         "0",
         "Urban",
         "6",
         "13.274108581775032",
         "5",
         "253",
         "2022",
         "1",
         "3",
         "2"
        ],
        [
         "2",
         "Dairy",
         "455",
         "4.867987326502611",
         "0",
         "Rural",
         "0",
         "13.302264839521472",
         "9",
         "245",
         "2022",
         "1",
         "1",
         "0"
        ],
        [
         "3",
         "Personal Care",
         "1107",
         "16.968595719261735",
         "1",
         "Urban",
         "1",
         "10.056158446917369",
         "5",
         "265",
         "2022",
         "1",
         "3",
         "2"
        ],
        [
         "4",
         "Personal Care",
         "1447",
         "4.309673394986819",
         "1",
         "Rural",
         "2",
         "3.5628615563574995",
         "8",
         "334",
         "2022",
         "1",
         "3",
         "0"
        ]
       ],
       "shape": {
        "columns": 13,
        "rows": 5
       }
      },
      "text/html": [
       "<div>\n",
       "<style scoped>\n",
       "    .dataframe tbody tr th:only-of-type {\n",
       "        vertical-align: middle;\n",
       "    }\n",
       "\n",
       "    .dataframe tbody tr th {\n",
       "        vertical-align: top;\n",
       "    }\n",
       "\n",
       "    .dataframe thead th {\n",
       "        text-align: right;\n",
       "    }\n",
       "</style>\n",
       "<table border=\"1\" class=\"dataframe\">\n",
       "  <thead>\n",
       "    <tr style=\"text-align: right;\">\n",
       "      <th></th>\n",
       "      <th>Product_Category</th>\n",
       "      <th>Sales_Volume</th>\n",
       "      <th>Price</th>\n",
       "      <th>Promotion</th>\n",
       "      <th>Store_Location</th>\n",
       "      <th>Weekday</th>\n",
       "      <th>Supplier_Cost</th>\n",
       "      <th>Replenishment_Lead_Time</th>\n",
       "      <th>Stock_Level</th>\n",
       "      <th>Year</th>\n",
       "      <th>Month</th>\n",
       "      <th>Product_Category_cat</th>\n",
       "      <th>Store_Location_cat</th>\n",
       "    </tr>\n",
       "  </thead>\n",
       "  <tbody>\n",
       "    <tr>\n",
       "      <th>0</th>\n",
       "      <td>Household</td>\n",
       "      <td>1583</td>\n",
       "      <td>5.190661</td>\n",
       "      <td>0</td>\n",
       "      <td>Urban</td>\n",
       "      <td>5</td>\n",
       "      <td>9.299281</td>\n",
       "      <td>9</td>\n",
       "      <td>207</td>\n",
       "      <td>2022</td>\n",
       "      <td>1</td>\n",
       "      <td>2</td>\n",
       "      <td>2</td>\n",
       "    </tr>\n",
       "    <tr>\n",
       "      <th>1</th>\n",
       "      <td>Personal Care</td>\n",
       "      <td>1103</td>\n",
       "      <td>8.949596</td>\n",
       "      <td>0</td>\n",
       "      <td>Urban</td>\n",
       "      <td>6</td>\n",
       "      <td>13.274109</td>\n",
       "      <td>5</td>\n",
       "      <td>253</td>\n",
       "      <td>2022</td>\n",
       "      <td>1</td>\n",
       "      <td>3</td>\n",
       "      <td>2</td>\n",
       "    </tr>\n",
       "    <tr>\n",
       "      <th>2</th>\n",
       "      <td>Dairy</td>\n",
       "      <td>455</td>\n",
       "      <td>4.867987</td>\n",
       "      <td>0</td>\n",
       "      <td>Rural</td>\n",
       "      <td>0</td>\n",
       "      <td>13.302265</td>\n",
       "      <td>9</td>\n",
       "      <td>245</td>\n",
       "      <td>2022</td>\n",
       "      <td>1</td>\n",
       "      <td>1</td>\n",
       "      <td>0</td>\n",
       "    </tr>\n",
       "    <tr>\n",
       "      <th>3</th>\n",
       "      <td>Personal Care</td>\n",
       "      <td>1107</td>\n",
       "      <td>16.968596</td>\n",
       "      <td>1</td>\n",
       "      <td>Urban</td>\n",
       "      <td>1</td>\n",
       "      <td>10.056158</td>\n",
       "      <td>5</td>\n",
       "      <td>265</td>\n",
       "      <td>2022</td>\n",
       "      <td>1</td>\n",
       "      <td>3</td>\n",
       "      <td>2</td>\n",
       "    </tr>\n",
       "    <tr>\n",
       "      <th>4</th>\n",
       "      <td>Personal Care</td>\n",
       "      <td>1447</td>\n",
       "      <td>4.309673</td>\n",
       "      <td>1</td>\n",
       "      <td>Rural</td>\n",
       "      <td>2</td>\n",
       "      <td>3.562862</td>\n",
       "      <td>8</td>\n",
       "      <td>334</td>\n",
       "      <td>2022</td>\n",
       "      <td>1</td>\n",
       "      <td>3</td>\n",
       "      <td>0</td>\n",
       "    </tr>\n",
       "  </tbody>\n",
       "</table>\n",
       "</div>"
      ],
      "text/plain": [
       "  Product_Category  Sales_Volume      Price  Promotion Store_Location  \\\n",
       "0        Household          1583   5.190661          0          Urban   \n",
       "1    Personal Care          1103   8.949596          0          Urban   \n",
       "2            Dairy           455   4.867987          0          Rural   \n",
       "3    Personal Care          1107  16.968596          1          Urban   \n",
       "4    Personal Care          1447   4.309673          1          Rural   \n",
       "\n",
       "   Weekday  Supplier_Cost  Replenishment_Lead_Time  Stock_Level  Year  Month  \\\n",
       "0        5       9.299281                        9          207  2022      1   \n",
       "1        6      13.274109                        5          253  2022      1   \n",
       "2        0      13.302265                        9          245  2022      1   \n",
       "3        1      10.056158                        5          265  2022      1   \n",
       "4        2       3.562862                        8          334  2022      1   \n",
       "\n",
       "   Product_Category_cat  Store_Location_cat  \n",
       "0                     2                   2  \n",
       "1                     3                   2  \n",
       "2                     1                   0  \n",
       "3                     3                   2  \n",
       "4                     3                   0  "
      ]
     },
     "execution_count": 20,
     "metadata": {},
     "output_type": "execute_result"
    }
   ],
   "source": [
    "data['Product_Category_cat'] = data['Product_Category'].astype('category').cat.codes\n",
    "data['Store_Location_cat'] = data['Store_Location'].astype('category').cat.codes\n",
    "data.head()"
   ]
  },
  {
   "cell_type": "code",
   "execution_count": 21,
   "metadata": {},
   "outputs": [],
   "source": [
    "data.drop(['Product_Category','Store_Location'], axis = 1, inplace=True)"
   ]
  },
  {
   "cell_type": "code",
   "execution_count": 22,
   "metadata": {},
   "outputs": [
    {
     "data": {
      "application/vnd.microsoft.datawrangler.viewer.v0+json": {
       "columns": [
        {
         "name": "index",
         "rawType": "int64",
         "type": "integer"
        },
        {
         "name": "Sales_Volume",
         "rawType": "int64",
         "type": "integer"
        },
        {
         "name": "Price",
         "rawType": "float64",
         "type": "float"
        },
        {
         "name": "Promotion",
         "rawType": "int64",
         "type": "integer"
        },
        {
         "name": "Weekday",
         "rawType": "int64",
         "type": "integer"
        },
        {
         "name": "Supplier_Cost",
         "rawType": "float64",
         "type": "float"
        },
        {
         "name": "Replenishment_Lead_Time",
         "rawType": "int64",
         "type": "integer"
        },
        {
         "name": "Stock_Level",
         "rawType": "int64",
         "type": "integer"
        },
        {
         "name": "Year",
         "rawType": "int64",
         "type": "integer"
        },
        {
         "name": "Month",
         "rawType": "int64",
         "type": "integer"
        },
        {
         "name": "Product_Category_cat",
         "rawType": "int8",
         "type": "integer"
        },
        {
         "name": "Store_Location_cat",
         "rawType": "int8",
         "type": "integer"
        }
       ],
       "conversionMethod": "pd.DataFrame",
       "ref": "273c1097-7bdb-42c4-9bae-01d0d727f581",
       "rows": [
        [
         "0",
         "1583",
         "5.190661373524142",
         "0",
         "5",
         "9.299280855332018",
         "9",
         "207",
         "2022",
         "1",
         "2",
         "2"
        ],
        [
         "1",
         "1103",
         "8.949595984685402",
         "0",
         "6",
         "13.274108581775032",
         "5",
         "253",
         "2022",
         "1",
         "3",
         "2"
        ],
        [
         "2",
         "455",
         "4.867987326502611",
         "0",
         "0",
         "13.302264839521472",
         "9",
         "245",
         "2022",
         "1",
         "1",
         "0"
        ],
        [
         "3",
         "1107",
         "16.968595719261735",
         "1",
         "1",
         "10.056158446917369",
         "5",
         "265",
         "2022",
         "1",
         "3",
         "2"
        ],
        [
         "4",
         "1447",
         "4.309673394986819",
         "1",
         "2",
         "3.5628615563574995",
         "8",
         "334",
         "2022",
         "1",
         "3",
         "0"
        ]
       ],
       "shape": {
        "columns": 11,
        "rows": 5
       }
      },
      "text/html": [
       "<div>\n",
       "<style scoped>\n",
       "    .dataframe tbody tr th:only-of-type {\n",
       "        vertical-align: middle;\n",
       "    }\n",
       "\n",
       "    .dataframe tbody tr th {\n",
       "        vertical-align: top;\n",
       "    }\n",
       "\n",
       "    .dataframe thead th {\n",
       "        text-align: right;\n",
       "    }\n",
       "</style>\n",
       "<table border=\"1\" class=\"dataframe\">\n",
       "  <thead>\n",
       "    <tr style=\"text-align: right;\">\n",
       "      <th></th>\n",
       "      <th>Sales_Volume</th>\n",
       "      <th>Price</th>\n",
       "      <th>Promotion</th>\n",
       "      <th>Weekday</th>\n",
       "      <th>Supplier_Cost</th>\n",
       "      <th>Replenishment_Lead_Time</th>\n",
       "      <th>Stock_Level</th>\n",
       "      <th>Year</th>\n",
       "      <th>Month</th>\n",
       "      <th>Product_Category_cat</th>\n",
       "      <th>Store_Location_cat</th>\n",
       "    </tr>\n",
       "  </thead>\n",
       "  <tbody>\n",
       "    <tr>\n",
       "      <th>0</th>\n",
       "      <td>1583</td>\n",
       "      <td>5.190661</td>\n",
       "      <td>0</td>\n",
       "      <td>5</td>\n",
       "      <td>9.299281</td>\n",
       "      <td>9</td>\n",
       "      <td>207</td>\n",
       "      <td>2022</td>\n",
       "      <td>1</td>\n",
       "      <td>2</td>\n",
       "      <td>2</td>\n",
       "    </tr>\n",
       "    <tr>\n",
       "      <th>1</th>\n",
       "      <td>1103</td>\n",
       "      <td>8.949596</td>\n",
       "      <td>0</td>\n",
       "      <td>6</td>\n",
       "      <td>13.274109</td>\n",
       "      <td>5</td>\n",
       "      <td>253</td>\n",
       "      <td>2022</td>\n",
       "      <td>1</td>\n",
       "      <td>3</td>\n",
       "      <td>2</td>\n",
       "    </tr>\n",
       "    <tr>\n",
       "      <th>2</th>\n",
       "      <td>455</td>\n",
       "      <td>4.867987</td>\n",
       "      <td>0</td>\n",
       "      <td>0</td>\n",
       "      <td>13.302265</td>\n",
       "      <td>9</td>\n",
       "      <td>245</td>\n",
       "      <td>2022</td>\n",
       "      <td>1</td>\n",
       "      <td>1</td>\n",
       "      <td>0</td>\n",
       "    </tr>\n",
       "    <tr>\n",
       "      <th>3</th>\n",
       "      <td>1107</td>\n",
       "      <td>16.968596</td>\n",
       "      <td>1</td>\n",
       "      <td>1</td>\n",
       "      <td>10.056158</td>\n",
       "      <td>5</td>\n",
       "      <td>265</td>\n",
       "      <td>2022</td>\n",
       "      <td>1</td>\n",
       "      <td>3</td>\n",
       "      <td>2</td>\n",
       "    </tr>\n",
       "    <tr>\n",
       "      <th>4</th>\n",
       "      <td>1447</td>\n",
       "      <td>4.309673</td>\n",
       "      <td>1</td>\n",
       "      <td>2</td>\n",
       "      <td>3.562862</td>\n",
       "      <td>8</td>\n",
       "      <td>334</td>\n",
       "      <td>2022</td>\n",
       "      <td>1</td>\n",
       "      <td>3</td>\n",
       "      <td>0</td>\n",
       "    </tr>\n",
       "  </tbody>\n",
       "</table>\n",
       "</div>"
      ],
      "text/plain": [
       "   Sales_Volume      Price  Promotion  Weekday  Supplier_Cost  \\\n",
       "0          1583   5.190661          0        5       9.299281   \n",
       "1          1103   8.949596          0        6      13.274109   \n",
       "2           455   4.867987          0        0      13.302265   \n",
       "3          1107  16.968596          1        1      10.056158   \n",
       "4          1447   4.309673          1        2       3.562862   \n",
       "\n",
       "   Replenishment_Lead_Time  Stock_Level  Year  Month  Product_Category_cat  \\\n",
       "0                        9          207  2022      1                     2   \n",
       "1                        5          253  2022      1                     3   \n",
       "2                        9          245  2022      1                     1   \n",
       "3                        5          265  2022      1                     3   \n",
       "4                        8          334  2022      1                     3   \n",
       "\n",
       "   Store_Location_cat  \n",
       "0                   2  \n",
       "1                   2  \n",
       "2                   0  \n",
       "3                   2  \n",
       "4                   0  "
      ]
     },
     "execution_count": 22,
     "metadata": {},
     "output_type": "execute_result"
    }
   ],
   "source": [
    "data.head()"
   ]
  },
  {
   "cell_type": "markdown",
   "metadata": {},
   "source": [
    "### Modelling\n",
    "- Splitting dataset"
   ]
  },
  {
   "cell_type": "code",
   "execution_count": 24,
   "metadata": {},
   "outputs": [],
   "source": [
    "X = data.drop('Sales_Volume', axis = 1)\n",
    "y = data['Sales_Volume']"
   ]
  },
  {
   "cell_type": "code",
   "execution_count": 26,
   "metadata": {},
   "outputs": [],
   "source": [
    "# Slitting the data (70% for training and 30% for testing).\n",
    "X_train, X_test, y_train, y_test = train_test_split(X, y, test_size=0.3, random_state=0)\n",
    "\n",
    "y_test_actual = y_test\n"
   ]
  },
  {
   "cell_type": "markdown",
   "metadata": {},
   "source": [
    "- Scaling data"
   ]
  },
  {
   "cell_type": "code",
   "execution_count": 28,
   "metadata": {},
   "outputs": [],
   "source": [
    "scaler = StandardScaler()\n",
    "scaler.fit(X_train)\n",
    "X_train_scaled = scaler.transform(X_train)\n",
    "X_test_scaled = scaler.transform(X_test)"
   ]
  },
  {
   "cell_type": "markdown",
   "metadata": {},
   "source": [
    "### Train the Model\n",
    "- Linear Regression Model"
   ]
  },
  {
   "cell_type": "code",
   "execution_count": 29,
   "metadata": {},
   "outputs": [
    {
     "data": {
      "text/html": [
       "<style>#sk-container-id-1 {color: black;background-color: white;}#sk-container-id-1 pre{padding: 0;}#sk-container-id-1 div.sk-toggleable {background-color: white;}#sk-container-id-1 label.sk-toggleable__label {cursor: pointer;display: block;width: 100%;margin-bottom: 0;padding: 0.3em;box-sizing: border-box;text-align: center;}#sk-container-id-1 label.sk-toggleable__label-arrow:before {content: \"▸\";float: left;margin-right: 0.25em;color: #696969;}#sk-container-id-1 label.sk-toggleable__label-arrow:hover:before {color: black;}#sk-container-id-1 div.sk-estimator:hover label.sk-toggleable__label-arrow:before {color: black;}#sk-container-id-1 div.sk-toggleable__content {max-height: 0;max-width: 0;overflow: hidden;text-align: left;background-color: #f0f8ff;}#sk-container-id-1 div.sk-toggleable__content pre {margin: 0.2em;color: black;border-radius: 0.25em;background-color: #f0f8ff;}#sk-container-id-1 input.sk-toggleable__control:checked~div.sk-toggleable__content {max-height: 200px;max-width: 100%;overflow: auto;}#sk-container-id-1 input.sk-toggleable__control:checked~label.sk-toggleable__label-arrow:before {content: \"▾\";}#sk-container-id-1 div.sk-estimator input.sk-toggleable__control:checked~label.sk-toggleable__label {background-color: #d4ebff;}#sk-container-id-1 div.sk-label input.sk-toggleable__control:checked~label.sk-toggleable__label {background-color: #d4ebff;}#sk-container-id-1 input.sk-hidden--visually {border: 0;clip: rect(1px 1px 1px 1px);clip: rect(1px, 1px, 1px, 1px);height: 1px;margin: -1px;overflow: hidden;padding: 0;position: absolute;width: 1px;}#sk-container-id-1 div.sk-estimator {font-family: monospace;background-color: #f0f8ff;border: 1px dotted black;border-radius: 0.25em;box-sizing: border-box;margin-bottom: 0.5em;}#sk-container-id-1 div.sk-estimator:hover {background-color: #d4ebff;}#sk-container-id-1 div.sk-parallel-item::after {content: \"\";width: 100%;border-bottom: 1px solid gray;flex-grow: 1;}#sk-container-id-1 div.sk-label:hover label.sk-toggleable__label {background-color: #d4ebff;}#sk-container-id-1 div.sk-serial::before {content: \"\";position: absolute;border-left: 1px solid gray;box-sizing: border-box;top: 0;bottom: 0;left: 50%;z-index: 0;}#sk-container-id-1 div.sk-serial {display: flex;flex-direction: column;align-items: center;background-color: white;padding-right: 0.2em;padding-left: 0.2em;position: relative;}#sk-container-id-1 div.sk-item {position: relative;z-index: 1;}#sk-container-id-1 div.sk-parallel {display: flex;align-items: stretch;justify-content: center;background-color: white;position: relative;}#sk-container-id-1 div.sk-item::before, #sk-container-id-1 div.sk-parallel-item::before {content: \"\";position: absolute;border-left: 1px solid gray;box-sizing: border-box;top: 0;bottom: 0;left: 50%;z-index: -1;}#sk-container-id-1 div.sk-parallel-item {display: flex;flex-direction: column;z-index: 1;position: relative;background-color: white;}#sk-container-id-1 div.sk-parallel-item:first-child::after {align-self: flex-end;width: 50%;}#sk-container-id-1 div.sk-parallel-item:last-child::after {align-self: flex-start;width: 50%;}#sk-container-id-1 div.sk-parallel-item:only-child::after {width: 0;}#sk-container-id-1 div.sk-dashed-wrapped {border: 1px dashed gray;margin: 0 0.4em 0.5em 0.4em;box-sizing: border-box;padding-bottom: 0.4em;background-color: white;}#sk-container-id-1 div.sk-label label {font-family: monospace;font-weight: bold;display: inline-block;line-height: 1.2em;}#sk-container-id-1 div.sk-label-container {text-align: center;}#sk-container-id-1 div.sk-container {/* jupyter's `normalize.less` sets `[hidden] { display: none; }` but bootstrap.min.css set `[hidden] { display: none !important; }` so we also need the `!important` here to be able to override the default hidden behavior on the sphinx rendered scikit-learn.org. See: https://github.com/scikit-learn/scikit-learn/issues/21755 */display: inline-block !important;position: relative;}#sk-container-id-1 div.sk-text-repr-fallback {display: none;}</style><div id=\"sk-container-id-1\" class=\"sk-top-container\"><div class=\"sk-text-repr-fallback\"><pre>LinearRegression()</pre><b>In a Jupyter environment, please rerun this cell to show the HTML representation or trust the notebook. <br />On GitHub, the HTML representation is unable to render, please try loading this page with nbviewer.org.</b></div><div class=\"sk-container\" hidden><div class=\"sk-item\"><div class=\"sk-estimator sk-toggleable\"><input class=\"sk-toggleable__control sk-hidden--visually\" id=\"sk-estimator-id-1\" type=\"checkbox\" checked><label for=\"sk-estimator-id-1\" class=\"sk-toggleable__label sk-toggleable__label-arrow\">LinearRegression</label><div class=\"sk-toggleable__content\"><pre>LinearRegression()</pre></div></div></div></div></div>"
      ],
      "text/plain": [
       "LinearRegression()"
      ]
     },
     "execution_count": 29,
     "metadata": {},
     "output_type": "execute_result"
    }
   ],
   "source": [
    "linear_reg = LinearRegression()\n",
    "linear_reg.fit(X_train_scaled,y_train)"
   ]
  },
  {
   "cell_type": "code",
   "execution_count": 30,
   "metadata": {},
   "outputs": [
    {
     "data": {
      "application/vnd.microsoft.datawrangler.viewer.v0+json": {
       "columns": [
        {
         "name": "index",
         "rawType": "object",
         "type": "string"
        },
        {
         "name": "Value",
         "rawType": "float64",
         "type": "float"
        }
       ],
       "conversionMethod": "pd.DataFrame",
       "ref": "648eb576-696d-40a7-abc4-0ab54b385e33",
       "rows": [
        [
         "Intercept",
         "1054.492857142859"
        ],
        [
         "Store_Location_cat Coef.",
         "29.86521658088289"
        ],
        [
         "Supplier_Cost Coef.",
         "18.788799837791228"
        ],
        [
         "Replenishment_Lead_Time Coef.",
         "17.341932724954926"
        ],
        [
         "Year Coef.",
         "12.39000037110744"
        ],
        [
         "Promotion Coef.",
         "11.791359937550661"
        ],
        [
         "Weekday Coef.",
         "1.0313978708595872"
        ],
        [
         "Stock_Level Coef.",
         "-4.485649986057766"
        ],
        [
         "Month Coef.",
         "-11.031190023045932"
        ],
        [
         "Price Coef.",
         "-12.739334626770788"
        ],
        [
         "Product_Category_cat Coef.",
         "-19.151305492426715"
        ]
       ],
       "shape": {
        "columns": 1,
        "rows": 11
       }
      },
      "text/html": [
       "<div>\n",
       "<style scoped>\n",
       "    .dataframe tbody tr th:only-of-type {\n",
       "        vertical-align: middle;\n",
       "    }\n",
       "\n",
       "    .dataframe tbody tr th {\n",
       "        vertical-align: top;\n",
       "    }\n",
       "\n",
       "    .dataframe thead th {\n",
       "        text-align: right;\n",
       "    }\n",
       "</style>\n",
       "<table border=\"1\" class=\"dataframe\">\n",
       "  <thead>\n",
       "    <tr style=\"text-align: right;\">\n",
       "      <th></th>\n",
       "      <th>Value</th>\n",
       "    </tr>\n",
       "  </thead>\n",
       "  <tbody>\n",
       "    <tr>\n",
       "      <th>Intercept</th>\n",
       "      <td>1054.492857</td>\n",
       "    </tr>\n",
       "    <tr>\n",
       "      <th>Store_Location_cat Coef.</th>\n",
       "      <td>29.865217</td>\n",
       "    </tr>\n",
       "    <tr>\n",
       "      <th>Supplier_Cost Coef.</th>\n",
       "      <td>18.788800</td>\n",
       "    </tr>\n",
       "    <tr>\n",
       "      <th>Replenishment_Lead_Time Coef.</th>\n",
       "      <td>17.341933</td>\n",
       "    </tr>\n",
       "    <tr>\n",
       "      <th>Year Coef.</th>\n",
       "      <td>12.390000</td>\n",
       "    </tr>\n",
       "    <tr>\n",
       "      <th>Promotion Coef.</th>\n",
       "      <td>11.791360</td>\n",
       "    </tr>\n",
       "    <tr>\n",
       "      <th>Weekday Coef.</th>\n",
       "      <td>1.031398</td>\n",
       "    </tr>\n",
       "    <tr>\n",
       "      <th>Stock_Level Coef.</th>\n",
       "      <td>-4.485650</td>\n",
       "    </tr>\n",
       "    <tr>\n",
       "      <th>Month Coef.</th>\n",
       "      <td>-11.031190</td>\n",
       "    </tr>\n",
       "    <tr>\n",
       "      <th>Price Coef.</th>\n",
       "      <td>-12.739335</td>\n",
       "    </tr>\n",
       "    <tr>\n",
       "      <th>Product_Category_cat Coef.</th>\n",
       "      <td>-19.151305</td>\n",
       "    </tr>\n",
       "  </tbody>\n",
       "</table>\n",
       "</div>"
      ],
      "text/plain": [
       "                                     Value\n",
       "Intercept                      1054.492857\n",
       "Store_Location_cat Coef.         29.865217\n",
       "Supplier_Cost Coef.              18.788800\n",
       "Replenishment_Lead_Time Coef.    17.341933\n",
       "Year Coef.                       12.390000\n",
       "Promotion Coef.                  11.791360\n",
       "Weekday Coef.                     1.031398\n",
       "Stock_Level Coef.                -4.485650\n",
       "Month Coef.                     -11.031190\n",
       "Price Coef.                     -12.739335\n",
       "Product_Category_cat Coef.      -19.151305"
      ]
     },
     "execution_count": 30,
     "metadata": {},
     "output_type": "execute_result"
    }
   ],
   "source": [
    "# The intercept and co-efficient for each column in our training dataset.\n",
    "pd.DataFrame(data = np.append(linear_reg.intercept_ , linear_reg.coef_), index = ['Intercept']+[col+\" Coef.\" for col in X.columns], columns=['Value']).sort_values('Value', ascending=False)\n"
   ]
  },
  {
   "cell_type": "code",
   "execution_count": 31,
   "metadata": {},
   "outputs": [
    {
     "data": {
      "application/vnd.microsoft.datawrangler.viewer.v0+json": {
       "columns": [
        {
         "name": "index",
         "rawType": "object",
         "type": "string"
        },
        {
         "name": "Linear Reg.",
         "rawType": "float64",
         "type": "float"
        }
       ],
       "conversionMethod": "pd.DataFrame",
       "ref": "61b2982e-c441-4c8a-a9f8-428d2a657c33",
       "rows": [
        [
         "MAE",
         "460.27183337343837"
        ],
        [
         "MSE",
         "287471.0968869669"
        ],
        [
         "RMSE",
         "536.1633117688741"
        ],
        [
         "R2-Score",
         "0.004208922329763887"
        ]
       ],
       "shape": {
        "columns": 1,
        "rows": 4
       }
      },
      "text/html": [
       "<div>\n",
       "<style scoped>\n",
       "    .dataframe tbody tr th:only-of-type {\n",
       "        vertical-align: middle;\n",
       "    }\n",
       "\n",
       "    .dataframe tbody tr th {\n",
       "        vertical-align: top;\n",
       "    }\n",
       "\n",
       "    .dataframe thead th {\n",
       "        text-align: right;\n",
       "    }\n",
       "</style>\n",
       "<table border=\"1\" class=\"dataframe\">\n",
       "  <thead>\n",
       "    <tr style=\"text-align: right;\">\n",
       "      <th></th>\n",
       "      <th>Linear Reg.</th>\n",
       "    </tr>\n",
       "  </thead>\n",
       "  <tbody>\n",
       "    <tr>\n",
       "      <th>MAE</th>\n",
       "      <td>460.271833</td>\n",
       "    </tr>\n",
       "    <tr>\n",
       "      <th>MSE</th>\n",
       "      <td>287471.096887</td>\n",
       "    </tr>\n",
       "    <tr>\n",
       "      <th>RMSE</th>\n",
       "      <td>536.163312</td>\n",
       "    </tr>\n",
       "    <tr>\n",
       "      <th>R2-Score</th>\n",
       "      <td>0.004209</td>\n",
       "    </tr>\n",
       "  </tbody>\n",
       "</table>\n",
       "</div>"
      ],
      "text/plain": [
       "            Linear Reg.\n",
       "MAE          460.271833\n",
       "MSE       287471.096887\n",
       "RMSE         536.163312\n",
       "R2-Score       0.004209"
      ]
     },
     "execution_count": 31,
     "metadata": {},
     "output_type": "execute_result"
    }
   ],
   "source": [
    "# Evaluating the model\n",
    "\n",
    "def model_evaluation(model, X_test, y_test, model_name):\n",
    "    y_pred = model.predict(X_test)\n",
    "\n",
    "    MAE = metrics.mean_absolute_error(y_test, y_pred)\n",
    "    MSE = metrics.mean_squared_error(y_test, y_pred)\n",
    "    RMSE = np.sqrt(MSE)\n",
    "    R2_Score = metrics.r2_score(y_test, y_pred)\n",
    "\n",
    "    return pd.DataFrame([MAE, MSE, RMSE, R2_Score], index=['MAE', 'MSE', 'RMSE' ,'R2-Score'], columns=[model_name])\n",
    "\n",
    "model_evaluation(linear_reg, X_test_scaled, y_test, 'Linear Reg.')"
   ]
  },
  {
   "cell_type": "code",
   "execution_count": 32,
   "metadata": {},
   "outputs": [],
   "source": [
    "y_test_pred = linear_reg.predict(X_test_scaled)\n",
    "df_comp = pd.DataFrame({'Actual':y_test_actual, 'Predicted':y_test_pred})"
   ]
  },
  {
   "cell_type": "code",
   "execution_count": null,
   "metadata": {},
   "outputs": [],
   "source": [
    "def compare_plot(df_comp):\n",
    "    df_comp.reset_index(inplace=True)\n",
    "    df_comp.plot(y=['Actual','Predicted'], kind='bar', figsize=(20,7), width=0.8)\n",
    "    plt.title('Predicted vs. Actual Target Values for Test Data', fontsize=20)\n",
    "    plt.ylabel('Selling_Price', fontsize=15)\n",
    "    plt.show()\n",
    "\n",
    "compare_plot(df_comp)"
   ]
  },
  {
   "cell_type": "code",
   "execution_count": null,
   "metadata": {},
   "outputs": [],
   "source": []
  }
 ],
 "metadata": {
  "kernelspec": {
   "display_name": "base",
   "language": "python",
   "name": "python3"
  },
  "language_info": {
   "codemirror_mode": {
    "name": "ipython",
    "version": 3
   },
   "file_extension": ".py",
   "mimetype": "text/x-python",
   "name": "python",
   "nbconvert_exporter": "python",
   "pygments_lexer": "ipython3",
   "version": "3.9.12"
  }
 },
 "nbformat": 4,
 "nbformat_minor": 2
}
